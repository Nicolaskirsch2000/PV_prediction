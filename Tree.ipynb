{
 "cells": [
  {
   "cell_type": "code",
   "execution_count": 189,
   "metadata": {},
   "outputs": [],
   "source": [
    "import numpy as np\n",
    "import pandas as pd\n",
    "from sklearn.datasets import load_boston\n",
    "from sklearn.metrics import r2_score\n",
    "import matplotlib.pyplot as plt\n",
    "import seaborn as sns\n",
    "\n",
    "from sklearn.model_selection import train_test_split\n",
    "\n",
    "import torch\n",
    "from torch import nn\n",
    "import torch.optim as optim\n",
    "\n",
    "from sklearn import tree"
   ]
  },
  {
   "cell_type": "markdown",
   "metadata": {},
   "source": [
    "### Splitting Criteria: RSS"
   ]
  },
  {
   "cell_type": "markdown",
   "metadata": {},
   "source": [
    "Let us now build the regression tree. We start by implementing the splitting criteria which is used to decide the most discriminative features at each step. We use $RSS$ which is computed as follows:\n",
    "\n",
    "$$RSS =\\sum_{\\text {left }}\\left(y_{i}-\\hat{y_{L}}\\right)^{2}+\\sum_{\\text {right }}\\left(y_{i}-\\hat{y_{R}}\\right)^{2}$$\n",
    "\n",
    "where $\\hat{y_L} and \\hat{y_r}$ are mean y-value of left and right nodes."
   ]
  },
  {
   "cell_type": "code",
   "execution_count": 262,
   "metadata": {},
   "outputs": [],
   "source": [
    "def rss(y_left, y_right):\n",
    "    def squared_residual_sum(y):\n",
    "        return np.sum((y - np.mean(y)) ** 2)\n",
    "    \n",
    "    return squared_residual_sum(y_left) + squared_residual_sum(y_right) "
   ]
  },
  {
   "cell_type": "markdown",
   "metadata": {},
   "source": [
    "### Threshold aggregation approach "
   ]
  },
  {
   "cell_type": "code",
   "execution_count": 268,
   "metadata": {},
   "outputs": [],
   "source": [
    "def find_best_rule_federated(X_train, y_train):\n",
    "    best_feature, best_threshold, min_rss = None, None, np.inf\n",
    "    best_thres = [None]*len(X_train[0].columns)\n",
    "    rss_feature = [None]*len(X_train[0].columns)\n",
    "    \n",
    "    if type(X_train[0]) == pd.core.series.Series:\n",
    "        X_train[0] = X_train[0].to_frame()\n",
    "    \n",
    "    for idx, feature in enumerate(X_train[0].columns):\n",
    "        thresholds = [None]*len(X_train)\n",
    "        best_threshold = [None]*len(X_train)\n",
    "        \n",
    "        for i in range(len(X_train)):\n",
    "            min_rss = np.inf\n",
    "            thresholds[i] = X_train[i][feature].unique().tolist()\n",
    "            \n",
    "            thresholds[i].sort()\n",
    "            \n",
    "            \n",
    "            for t in thresholds[i]:\n",
    "                y_left_ix = X_train[i][feature] < t\n",
    "                y_left, y_right = y_train[i][y_left_ix], y_train[i][~y_left_ix]\n",
    "                t_rss = rss(y_left, y_right)\n",
    "                if t_rss.item() < min_rss:\n",
    "                    min_rss = t_rss.item()\n",
    "                    best_threshold[i] = t\n",
    "                \n",
    "                \n",
    "        best_thres[idx] = np.mean(best_threshold)\n",
    "        y_left_ix = X_train[i][feature] < best_thres[idx]\n",
    "        y_left, y_right = y_train[i][y_left_ix], y_train[i][~y_left_ix]\n",
    "        rss_feature[idx] = rss(y_left, y_right)\n",
    "    best_feature = X_train[0].columns[np.argmin(rss_feature)]\n",
    "    best_threshold = best_thres[np.argmin(rss_feature)]\n",
    "\n",
    "    return {'feature': best_feature, 'threshold': best_threshold}\n",
    "\n",
    "\n",
    "def split_federated(X_train, y_train, depth, max_depth):\n",
    "    \n",
    "    if depth == max_depth or len(min(X_train, key=len)) < 2:\n",
    "        y_means = []\n",
    "        for i in y_train: \n",
    "            y_means.append(np.mean(i))\n",
    "        return {'prediction': np.mean(y_means)}\n",
    "    \n",
    "    rule = find_best_rule_federated(X_train, y_train)\n",
    "    X_train_left = [None]*len(X_train)\n",
    "    y_train_left = [None]*len(X_train)\n",
    "    X_train_right = [None]*len(X_train)\n",
    "    y_train_right = [None]*len(X_train)\n",
    "    \n",
    "    for i in range(len(X_train)): \n",
    "        left_ix = X_train[i][rule['feature']] < rule['threshold']\n",
    "        X_train_left[i] = X_train[i][left_ix]\n",
    "        y_train_left[i] = y_train[i][left_ix]\n",
    "        X_train_right[i] = X_train[i][~left_ix]\n",
    "        y_train_right[i] = y_train[i][~left_ix]\n",
    "\n",
    "    \n",
    "    rule['left'] = split_federated(X_train_left, y_train_left, depth + 1, max_depth)\n",
    "    rule['right'] = split_federated(X_train_right, y_train_right, depth + 1, max_depth)\n",
    "    return rule\n",
    "\n",
    "def predict(sample, rules):\n",
    "    prediction = None\n",
    "    while prediction is None:\n",
    "        feature, threshold = rules['feature'], rules['threshold']\n",
    "        if sample[feature] < threshold:\n",
    "            rules = rules['left']\n",
    "        else:\n",
    "            rules = rules['right']\n",
    "        prediction = rules.get('prediction', None)\n",
    "    return prediction\n",
    "\n",
    "def evaluate_fed(X, y):\n",
    "    preds = X.apply(predict, axis='columns', rules=rules_fed.copy())\n",
    "    return r2_score(preds, y)"
   ]
  },
  {
   "cell_type": "markdown",
   "metadata": {},
   "source": [
    "### Random forest style aggregation "
   ]
  },
  {
   "cell_type": "code",
   "execution_count": 267,
   "metadata": {},
   "outputs": [],
   "source": [
    "def find_best_rule_forest(X_train, y_train):\n",
    "    best_feature, best_threshold, min_rss = None, None, np.inf\n",
    "    for feature in X_train.columns:\n",
    "        thresholds = X_train[feature].unique().tolist()\n",
    "        thresholds.sort()\n",
    "        thresholds = thresholds[1:]\n",
    "        for t in thresholds:\n",
    "            y_left_ix = X_train[feature] < t\n",
    "            y_left, y_right = y_train[y_left_ix], y_train[~y_left_ix]\n",
    "            t_rss = rss(y_left, y_right)\n",
    "            if t_rss.item() < min_rss:\n",
    "                min_rss = t_rss.item()\n",
    "                best_threshold = t\n",
    "                best_feature = feature\n",
    "    \n",
    "    return {'feature': best_feature, 'threshold': best_threshold}\n",
    "\n",
    "def split_forest(X_train, y_train, depth, max_depth):\n",
    "    if depth == max_depth or len(X_train) < 2:\n",
    "        return {'prediction': np.mean(y_train)}\n",
    "    \n",
    "    rule = find_best_rule_forest(X_train, y_train)\n",
    "    left_ix = X_train[rule['feature']] < rule['threshold']\n",
    "    rule['left'] = split_forest(X_train[left_ix], y_train[left_ix], depth + 1, max_depth)\n",
    "    rule['right'] = split_forest(X_train[~left_ix], y_train[~left_ix], depth + 1, max_depth)\n",
    "    return rule\n",
    "\n",
    "def forest(X_train, y_train, depth, max_depth):\n",
    "    trees = []\n",
    "    for i in  range(len(X_train)):\n",
    "        trees.append(split_forest(X_train[i],y_train[i], depth, max_depth))\n",
    "    return trees\n",
    "\n",
    "\n",
    "def predict_forest(sample, rules_forest):\n",
    "\n",
    "    predi = []\n",
    "    rules = [None]*len(rules_forest)\n",
    "    for i in range(len(rules)):\n",
    "        rules[i] = rules_forest[i].copy()\n",
    "        prediction = None\n",
    "        while prediction is None:\n",
    "            feature, threshold = rules[i]['feature'], rules[i]['threshold']\n",
    "\n",
    "            if sample[feature] < threshold:\n",
    "                rules[i] = rules[i]['left']\n",
    "            else:\n",
    "                rules[i] = rules[i]['right']\n",
    "\n",
    "            prediction = rules[i].get('prediction', None)\n",
    "\n",
    "        predi.append(prediction)\n",
    "\n",
    "    return np.mean(predi)\n",
    "\n",
    "        \n",
    "def evaluate_forest(X, y):\n",
    "    preds = X.apply(predict_forest, axis='columns', rules_forest = forest_rules.copy())\n",
    "    return r2_score(preds, y)\n"
   ]
  },
  {
   "cell_type": "markdown",
   "metadata": {},
   "source": [
    "### Default tree "
   ]
  },
  {
   "cell_type": "code",
   "execution_count": 266,
   "metadata": {},
   "outputs": [],
   "source": [
    "def find_best_rule(X_train, y_train):\n",
    "    best_feature, best_threshold, min_rss = None, None, np.inf\n",
    "    \n",
    "    if type(X_train) == pd.core.series.Series:\n",
    "        X_train = X_train.to_frame()\n",
    "    \n",
    "    \n",
    "    for feature in X_train.columns:\n",
    "        thresholds = X_train[feature].unique().tolist()\n",
    "        thresholds.sort()\n",
    "        thresholds = thresholds[1:]\n",
    "        for t in thresholds:\n",
    "            y_left_ix = X_train[feature] < t\n",
    "            y_left, y_right = y_train[y_left_ix], y_train[~y_left_ix]\n",
    "            t_rss = rss(y_left, y_right)\n",
    "            if t_rss < min_rss:\n",
    "                min_rss = t_rss\n",
    "                best_threshold = t\n",
    "                best_feature = feature\n",
    "    \n",
    "    return {'feature': best_feature, 'threshold': best_threshold}\n",
    "\n",
    "\n",
    "\n",
    "def split(X_train, y_train, depth, max_depth):\n",
    "    if depth == max_depth or len(X_train) < 2:\n",
    "\n",
    "        return {'prediction': np.mean(y_train)}\n",
    "    \n",
    "    rule = find_best_rule(X_train, y_train)\n",
    "\n",
    "    left_ix = X_train[rule['feature']] < rule['threshold']\n",
    "    rule['left'] = split(X_train[left_ix], y_train[left_ix], depth + 1, max_depth)\n",
    "    rule['right'] = split(X_train[~left_ix], y_train[~left_ix], depth + 1, max_depth)\n",
    "    return rule\n",
    "\n",
    "def predict(sample, rules):\n",
    "    prediction = None\n",
    "    while prediction is None:\n",
    "        feature, threshold = rules['feature'], rules['threshold']\n",
    "        if sample[feature] < threshold:\n",
    "            rules = rules['left']\n",
    "        else:\n",
    "            rules = rules['right']\n",
    "        prediction = rules.get('prediction', None)\n",
    "        \n",
    "    return prediction\n",
    "\n",
    "\n",
    "def evaluate(X, y):\n",
    "    preds = X.apply(predict, axis='columns', rules=rules.copy())\n",
    "    return r2_score(preds, y)\n"
   ]
  },
  {
   "cell_type": "markdown",
   "metadata": {},
   "source": [
    "### Random example "
   ]
  },
  {
   "cell_type": "code",
   "execution_count": 123,
   "metadata": {},
   "outputs": [],
   "source": [
    "def prepare_dataset():\n",
    "    boston = load_boston()\n",
    "    X_y = np.column_stack([boston['data'], boston['target']])\n",
    "    np.random.seed(1)\n",
    "    np.random.shuffle(X_y)\n",
    "    \n",
    "    X, y = X_y[:,:-1], X_y[:,-1]\n",
    "    X_train, y_train, X_test, y_test = X[:400], y[:400], X[400:], y[400:]\n",
    "    X_train = pd.DataFrame(X_train, columns=boston['feature_names'])\n",
    "    X_test = pd.DataFrame(X_test, columns=boston['feature_names'])\n",
    "    y_train = pd.Series(y_train, name='House Price')\n",
    "    y_test = pd.Series(y_test, name='House Price')\n",
    "    return X_train, y_train, X_test, y_test\n",
    "\n",
    "\n",
    "\n"
   ]
  },
  {
   "cell_type": "code",
   "execution_count": 6,
   "metadata": {},
   "outputs": [
    {
     "data": {
      "text/plain": [
       "pandas.core.frame.DataFrame"
      ]
     },
     "execution_count": 6,
     "metadata": {},
     "output_type": "execute_result"
    }
   ],
   "source": [
    "a = np.array_split(X_train, 3)\n",
    "type(a[0])"
   ]
  },
  {
   "cell_type": "code",
   "execution_count": 372,
   "metadata": {},
   "outputs": [
    {
     "name": "stdout",
     "output_type": "stream",
     "text": [
      "Training R2: 0.7708091374308115 Test R2: 0.7196592096391115\n"
     ]
    }
   ],
   "source": [
    "X_train, y_train, X_test, y_test = prepare_dataset()\n",
    "\n",
    "rules = split(X_train, y_train, 0, 3)\n",
    "\n",
    "train_r2 = evaluate(X_train, y_train)\n",
    "test_r2 = evaluate(X_test, y_test)\n",
    "print('Training R2:', train_r2, 'Test R2:',test_r2)"
   ]
  },
  {
   "cell_type": "code",
   "execution_count": 143,
   "metadata": {},
   "outputs": [
    {
     "name": "stdout",
     "output_type": "stream",
     "text": [
      "3\n",
      "{'feature': 'LSTAT', 'threshold': 9.236666666666666}\n",
      "{'feature': 'LSTAT', 'threshold': 5.216666666666666}\n",
      "{'feature': 'CRIM', 'threshold': 0.7158766666666666}\n",
      "35.57714285714286\n",
      "49.03333333333333\n",
      "{'feature': 'RM', 'threshold': 7.129666666666666}\n",
      "24.400026881720432\n",
      "36.01777777777778\n",
      "{'feature': 'LSTAT', 'threshold': 16.546666666666667}\n",
      "{'feature': 'LSTAT', 'threshold': 11.533333333333333}\n",
      "22.249603174603177\n",
      "19.492597701149425\n",
      "{'feature': 'CRIM', 'threshold': 6.006896666666666}\n",
      "16.633015873015868\n",
      "11.944004329004331\n",
      "Test R2: 0.4918790710957702\n"
     ]
    }
   ],
   "source": [
    "X_train, y_train, X_test, y_test = prepare_dataset()\n",
    "X_train[\"y\"] = y_train\n",
    "a = np.array_split(X_train, 3)\n",
    "a\n",
    "x_t = []\n",
    "y_t = []\n",
    "for i in range(0,3): \n",
    "    x_t.append(a[i].loc[:, a[i].columns != 'y'])\n",
    "    y_t.append(a[i].loc[:, a[i].columns == 'y'])\n",
    "\n",
    "rules_fed = split_federated(x_t, y_t, 0, 3)\n",
    "\n",
    "#train_r2 = evaluate_fed(X_train, y_train)\n",
    "test_r2 = evaluate_fed(X_test, y_test)\n",
    "print('Test R2:',test_r2)"
   ]
  },
  {
   "cell_type": "code",
   "execution_count": 176,
   "metadata": {},
   "outputs": [
    {
     "name": "stdout",
     "output_type": "stream",
     "text": [
      "{'feature': 'RM', 'threshold': 6.982}\n",
      "{'feature': 'DIS', 'threshold': 1.9512}\n",
      "{'feature': 'CRIM', 'threshold': 9.91655}\n",
      "14.680000000000001\n",
      "10.0\n",
      "{'feature': 'LSTAT', 'threshold': 10.24}\n",
      "24.472727272727276\n",
      "20.46153846153846\n",
      "{'feature': 'RM', 'threshold': 7.831}\n",
      "{'feature': 'INDUS', 'threshold': 6.96}\n",
      "32.4\n",
      "35.2\n",
      "{'feature': 'CRIM', 'threshold': 0.31533}\n",
      "50.0\n",
      "47.4\n",
      "0.4379592980507183\n"
     ]
    }
   ],
   "source": [
    "X_train, y_train, X_test, y_test = prepare_dataset()\n",
    "X = X_train.sample(n = 40).sort_index()\n",
    "y = y_train[y_train.index.isin(X.index)]\n",
    "\n",
    "rules = split(X, y,0,3)\n",
    "\n",
    "test_r2 = evaluate(X_test,y_test)\n",
    "print(test_r2)"
   ]
  },
  {
   "cell_type": "code",
   "execution_count": 179,
   "metadata": {},
   "outputs": [
    {
     "data": {
      "text/plain": [
       "numpy.ndarray"
      ]
     },
     "execution_count": 179,
     "metadata": {},
     "output_type": "execute_result"
    }
   ],
   "source": [
    "type(cc.to_numpy())"
   ]
  },
  {
   "cell_type": "code",
   "execution_count": 166,
   "metadata": {},
   "outputs": [
    {
     "name": "stdout",
     "output_type": "stream",
     "text": [
      "0.6021822198266922\n"
     ]
    }
   ],
   "source": [
    "X_train, y_train, X_test, y_test = prepare_dataset()\n",
    "X_train[\"y\"] = y_train\n",
    "a = np.array_split(X_train, 10)\n",
    "\n",
    "x_t = []\n",
    "y_t = []\n",
    "for i in range(0,10): \n",
    "    x_t.append(a[i].loc[:, a[i].columns != 'y'])\n",
    "    y_t.append(a[i].loc[:, a[i].columns == 'y'])\n",
    "\n",
    "forest_rules = forest(x_t,y_t, 0,5)\n",
    "\n",
    "test_r2 = evaluate_forest(X_test,y_test)\n",
    "print(test_r2)"
   ]
  },
  {
   "cell_type": "code",
   "execution_count": 212,
   "metadata": {},
   "outputs": [
    {
     "data": {
      "text/plain": [
       "0.4928223021422895"
      ]
     },
     "execution_count": 212,
     "metadata": {},
     "output_type": "execute_result"
    }
   ],
   "source": [
    "X_train, y_train, X_test, y_test = prepare_dataset()\n",
    "X = X_train.sample(n = 40).sort_index()\n",
    "y = y_train[y_train.index.isin(X.index)]\n",
    "\n",
    "clf = tree.DecisionTreeRegressor(max_depth=5)\n",
    "clf = clf.fit(X, y)\n",
    "pred = clf.predict(X_test)\n",
    "\n",
    "r2_score(pred, y_test)\n"
   ]
  },
  {
   "cell_type": "markdown",
   "metadata": {},
   "source": [
    "## Test with toy data "
   ]
  },
  {
   "cell_type": "code",
   "execution_count": 272,
   "metadata": {},
   "outputs": [
    {
     "data": {
      "image/png": "[encoded data removed]",
      "text/plain": [
       "<Figure size 432x288 with 1 Axes>"
      ]
     },
     "metadata": {
      "needs_background": "light"
     },
     "output_type": "display_data"
    }
   ],
   "source": [
    "rng = np.random.default_rng()\n",
    "x = np.linspace(0, 10, 500)\n",
    "\n",
    "y = np.where(x < 5, x, 5) + rng.normal(0, 0.4, size=x.shape)\n",
    "#x = x.reshape(-1,1)\n",
    "\n",
    "df = pd.DataFrame({'x' : x, \"x_2\": x, 'y' : y})\n",
    "\n",
    "#hide_input\n",
    "\n",
    "plt.scatter(x,y, label='y')\n",
    "plt.xlabel('x')\n",
    "plt.ylabel('y')\n",
    "plt.legend();"
   ]
  },
  {
   "cell_type": "code",
   "execution_count": 273,
   "metadata": {},
   "outputs": [
    {
     "name": "stdout",
     "output_type": "stream",
     "text": [
      "0.9466868596422234\n"
     ]
    }
   ],
   "source": [
    "X_train, X_test, y_train, y_test = train_test_split(df[\"x\"].to_frame(), df[\"y\"], test_size=0.33, random_state=42)\n",
    "\n",
    "X_train[\"y\"] = y_train\n",
    "a = np.array_split(X_train, 5)\n",
    "\n",
    "x_t = []\n",
    "y_t = []\n",
    "for i in range(0,5): \n",
    "    x_t.append(a[i].loc[:, a[i].columns != 'y'])\n",
    "    y_t.append(a[i].loc[:, a[i].columns == 'y'])\n",
    "\n",
    "forest_rules = forest(x_t,y_t, 0,3)\n",
    "\n",
    "test_r2 = evaluate_forest(X_test,y_test)\n",
    "print(test_r2)\n",
    "\n",
    "\n"
   ]
  },
  {
   "cell_type": "code",
   "execution_count": 274,
   "metadata": {},
   "outputs": [
    {
     "name": "stdout",
     "output_type": "stream",
     "text": [
      "0.9430353312164633\n"
     ]
    }
   ],
   "source": [
    "X_train, X_test, y_train, y_test = train_test_split(df[[\"x\",\"x_2\"]], df[\"y\"], test_size=0.33, random_state=42)\n",
    "\n",
    "X = X_train.sample(n = 100).sort_index()\n",
    "y = y_train[y_train.index.isin(X.index)]\n",
    "\n",
    "rules = split(X, y,0,3)\n",
    "\n",
    "test_r2 = evaluate(X_test,y_test)\n",
    "print(test_r2)\n",
    "\n"
   ]
  },
  {
   "cell_type": "code",
   "execution_count": 276,
   "metadata": {},
   "outputs": [
    {
     "name": "stdout",
     "output_type": "stream",
     "text": [
      "Test R2: 0.9396827196778756\n"
     ]
    }
   ],
   "source": [
    "X_train, X_test, y_train, y_test = train_test_split(df[[\"x\"]], df[\"y\"], test_size=0.33, random_state=42)\n",
    "\n",
    "X_train[\"y\"] = y_train\n",
    "a = np.array_split(X_train, 5)\n",
    "\n",
    "x_t = []\n",
    "y_t = []\n",
    "for i in range(0,5): \n",
    "    x_t.append(a[i].loc[:, a[i].columns != 'y'])\n",
    "    y_t.append(a[i].loc[:, a[i].columns == 'y'])\n",
    "\n",
    "rules_fed = split_federated(x_t, y_t, 0, 3)\n",
    "\n",
    "#train_r2 = evaluate_fed(X_train, y_train)\n",
    "test_r2 = evaluate_fed(X_test, y_test)\n",
    "print('Test R2:',test_r2)"
   ]
  }
 ],
 "metadata": {
  "kernelspec": {
   "display_name": "Python 3 (ipykernel)",
   "language": "python",
   "name": "python3"
  },
  "language_info": {
   "codemirror_mode": {
    "name": "ipython",
    "version": 3
   },
   "file_extension": ".py",
   "mimetype": "text/x-python",
   "name": "python",
   "nbconvert_exporter": "python",
   "pygments_lexer": "ipython3",
   "version": "3.9.7"
  }
 },
 "nbformat": 4,
 "nbformat_minor": 4
}
