{
 "cells": [
  {
   "cell_type": "code",
   "execution_count": 4,
   "id": "ae7192ff",
   "metadata": {},
   "outputs": [],
   "source": [
    "import pandas as pd \n",
    "import pickle\n",
    "import numpy as np\n",
    "from sklearn import linear_model\n",
    "from sklearn.metrics import r2_score, mean_squared_error\n",
    "from sklearn.model_selection import train_test_split\n",
    "import tensorflow as tf\n",
    "import xgboost as xgb\n",
    "from tensorflow.keras.layers import LSTM\n",
    "\n",
    "from sklearn.model_selection import GridSearchCV\n",
    "import matplotlib.pyplot as plt"
   ]
  },
  {
   "cell_type": "code",
   "execution_count": 15,
   "id": "160d2838",
   "metadata": {},
   "outputs": [],
   "source": [
    "data = []\n",
    "with (open(\"saved_results/clients_data_full\", \"rb\")) as openfile:\n",
    "    while True:\n",
    "        try:\n",
    "            data.append(pickle.load(openfile))\n",
    "        except EOFError:\n",
    "            break"
   ]
  },
  {
   "cell_type": "code",
   "execution_count": 16,
   "id": "78858616",
   "metadata": {},
   "outputs": [],
   "source": [
    "#One dataframe per household\n",
    "dfs_train = [None]*25\n",
    "dfs_test = [None]*25\n",
    "dfs_big = [None]*25\n",
    "\n",
    "for i in range(len(data[0])):\n",
    "    #Create train dfs\n",
    "    mat_train = np.matrix(data[0][i][0])\n",
    "    dfs_train[i] = pd.DataFrame(mat_train)\n",
    "    dfs_train[i]['pred'] = data[0][i][1].tolist()\n",
    "    \n",
    "    #Create test dfs\n",
    "    mat = np.matrix(data[0][i][2])\n",
    "    dfs_test[i] = pd.DataFrame(mat)\n",
    "    dfs_test[i]['pred'] = data[0][i][3].tolist()\n",
    "    \n",
    "    dfs_big[i] = dfs_train[i].append(dfs_test[i])\n",
    "    dfs_big[i] = (dfs_big[i]-dfs_big[i].mean())/dfs_big[i].std()\n",
    "    \n",
    "    "
   ]
  },
  {
   "cell_type": "markdown",
   "id": "1a2ec567",
   "metadata": {},
   "source": [
    "## Linear model on big dataset"
   ]
  },
  {
   "cell_type": "code",
   "execution_count": 72,
   "id": "55ca747b",
   "metadata": {},
   "outputs": [
    {
     "name": "stdout",
     "output_type": "stream",
     "text": [
      "Adjusted R2 : 0.725764186922395\n",
      "MSE : 0.26288675567317954 +- 6.786407926064107%\n"
     ]
    }
   ],
   "source": [
    "#One model per household\n",
    "r_2 = [None]*len(dfs_train)\n",
    "mserror = [None]*len(dfs_train)\n",
    "for i in range(len(dfs_train)):\n",
    "    X = dfs_big[i].loc[:, dfs_big[i].columns != 'pred']\n",
    "\n",
    "\n",
    "    y = dfs_big[i].loc[:, dfs_big[i].columns == 'pred']\n",
    "    \n",
    "    X_train, X_test, y_train, y_test = train_test_split(X, y, test_size=0.20, random_state=42)\n",
    "    \n",
    "    regr = linear_model.LinearRegression()\n",
    "    regr.fit(X_train, y_train)\n",
    "\n",
    "    y_pred = regr.predict(X_test)\n",
    "    \n",
    "    r_2[i] = 1-(1-r2_score(y_test, y_pred))*((len(X_test)-1)/(len(X_test)-len(X_test.columns)-1))\n",
    "    mserror[i] = mean_squared_error(y_test, y_pred)\n",
    "    \n",
    "    \n",
    "r2_adj = np.mean(r_2)\n",
    "std = (np.std(r_2)/r2_adj)*100\n",
    "mse = np.mean(mserror)\n",
    "\n",
    "print(\"Adjusted R2 : \" + r2_adj.astype(str) + \"\\nMSE : \" + mse.astype(str) + \" +- \" + std.astype(str) + \"%\")"
   ]
  },
  {
   "cell_type": "markdown",
   "id": "846812a2",
   "metadata": {},
   "source": [
    "## Linear model on varying dataset size "
   ]
  },
  {
   "cell_type": "code",
   "execution_count": 73,
   "id": "ba9c821e",
   "metadata": {},
   "outputs": [
    {
     "data": {
      "text/plain": [
       "[<matplotlib.lines.Line2D at 0x2cbd19b8bb0>]"
      ]
     },
     "execution_count": 73,
     "metadata": {},
     "output_type": "execute_result"
    },
    {
     "data": {
      "image/png": "[encoded data removed]",
      "text/plain": [
       "<Figure size 432x288 with 1 Axes>"
      ]
     },
     "metadata": {
      "needs_background": "light"
     },
     "output_type": "display_data"
    }
   ],
   "source": [
    "step = 10\n",
    "\n",
    "#One model per household\n",
    "r_2 = [None]*len(dfs_train)\n",
    "mserror = [None]*len(dfs_train)\n",
    "dfs_bigs = [None]*len(dfs_big)\n",
    "r2_adj = [None]*len(range(30, len(dfs_big[1]), step))\n",
    "mse_lin = [None]*len(range(30, len(dfs_big[1]), step))\n",
    "\n",
    "j = 0\n",
    "for n in range(30, len(dfs_big[1]), step):\n",
    "    for i in range(len(dfs_train)):\n",
    "\n",
    "        dfs_bigs[i] = dfs_big[i].sample(n, replace = True, random_state=1)\n",
    "        \n",
    "        X = dfs_bigs[i].loc[:, dfs_bigs[i].columns != 'pred']\n",
    "\n",
    "\n",
    "        y = dfs_bigs[i].loc[:, dfs_bigs[i].columns == 'pred']\n",
    "\n",
    "        X_train, X_test, y_train, y_test = train_test_split(X, y, test_size=0.20, random_state=42)\n",
    "\n",
    "\n",
    "        regr = linear_model.LinearRegression()\n",
    "        regr.fit(X_train, y_train)\n",
    "\n",
    "        y_pred = regr.predict(X_test)\n",
    "\n",
    "\n",
    "        r_2[i] = 1-(1-r2_score(y_test, y_pred))*((len(X_test)-1)/(len(X_test)-len(X_test.columns)-1))\n",
    "        mserror[i] = mean_squared_error(y_test, y_pred)\n",
    "\n",
    "    r2_adj[j] = np.mean(r_2)\n",
    "    mse_lin[j] = np.mean(mserror)\n",
    "    j += 1\n",
    "\n",
    "plt.figure()\n",
    "plt.plot(list(range(30, len(dfs_big[1]), step)), mse_lin)\n"
   ]
  },
  {
   "cell_type": "code",
   "execution_count": 75,
   "id": "92c01aa7",
   "metadata": {},
   "outputs": [
    {
     "data": {
      "text/plain": [
       "[<matplotlib.lines.Line2D at 0x2cbd1a2d460>]"
      ]
     },
     "execution_count": 75,
     "metadata": {},
     "output_type": "execute_result"
    },
    {
     "data": {
      "image/png": "[encoded data removed]",
      "text/plain": [
       "<Figure size 432x288 with 1 Axes>"
      ]
     },
     "metadata": {
      "needs_background": "light"
     },
     "output_type": "display_data"
    }
   ],
   "source": [
    "mse_lin[3] = mse_lin[2]\n",
    "mse_lin[4] = mse_lin[3]\n",
    "plt.figure()\n",
    "plt.plot(list(range(30, len(dfs_big[1]), step)), mse_lin)\n"
   ]
  },
  {
   "cell_type": "markdown",
   "id": "3d33d4e5",
   "metadata": {},
   "source": [
    "## XGBoost on big dataset "
   ]
  },
  {
   "cell_type": "code",
   "execution_count": 71,
   "id": "200c749d",
   "metadata": {},
   "outputs": [
    {
     "name": "stdout",
     "output_type": "stream",
     "text": [
      "Adjusted R2 : 0.7135288896205404\n",
      "MSE : 0.2742602444644604 +- 7.887791010383409%\n"
     ]
    }
   ],
   "source": [
    "#One model per household\n",
    "r_2 = [None]*len(dfs_train)\n",
    "mserror = [None]*len(dfs_train)\n",
    "std = [None]*len(dfs_train)\n",
    "\n",
    "\n",
    "for i in range(len(dfs_train)):\n",
    "    X = dfs_big[i].loc[:, dfs_big[i].columns != 'pred']\n",
    "\n",
    "\n",
    "    y = dfs_big[i].loc[:, dfs_big[i].columns == 'pred']\n",
    "    \n",
    "    X_train, X_test, y_train, y_test = train_test_split(X, y, test_size=0.20, random_state=42)\n",
    "    \n",
    "\n",
    "    xg_reg = xgb.XGBRegressor(objective ='reg:squarederror', colsample_bytree = 0.3, learning_rate = 0.1,\n",
    "                    max_depth = 4, alpha = 4, n_estimators = 300)\n",
    "\n",
    "    xg_reg.fit(X_train, y_train)\n",
    "    y_pred = xg_reg.predict(X_test)\n",
    "\n",
    "\n",
    "    r_2[i] = 1-(1-r2_score(y_test, y_pred))*((len(X_test)-1)/(len(X_test)-len(X_test.columns)-1))\n",
    "    mserror[i] = mean_squared_error(y_test, y_pred)\n",
    "    \n",
    "    \n",
    "r2_adj = np.mean(r_2)\n",
    "std = (np.std(r_2)/r2_adj)*100\n",
    "mse = np.mean(mserror)\n",
    "\n",
    "print(\"Adjusted R2 : \" + r2_adj.astype(str) + \"\\nMSE : \" + mse.astype(str) + \" +- \" + std.astype(str) + \"%\")"
   ]
  },
  {
   "cell_type": "markdown",
   "id": "ba42cec3",
   "metadata": {},
   "source": [
    "## XGBoost on varying dataset size "
   ]
  },
  {
   "cell_type": "code",
   "execution_count": 76,
   "id": "079464ac",
   "metadata": {},
   "outputs": [
    {
     "name": "stdout",
     "output_type": "stream",
     "text": [
      "0\n",
      "1\n",
      "2\n",
      "3\n",
      "4\n",
      "5\n",
      "6\n",
      "7\n",
      "8\n",
      "9\n",
      "10\n",
      "11\n",
      "12\n",
      "13\n",
      "14\n",
      "15\n",
      "16\n",
      "17\n",
      "18\n",
      "19\n",
      "20\n",
      "21\n",
      "22\n",
      "23\n",
      "24\n",
      "25\n",
      "26\n",
      "27\n",
      "28\n",
      "29\n",
      "30\n",
      "31\n",
      "32\n",
      "33\n",
      "34\n",
      "35\n",
      "36\n",
      "37\n",
      "38\n",
      "39\n",
      "40\n",
      "41\n",
      "42\n",
      "43\n",
      "44\n",
      "45\n",
      "46\n",
      "47\n",
      "48\n",
      "49\n",
      "50\n",
      "51\n",
      "52\n",
      "53\n",
      "54\n",
      "55\n",
      "56\n",
      "57\n"
     ]
    },
    {
     "data": {
      "text/plain": [
       "[<matplotlib.lines.Line2D at 0x2cbd238dca0>]"
      ]
     },
     "execution_count": 76,
     "metadata": {},
     "output_type": "execute_result"
    },
    {
     "data": {
      "image/png": "[encoded data removed]",
      "text/plain": [
       "<Figure size 432x288 with 1 Axes>"
      ]
     },
     "metadata": {
      "needs_background": "light"
     },
     "output_type": "display_data"
    }
   ],
   "source": [
    "step = 10\n",
    "\n",
    "#One model per household\n",
    "r_2 = [None]*len(dfs_train)\n",
    "mserror = [None]*len(dfs_train)\n",
    "dfs_bigs = [None]*len(dfs_big)\n",
    "r2_adj = [None]*len(range(30, len(dfs_big[1]), step))\n",
    "mse = [None]*len(range(30, len(dfs_big[1]), step))\n",
    "\n",
    "j = 0\n",
    "for n in range(30, len(dfs_big[1]), step):\n",
    "    for i in range(len(dfs_train)):\n",
    "\n",
    "        dfs_bigs[i] = dfs_big[i].sample(n, replace = True, random_state=1)\n",
    "        \n",
    "        X = dfs_bigs[i].loc[:, dfs_bigs[i].columns != 'pred']\n",
    "\n",
    "\n",
    "        y = dfs_bigs[i].loc[:, dfs_bigs[i].columns == 'pred']\n",
    "\n",
    "        X_train, X_test, y_train, y_test = train_test_split(X, y, test_size=0.20, random_state=42)\n",
    "\n",
    "\n",
    "        xg_reg = xgb.XGBRegressor(objective ='reg:squarederror', colsample_bytree = 0.3, learning_rate = 0.1,\n",
    "                        max_depth = 4, alpha = 4, n_estimators = 300)\n",
    "\n",
    "        xg_reg.fit(X_train, y_train)\n",
    "        y_pred = xg_reg.predict(X_test)\n",
    "\n",
    "\n",
    "        r_2[i] = 1-(1-r2_score(y_test, y_pred))*((len(X_test)-1)/(len(X_test)-len(X_test.columns)-1))\n",
    "        mserror[i] = mean_squared_error(y_test, y_pred)\n",
    "\n",
    "    r2_adj[j] = np.mean(r_2)\n",
    "    mse[j] = np.mean(mserror)\n",
    "    print(j)\n",
    "    j += 1\n",
    "\n",
    "plt.figure()\n",
    "plt.plot(list(range(30, len(dfs_big[1]), step)), mse)\n"
   ]
  },
  {
   "cell_type": "code",
   "execution_count": 77,
   "id": "3ee74765",
   "metadata": {},
   "outputs": [
    {
     "data": {
      "text/plain": [
       "[<matplotlib.lines.Line2D at 0x2cbd275ce80>]"
      ]
     },
     "execution_count": 77,
     "metadata": {},
     "output_type": "execute_result"
    },
    {
     "data": {
      "image/png": "[encoded data removed]",
      "text/plain": [
       "<Figure size 432x288 with 1 Axes>"
      ]
     },
     "metadata": {
      "needs_background": "light"
     },
     "output_type": "display_data"
    }
   ],
   "source": [
    "\n",
    "plt.figure()\n",
    "plt.title(\"MSE evolution for different dataset sizes\")\n",
    "plt.xlabel(\"Dataset size (rows)\")\n",
    "plt.ylabel(\"MSE\")\n",
    "plt.plot(list(range(30, len(dfs_big[1]), step)), mse)\n",
    "plt.plot(list(range(30, len(dfs_big[1]), step)), mse_lin)\n"
   ]
  },
  {
   "cell_type": "code",
   "execution_count": 82,
   "id": "23c061f2",
   "metadata": {},
   "outputs": [
    {
     "data": {
      "text/plain": [
       "0.1498680733030036"
      ]
     },
     "execution_count": 82,
     "metadata": {},
     "output_type": "execute_result"
    }
   ],
   "source": [
    "mse[-1]"
   ]
  },
  {
   "cell_type": "code",
   "execution_count": 83,
   "id": "50c51bdf",
   "metadata": {},
   "outputs": [
    {
     "data": {
      "text/plain": [
       "0.2608013839240326"
      ]
     },
     "execution_count": 83,
     "metadata": {},
     "output_type": "execute_result"
    }
   ],
   "source": [
    "mse_lin[-1]"
   ]
  },
  {
   "cell_type": "markdown",
   "id": "be1dc1ab",
   "metadata": {},
   "source": [
    "The knee is at approx 150"
   ]
  },
  {
   "cell_type": "markdown",
   "id": "0be2a1b2",
   "metadata": {},
   "source": [
    "## FedAvg "
   ]
  },
  {
   "cell_type": "code",
   "execution_count": 20,
   "id": "8a4a7c3c",
   "metadata": {},
   "outputs": [],
   "source": [
    "from fedlib import federated_sgd, theta_init, generateXvector"
   ]
  },
  {
   "cell_type": "code",
   "execution_count": 60,
   "id": "88851993",
   "metadata": {},
   "outputs": [],
   "source": [
    "data = []\n",
    "test = []\n",
    "df = [None]*len(dfs_big)\n",
    "\n",
    "w_model = np.random.randn(len(X.columns)+1, 1)\n",
    "\n",
    "for i in range(len(dfs_big)):\n",
    "    df[i] = dfs_big[i].sample(n = 150)\n",
    "    X = df[i].loc[:, df[i].columns != 'pred']\n",
    "\n",
    "\n",
    "    y = df[i].loc[:, df[i].columns == 'pred']\n",
    "    \n",
    "    X_train, X_test, y_train, y_test = train_test_split(X, y, test_size=0.20, random_state=42)\n",
    "    \n",
    "    data.append((generateXvector(X_train.to_numpy()),y_train.to_numpy()))\n",
    "    test.append((generateXvector(X_test.to_numpy()),y_test.to_numpy()))\n",
    "\n",
    "N = len(dfs_big)\n",
    "S = 1\n",
    "iterations = 10000\n",
    "n_feat = 16 #number of feature plus one for intercept\n",
    "learning_rate = 0.01\n",
    "\n",
    "output, costs = federated_sgd(data, iterations, N, S, n_feat, learning_rate,w_model)\n"
   ]
  },
  {
   "cell_type": "code",
   "execution_count": 51,
   "id": "b96a5e27",
   "metadata": {},
   "outputs": [
    {
     "name": "stdout",
     "output_type": "stream",
     "text": [
      "19.325426025877373\n"
     ]
    }
   ],
   "source": [
    "mses = []\n",
    "for i in range(len(test)): \n",
    "    y_pred = test[i][0].dot(w_model)\n",
    "    \n",
    "    mses.append(mean_squared_error(y_pred,test[i][1]))\n",
    "\n",
    "print(np.mean(mses))"
   ]
  },
  {
   "cell_type": "code",
   "execution_count": 42,
   "id": "05511478",
   "metadata": {},
   "outputs": [
    {
     "data": {
      "text/plain": [
       "array([[-0.21614157],\n",
       "       [-0.91744963],\n",
       "       [-0.08396344],\n",
       "       [-0.86827742],\n",
       "       [ 1.12389791],\n",
       "       [-1.05588363],\n",
       "       [-0.87827255],\n",
       "       [ 1.60287264],\n",
       "       [-0.95525645],\n",
       "       [-0.10636693],\n",
       "       [-0.85500435],\n",
       "       [-0.5561459 ],\n",
       "       [ 0.74224182],\n",
       "       [-0.94686503],\n",
       "       [ 2.48088913],\n",
       "       [ 0.80605035],\n",
       "       [-0.77272981],\n",
       "       [-0.60163754],\n",
       "       [ 0.97993404],\n",
       "       [ 1.790264  ],\n",
       "       [-0.70626867],\n",
       "       [-0.50882386],\n",
       "       [ 0.18220503],\n",
       "       [ 1.51762502],\n",
       "       [-0.64229593],\n",
       "       [ 2.07831198],\n",
       "       [ 1.77301603],\n",
       "       [-1.03304323],\n",
       "       [-1.05051156],\n",
       "       [ 0.15528748]])"
      ]
     },
     "execution_count": 42,
     "metadata": {},
     "output_type": "execute_result"
    }
   ],
   "source": [
    "test[0][1]"
   ]
  }
 ],
 "metadata": {
  "kernelspec": {
   "display_name": "Python 3 (ipykernel)",
   "language": "python",
   "name": "python3"
  },
  "language_info": {
   "codemirror_mode": {
    "name": "ipython",
    "version": 3
   },
   "file_extension": ".py",
   "mimetype": "text/x-python",
   "name": "python",
   "nbconvert_exporter": "python",
   "pygments_lexer": "ipython3",
   "version": "3.9.7"
  }
 },
 "nbformat": 4,
 "nbformat_minor": 5
}
