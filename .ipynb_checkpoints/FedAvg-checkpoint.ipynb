{
 "cells": [
  {
   "cell_type": "code",
   "execution_count": 1,
   "id": "6a5ea5e1",
   "metadata": {},
   "outputs": [],
   "source": [
    "import numpy as np\n",
    "import random\n",
    "import matplotlib\n",
    "import matplotlib.pyplot as plt\n",
    "import sklearn.datasets as dt\n",
    "from sklearn.model_selection import train_test_split\n",
    "import pandas as pd\n",
    "from sklearn.metrics import mean_squared_error"
   ]
  },
  {
   "cell_type": "markdown",
   "id": "a984daf7",
   "metadata": {},
   "source": [
    "## FedSGD attempt"
   ]
  },
  {
   "cell_type": "code",
   "execution_count": 2,
   "id": "70aec8b4",
   "metadata": {},
   "outputs": [],
   "source": [
    "from sklearn.datasets import load_diabetes\n",
    "from sklearn.preprocessing import StandardScaler\n",
    "\n",
    "\n",
    "diabetes = load_diabetes()\n",
    "X = diabetes.data\n",
    "y = diabetes.target\n",
    "\n",
    "sc=StandardScaler()\n",
    "X_transform=sc.fit_transform(X)\n",
    "\n",
    "df = pd.DataFrame(X_transform)\n",
    "df[\"y\"] = diabetes.target"
   ]
  },
  {
   "cell_type": "code",
   "execution_count": 3,
   "id": "e77de667",
   "metadata": {},
   "outputs": [
    {
     "data": {
      "text/html": [
       "<div>\n",
       "<style scoped>\n",
       "    .dataframe tbody tr th:only-of-type {\n",
       "        vertical-align: middle;\n",
       "    }\n",
       "\n",
       "    .dataframe tbody tr th {\n",
       "        vertical-align: top;\n",
       "    }\n",
       "\n",
       "    .dataframe thead th {\n",
       "        text-align: right;\n",
       "    }\n",
       "</style>\n",
       "<table border=\"1\" class=\"dataframe\">\n",
       "  <thead>\n",
       "    <tr style=\"text-align: right;\">\n",
       "      <th></th>\n",
       "      <th>0</th>\n",
       "      <th>1</th>\n",
       "      <th>2</th>\n",
       "      <th>3</th>\n",
       "      <th>4</th>\n",
       "      <th>5</th>\n",
       "      <th>6</th>\n",
       "      <th>7</th>\n",
       "      <th>8</th>\n",
       "      <th>9</th>\n",
       "      <th>y</th>\n",
       "    </tr>\n",
       "  </thead>\n",
       "  <tbody>\n",
       "    <tr>\n",
       "      <th>0</th>\n",
       "      <td>0.800500</td>\n",
       "      <td>1.065488</td>\n",
       "      <td>1.297088</td>\n",
       "      <td>0.459840</td>\n",
       "      <td>-0.929746</td>\n",
       "      <td>-0.732065</td>\n",
       "      <td>-0.912451</td>\n",
       "      <td>-0.054499</td>\n",
       "      <td>0.418551</td>\n",
       "      <td>-0.370989</td>\n",
       "      <td>151.0</td>\n",
       "    </tr>\n",
       "    <tr>\n",
       "      <th>1</th>\n",
       "      <td>-0.039567</td>\n",
       "      <td>-0.938537</td>\n",
       "      <td>-1.082180</td>\n",
       "      <td>-0.553511</td>\n",
       "      <td>-0.177624</td>\n",
       "      <td>-0.402886</td>\n",
       "      <td>1.564414</td>\n",
       "      <td>-0.830301</td>\n",
       "      <td>-1.436551</td>\n",
       "      <td>-1.938479</td>\n",
       "      <td>75.0</td>\n",
       "    </tr>\n",
       "    <tr>\n",
       "      <th>2</th>\n",
       "      <td>1.793307</td>\n",
       "      <td>1.065488</td>\n",
       "      <td>0.934533</td>\n",
       "      <td>-0.119218</td>\n",
       "      <td>-0.958674</td>\n",
       "      <td>-0.718897</td>\n",
       "      <td>-0.680245</td>\n",
       "      <td>-0.054499</td>\n",
       "      <td>0.060207</td>\n",
       "      <td>-0.545154</td>\n",
       "      <td>141.0</td>\n",
       "    </tr>\n",
       "    <tr>\n",
       "      <th>3</th>\n",
       "      <td>-1.872441</td>\n",
       "      <td>-0.938537</td>\n",
       "      <td>-0.243771</td>\n",
       "      <td>-0.770658</td>\n",
       "      <td>0.256292</td>\n",
       "      <td>0.525397</td>\n",
       "      <td>-0.757647</td>\n",
       "      <td>0.721302</td>\n",
       "      <td>0.477072</td>\n",
       "      <td>-0.196823</td>\n",
       "      <td>206.0</td>\n",
       "    </tr>\n",
       "    <tr>\n",
       "      <th>4</th>\n",
       "      <td>0.113172</td>\n",
       "      <td>-0.938537</td>\n",
       "      <td>-0.764944</td>\n",
       "      <td>0.459840</td>\n",
       "      <td>0.082726</td>\n",
       "      <td>0.327890</td>\n",
       "      <td>0.171178</td>\n",
       "      <td>-0.054499</td>\n",
       "      <td>-0.672582</td>\n",
       "      <td>-0.980568</td>\n",
       "      <td>135.0</td>\n",
       "    </tr>\n",
       "  </tbody>\n",
       "</table>\n",
       "</div>"
      ],
      "text/plain": [
       "          0         1         2         3         4         5         6  \\\n",
       "0  0.800500  1.065488  1.297088  0.459840 -0.929746 -0.732065 -0.912451   \n",
       "1 -0.039567 -0.938537 -1.082180 -0.553511 -0.177624 -0.402886  1.564414   \n",
       "2  1.793307  1.065488  0.934533 -0.119218 -0.958674 -0.718897 -0.680245   \n",
       "3 -1.872441 -0.938537 -0.243771 -0.770658  0.256292  0.525397 -0.757647   \n",
       "4  0.113172 -0.938537 -0.764944  0.459840  0.082726  0.327890  0.171178   \n",
       "\n",
       "          7         8         9      y  \n",
       "0 -0.054499  0.418551 -0.370989  151.0  \n",
       "1 -0.830301 -1.436551 -1.938479   75.0  \n",
       "2 -0.054499  0.060207 -0.545154  141.0  \n",
       "3  0.721302  0.477072 -0.196823  206.0  \n",
       "4 -0.054499 -0.672582 -0.980568  135.0  "
      ]
     },
     "execution_count": 3,
     "metadata": {},
     "output_type": "execute_result"
    }
   ],
   "source": [
    "df.head()"
   ]
  },
  {
   "cell_type": "code",
   "execution_count": 4,
   "id": "20789c4c",
   "metadata": {},
   "outputs": [],
   "source": [
    "def theta_init(X):\n",
    "    \"\"\" Generate an initial value of vector θ from the original independent variables matrix\n",
    "         Parameters:\n",
    "          X:  independent variables matrix\n",
    "        Return value: a vector of theta filled with initial guess\n",
    "    \"\"\"\n",
    "    theta = np.random.randn(len(X[0])+1, 1)\n",
    "    return theta"
   ]
  },
  {
   "cell_type": "code",
   "execution_count": 5,
   "id": "7f6fc64a",
   "metadata": {},
   "outputs": [],
   "source": [
    "def generateXvector(X):\n",
    "    \"\"\" Taking the original independent variables matrix and add a row of 1 which corresponds to x_0\n",
    "        Parameters:\n",
    "          X:  independent variables matrix\n",
    "        Return value: the matrix that contains all the values in the dataset, not include the outcomes variables. \n",
    "    \"\"\"\n",
    "    vectorX = np.c_[np.ones((len(X), 1)), X]\n",
    "    return vectorX"
   ]
  },
  {
   "cell_type": "code",
   "execution_count": 46,
   "id": "70746002",
   "metadata": {},
   "outputs": [
    {
     "name": "stdout",
     "output_type": "stream",
     "text": [
      "     0         1         2         3         4         5         6         7  \\\n",
      "0  1.0  0.800500  1.065488  1.297088  0.459840 -0.929746 -0.732065 -0.912451   \n",
      "1  1.0 -0.039567 -0.938537 -1.082180 -0.553511 -0.177624 -0.402886  1.564414   \n",
      "2  1.0  1.793307  1.065488  0.934533 -0.119218 -0.958674 -0.718897 -0.680245   \n",
      "3  1.0 -1.872441 -0.938537 -0.243771 -0.770658  0.256292  0.525397 -0.757647   \n",
      "4  1.0  0.113172 -0.938537 -0.764944  0.459840  0.082726  0.327890  0.171178   \n",
      "\n",
      "          8         9        10      y  \n",
      "0 -0.054499  0.418551 -0.370989  151.0  \n",
      "1 -0.830301 -1.436551 -1.938479   75.0  \n",
      "2 -0.054499  0.060207 -0.545154  141.0  \n",
      "3  0.721302  0.477072 -0.196823  206.0  \n",
      "4 -0.054499 -0.672582 -0.980568  135.0  \n"
     ]
    },
    {
     "data": {
      "text/plain": [
       "Text(0, 0.5, 'Cost')"
      ]
     },
     "execution_count": 46,
     "metadata": {},
     "output_type": "execute_result"
    },
    {
     "data": {
      "image/png": "[encoded data removed]",
      "text/plain": [
       "<Figure size 432x288 with 1 Axes>"
      ]
     },
     "metadata": {
      "needs_background": "light"
     },
     "output_type": "display_data"
    }
   ],
   "source": [
    "N = 8\n",
    "S = 6\n",
    "iterations = 2000\n",
    "n_feat = 11\n",
    "learning_rate = 0.03\n",
    "\n",
    "diabetes = load_diabetes()\n",
    "X = diabetes.data\n",
    "y = diabetes.target\n",
    "\n",
    "sc=StandardScaler()\n",
    "X_transform=sc.fit_transform(X)\n",
    "\n",
    "y_new = np.reshape(y, (len(y), 1))   \n",
    "cost_lst = []\n",
    "\n",
    "vectorX = generateXvector(X_transform)\n",
    "w_init = theta_init(X_transform)\n",
    "\n",
    "df = pd.DataFrame(vectorX)\n",
    "df[\"y\"] = y\n",
    "\n",
    "print(df.head())\n",
    "\n",
    "shuffled = df.sample(frac=1)\n",
    "data = np.array_split(shuffled, N) \n",
    "\n",
    "for i in range(len(data)):\n",
    "    data[i] = (data[i][range(0,11)].to_numpy(),data[i][\"y\"].to_numpy())\n",
    "\n",
    "\n",
    "m = len(X_transform)\n",
    "\n",
    "w_model = w_init\n",
    "\n",
    "#Iterations\n",
    "for i in range(0,iterations):\n",
    "\n",
    "    #Random selection of clients\n",
    "    x = list(range(1,N))\n",
    "    sel = random.sample(x,S)\n",
    "\n",
    "    grad = [None]*S\n",
    "    loc = 0\n",
    "    \n",
    "    #Clients iteration\n",
    "    for j in sel:\n",
    "\n",
    "        w_cli = w_model\n",
    "    \n",
    "        gradients = 2/m * vectorX.T.dot(vectorX.dot(w_model) - y_new)\n",
    "        grad[loc] = 2/m * data[j][0].T.dot(data[j][0].dot(w_model) - data[j][1].reshape(len(data[j][1]),1))\n",
    "        loc +=1\n",
    "    \n",
    "    g = np.stack(grad, axis=0)\n",
    "    grad_mean = g.mean(axis = 0)\n",
    "\n",
    "    \n",
    "    w_model = w_model  - learning_rate*grad_mean\n",
    "    \n",
    "    y_pred = vectorX.dot(w_model)\n",
    "    cost_value = 1/(2*len(y))*((y_pred - y)**2) \n",
    "            #Calculate the loss for each training instance\n",
    "    total = 0\n",
    "    for i in range(len(y)):\n",
    "        total += cost_value[i][0] \n",
    "        #Calculate the cost function for each iteration\n",
    "    cost_lst.append(total)\n",
    "    \n",
    "    #grads = np.stack(grads)\n",
    "    #mean_grads = np.average(grads, axis=0)\n",
    "    #print(w_model)\n",
    "\n",
    "    \n",
    "    \n",
    "plt.plot(np.arange(1,iterations),cost_lst[1:], color = 'red')\n",
    "plt.title('Cost function Graph')\n",
    "plt.xlabel('Number of iterations')\n",
    "plt.ylabel('Cost')\n"
   ]
  },
  {
   "cell_type": "code",
   "execution_count": 47,
   "id": "adbbd626",
   "metadata": {},
   "outputs": [
    {
     "data": {
      "text/plain": [
       "array([[-0.8377525 ],\n",
       "       [-0.93262949],\n",
       "       [ 0.37205056],\n",
       "       [-0.37662886],\n",
       "       [ 0.72394317],\n",
       "       [ 1.49277549],\n",
       "       [ 0.90841766],\n",
       "       [-1.41007493],\n",
       "       [-0.55527191],\n",
       "       [-0.03867636],\n",
       "       [-0.13998239]])"
      ]
     },
     "execution_count": 47,
     "metadata": {},
     "output_type": "execute_result"
    }
   ],
   "source": [
    "w_init"
   ]
  },
  {
   "cell_type": "markdown",
   "id": "4de97d17",
   "metadata": {},
   "source": [
    "## Toy data test"
   ]
  },
  {
   "cell_type": "code",
   "execution_count": 41,
   "id": "10ffe4bc",
   "metadata": {},
   "outputs": [],
   "source": []
  },
  {
   "cell_type": "code",
   "execution_count": 130,
   "id": "4488aa91",
   "metadata": {},
   "outputs": [
    {
     "data": {
      "text/plain": [
       "Text(0, 0.5, 'Cost')"
      ]
     },
     "execution_count": 130,
     "metadata": {},
     "output_type": "execute_result"
    },
    {
     "data": {
      "image/png": "[encoded data removed]",
      "text/plain": [
       "<Figure size 432x288 with 1 Axes>"
      ]
     },
     "metadata": {
      "needs_background": "light"
     },
     "output_type": "display_data"
    }
   ],
   "source": [
    "x = [np.random.randint(1,10) for i in range(0,300)]\n",
    "y = [n*2 for n in x]\n",
    "x = np.array(x).reshape(300,1)\n",
    "y = np.array(y).reshape(300,1)\n",
    "\n",
    "\n",
    "\n",
    "N = 8\n",
    "S = 6\n",
    "iterations = 2000\n",
    "\n",
    "n_feat = 2\n",
    "learning_rate = 0.01\n",
    "\n",
    "y_new = np.reshape(y, (len(y), 1))   \n",
    "cost_lst = []\n",
    "\n",
    "vectorX = generateXvector(x)\n",
    "w_init = theta_init(x)\n",
    "\n",
    "df = pd.DataFrame(vectorX)\n",
    "df[\"y\"] = y\n",
    "\n",
    "shuffled = df.sample(frac=1)\n",
    "data = np.array_split(shuffled, N) \n",
    "\n",
    "for i in range(len(data)):\n",
    "    data[i] = (data[i][range(0,n_feat)].to_numpy(),data[i][\"y\"].to_numpy())\n",
    "\n",
    "\n",
    "m = len(vectorX)\n",
    "\n",
    "w_model = w_init\n",
    "\n",
    "#Iterations\n",
    "for i in range(0,iterations):\n",
    "\n",
    "    #Random selection of clients\n",
    "    a = list(range(1,N))\n",
    "    sel = random.sample(a,S)\n",
    "\n",
    "    grad = [None]*S\n",
    "    loc = 0\n",
    "    \n",
    "    #Clients iteration\n",
    "    for j in sel:\n",
    "        \n",
    "        w_cli = w_model\n",
    "\n",
    "        \n",
    "        gradients = 2/m * vectorX.T.dot(vectorX.dot(w_model) - y_new)\n",
    "        \n",
    "\n",
    "        grad[loc] = 2/len(data[j][0]) * data[j][0].T.dot(data[j][0].dot(w_model) - data[j][1].reshape(len(data[j][1]),1))\n",
    "        \n",
    "        loc +=1\n",
    "\n",
    "    g = np.stack(grad, axis=0)\n",
    "    grad_mean = g.mean(axis = 0)\n",
    "\n",
    "    \n",
    "    w_model = w_model  - learning_rate*grad_mean\n",
    "    \n",
    "    \n",
    "    y_pred = vectorX.dot(w_model)\n",
    "    cost_value = 1/(len(y))*((y_pred - y)**2) \n",
    "            #Calculate the loss for each training instance\n",
    "    total = 0\n",
    "    for i in range(len(y)):\n",
    "        total += cost_value[i][0] \n",
    "        #Calculate the cost function for each iteration\n",
    "    cost_lst.append(total)\n",
    "    \n",
    "    #grads = np.stack(grads)\n",
    "    #mean_grads = np.average(grads, axis=0)\n",
    "    #print(w_model)\n",
    "\n",
    "    \n",
    "    \n",
    "plt.plot(np.arange(1,iterations),cost_lst[1:], color = 'red')\n",
    "plt.title('Cost function Graph')\n",
    "plt.xlabel('Number of iterations')\n",
    "plt.ylabel('Cost')\n"
   ]
  },
  {
   "cell_type": "code",
   "execution_count": 131,
   "id": "14b84ec6",
   "metadata": {},
   "outputs": [
    {
     "data": {
      "text/plain": [
       "array([[-8.91318249e-05],\n",
       "       [ 2.00001456e+00]])"
      ]
     },
     "execution_count": 131,
     "metadata": {},
     "output_type": "execute_result"
    }
   ],
   "source": [
    "w_model"
   ]
  },
  {
   "cell_type": "markdown",
   "id": "8640f17f",
   "metadata": {},
   "source": [
    "## FedAvg implementation "
   ]
  },
  {
   "cell_type": "code",
   "execution_count": 257,
   "id": "e28c8ce5",
   "metadata": {},
   "outputs": [],
   "source": [
    "def theta_init(X):\n",
    "    \"\"\" Generate an initial value of vector θ from the original independent variables matrix\n",
    "         Parameters:\n",
    "          X:  independent variables matrix\n",
    "        Return value: a vector of theta filled with initial guess\n",
    "    \"\"\"\n",
    "    theta = np.random.randn(len(X[0])+1, 1)\n",
    "    return theta\n",
    "\n",
    "def generateXvector(X):\n",
    "    \"\"\" Taking the original independent variables matrix and add a row of 1 which corresponds to x_0\n",
    "        Parameters:\n",
    "          X:  independent variables matrix\n",
    "        Return value: the matrix that contains all the values in the dataset, not include the outcomes variables. \n",
    "    \"\"\"\n",
    "    vectorX = np.c_[np.ones((len(X), 1)), X]\n",
    "    return vectorX"
   ]
  },
  {
   "cell_type": "code",
   "execution_count": 256,
   "id": "f593b631",
   "metadata": {},
   "outputs": [],
   "source": [
    "def federated_sgd(data, iterations, N, S, n_feature, learning_rate,w_model):\n",
    "    cost_lst = []\n",
    "    for i in range(0,iterations):\n",
    "        #Random selection of clients\n",
    "        a = list(range(1,N))\n",
    "        sel = random.sample(a,S)\n",
    "\n",
    "        grad = [None]*S\n",
    "        loc = 0\n",
    "\n",
    "        #Clients iteration\n",
    "        for j in sel:\n",
    "\n",
    "            w_cli = w_model\n",
    "\n",
    "            grad[loc] = 2/len(data[j][0]) * data[j][0].T.dot(data[j][0].dot(w_cli) - data[j][1].reshape(len(data[j][1]),1))\n",
    "\n",
    "            loc +=1\n",
    "\n",
    "        g = np.stack(grad, axis=0)\n",
    "        grad_mean = g.mean(axis = 0)\n",
    "\n",
    "\n",
    "        w_model = w_model  - learning_rate*grad_mean\n",
    "        \n",
    "        y_pred = vectorX.dot(w_model)\n",
    "        cost_value = 1/(len(y))*((y_pred - y)**2) \n",
    "                #Calculate the loss for each training instance\n",
    "        total = 0\n",
    "        for i in range(len(y)):\n",
    "            total += cost_value[i][0] \n",
    "            #Calculate the cost function for each iteration\n",
    "        cost_lst.append(total)\n",
    "    return w_model, cost_lst\n"
   ]
  },
  {
   "cell_type": "markdown",
   "id": "ad2ae7ca",
   "metadata": {},
   "source": [
    "####  All clients same alpha"
   ]
  },
  {
   "cell_type": "code",
   "execution_count": 258,
   "id": "47500c76",
   "metadata": {},
   "outputs": [
    {
     "data": {
      "text/plain": [
       "Text(0, 0.5, 'Cost')"
      ]
     },
     "execution_count": 258,
     "metadata": {},
     "output_type": "execute_result"
    },
    {
     "data": {
      "image/png": "[encoded data removed]",
      "text/plain": [
       "<Figure size 432x288 with 1 Axes>"
      ]
     },
     "metadata": {
      "needs_background": "light"
     },
     "output_type": "display_data"
    }
   ],
   "source": [
    "x = [np.random.randint(1,10) for i in range(0,300)]\n",
    "y = [n*2 for n in x]\n",
    "x = np.array(x).reshape(300,1)\n",
    "y = np.array(y).reshape(300,1)\n",
    "\n",
    "\n",
    "#Parameters of the model\n",
    "N = 8\n",
    "S = 6\n",
    "iterations = 2000\n",
    "n_feat = 2 #number of feature plus one for intercept\n",
    "learning_rate = 0.01\n",
    "\n",
    "######Data preprocessing\n",
    "\n",
    "#Add intercept in training data \n",
    "vectorX = generateXvector(x)\n",
    "\n",
    "df = pd.DataFrame(vectorX)\n",
    "df[\"y\"] = y\n",
    "\n",
    "shuffled = df.sample(frac=1)\n",
    "data = np.array_split(shuffled, N) \n",
    "\n",
    "#Create the clients\n",
    "for i in range(len(data)):\n",
    "    #Normalize all instead intercept\n",
    "    data[i][1] = (data[i][1]-data[i][1].mean())/data[i][1].std()\n",
    "    data[i][\"y\"] = (data[i][\"y\"]-data[i][\"y\"].mean())/data[i][\"y\"].std()\n",
    "    \n",
    "    #Convert to numpy\n",
    "    data[i] = (data[i][range(0,n_feat)].to_numpy(),data[i][\"y\"].to_numpy())\n",
    "\n",
    "\n",
    "w_model = theta_init(x)\n",
    "    \n",
    "output, costs = federated_sgd(data, iterations, N, S, n_feat, learning_rate,w_model)\n",
    "\n",
    "\n",
    "plt.plot(np.arange(1,iterations),costs[1:], color = 'red')\n",
    "plt.title('Cost function Graph')\n",
    "plt.xlabel('Number of iterations')\n",
    "plt.ylabel('Cost')\n"
   ]
  },
  {
   "cell_type": "code",
   "execution_count": 259,
   "id": "39486e0e",
   "metadata": {},
   "outputs": [
    {
     "data": {
      "text/plain": [
       "array([[2.7746648e-19],\n",
       "       [1.0000000e+00]])"
      ]
     },
     "execution_count": 259,
     "metadata": {},
     "output_type": "execute_result"
    }
   ],
   "source": [
    "output"
   ]
  },
  {
   "cell_type": "markdown",
   "id": "04d29f59",
   "metadata": {},
   "source": [
    "#### Two different alphas "
   ]
  },
  {
   "cell_type": "code",
   "execution_count": 281,
   "id": "177f7808",
   "metadata": {},
   "outputs": [
    {
     "name": "stdout",
     "output_type": "stream",
     "text": [
      "[[0.54779352]\n",
      " [3.86793018]]\n"
     ]
    },
    {
     "data": {
      "image/png": "[encoded data removed]",
      "text/plain": [
       "<Figure size 432x288 with 1 Axes>"
      ]
     },
     "metadata": {
      "needs_background": "light"
     },
     "output_type": "display_data"
    }
   ],
   "source": [
    "x_1 = [np.random.randint(1,10) for i in range(0,300)]\n",
    "y_1 = [n*6 for n in x_1]\n",
    "x_1 = np.array(x_1).reshape(300,1)\n",
    "y_1 = np.array(y_1).reshape(300,1)\n",
    "\n",
    "x_2= [np.random.randint(1,10) for i in range(0,300)]\n",
    "y_2 = [n*2 for n in x_2]\n",
    "x_2 = np.array(x_2).reshape(300,1)\n",
    "y_2 = np.array(y_2).reshape(300,1)\n",
    "\n",
    "#Parameters of the model\n",
    "N = 8\n",
    "S = 6\n",
    "iterations = 2000\n",
    "n_feat = 2 #number of feature plus one for intercept\n",
    "learning_rate = 0.01\n",
    "\n",
    "######Data preprocessing\n",
    "\n",
    "#Add intercept in training data \n",
    "vectorX = generateXvector(x_1)\n",
    "vectorX2 = generateXvector(x_2)\n",
    "\n",
    "df = pd.DataFrame(vectorX)\n",
    "df[\"y\"] = y_1\n",
    "\n",
    "df2 = pd.DataFrame(vectorX2)\n",
    "df2[\"y\"] = y_2\n",
    "\n",
    "shuffled = df.sample(frac=1)\n",
    "data = np.array_split(shuffled, N/2) \n",
    "\n",
    "\n",
    "shuffled2 = df2.sample(frac=1)\n",
    "data2 = np.array_split(shuffled2, N/2) \n",
    "\n",
    "#Create the clients\n",
    "for i in range(len(data)):\n",
    "    #Normalize all instead intercept\n",
    "    #data[i][1] = (data[i][1]-data[i][1].mean())/data[i][1].std()\n",
    "    #data[i][\"y\"] = (data[i][\"y\"]-data[i][\"y\"].mean())/data[i][\"y\"].std()\n",
    "    \n",
    "    #Convert to numpy\n",
    "    data[i] = (data[i][range(0,n_feat)].to_numpy(),data[i][\"y\"].to_numpy())\n",
    "\n",
    "#Create the clients\n",
    "for i in range(len(data2)):\n",
    "    #Normalize all instead intercept\n",
    "    #data2[i][1] = (data2[i][1]-data2[i][1].mean())/data2[i][1].std()\n",
    "    #data2[i][\"y\"] = (data2[i][\"y\"]-data2[i][\"y\"].mean())/data2[i][\"y\"].std()\n",
    "    \n",
    "    #Convert to numpy\n",
    "    data2[i] = (data2[i][range(0,n_feat)].to_numpy(),data2[i][\"y\"].to_numpy())\n",
    "\n",
    "data = data + data2\n",
    "\n",
    "w_model = theta_init(x)\n",
    "    \n",
    "output, costs = federated_sgd(data, iterations, N, S, n_feat, learning_rate,w_model)\n",
    "\n",
    "\n",
    "plt.plot(np.arange(1,iterations),costs[1:], color = 'red')\n",
    "plt.title('Cost function Graph')\n",
    "plt.xlabel('Number of iterations')\n",
    "plt.ylabel('Cost')\n",
    "\n",
    "print(output)"
   ]
  },
  {
   "cell_type": "markdown",
   "id": "1e0046be",
   "metadata": {},
   "source": [
    "## Use with solar data "
   ]
  }
 ],
 "metadata": {
  "kernelspec": {
   "display_name": "Python 3 (ipykernel)",
   "language": "python",
   "name": "python3"
  },
  "language_info": {
   "codemirror_mode": {
    "name": "ipython",
    "version": 3
   },
   "file_extension": ".py",
   "mimetype": "text/x-python",
   "name": "python",
   "nbconvert_exporter": "python",
   "pygments_lexer": "ipython3",
   "version": "3.9.7"
  }
 },
 "nbformat": 4,
 "nbformat_minor": 5
}
