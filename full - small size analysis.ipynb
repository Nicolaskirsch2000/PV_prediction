{
 "cells": [
  {
   "cell_type": "code",
   "execution_count": 2,
   "id": "ae7192ff",
   "metadata": {},
   "outputs": [],
   "source": [
    "import pandas as pd \n",
    "import pickle\n",
    "import numpy as np\n",
    "from sklearn import linear_model\n",
    "from sklearn.metrics import r2_score, mean_squared_error\n",
    "from sklearn.model_selection import train_test_split\n",
    "import tensorflow as tf\n",
    "import xgboost as xgb\n",
    "from tensorflow.keras.layers import LSTM\n",
    "\n",
    "from sklearn.model_selection import GridSearchCV\n",
    "import matplotlib.pyplot as plt"
   ]
  },
  {
   "cell_type": "code",
   "execution_count": 68,
   "id": "160d2838",
   "metadata": {},
   "outputs": [],
   "source": [
    "data = []\n",
    "with (open(\"saved_results/clients_data_full\", \"rb\")) as openfile:\n",
    "    while True:\n",
    "        try:\n",
    "            data.append(pickle.load(openfile))\n",
    "        except EOFError:\n",
    "            break"
   ]
  },
  {
   "cell_type": "code",
   "execution_count": 69,
   "id": "78858616",
   "metadata": {},
   "outputs": [],
   "source": [
    "#One dataframe per household\n",
    "dfs_train = [None]*25\n",
    "dfs_test = [None]*25\n",
    "dfs_big = [None]*25\n",
    "\n",
    "for i in range(len(data[0])):\n",
    "    #Create train dfs\n",
    "    mat_train = np.matrix(data[0][i][0])\n",
    "    dfs_train[i] = pd.DataFrame(mat_train)\n",
    "    dfs_train[i].drop(7, axis = 1, inplace = True)\n",
    "    dfs_train[i]['pred'] = data[0][i][1].tolist()\n",
    "    \n",
    "    #Create test dfs\n",
    "    mat = np.matrix(data[0][i][2])\n",
    "    dfs_test[i] = pd.DataFrame(mat)\n",
    "    dfs_test[i].drop(7, axis = 1, inplace = True)\n",
    "    dfs_test[i]['pred'] = data[0][i][3].tolist()\n",
    "    \n",
    "    dfs_big[i] = dfs_train[i].append(dfs_test[i])\n",
    "    dfs_big[i] = (dfs_big[i]-dfs_big[i].mean())/dfs_big[i].std()\n",
    "    \n",
    "    "
   ]
  },
  {
   "cell_type": "code",
   "execution_count": 66,
   "id": "247a6001",
   "metadata": {},
   "outputs": [],
   "source": [
    "dfs_train[1].drop(7, axis = 1, inplace = True)"
   ]
  },
  {
   "cell_type": "markdown",
   "id": "1a2ec567",
   "metadata": {},
   "source": [
    "## Linear model on big dataset"
   ]
  },
  {
   "cell_type": "code",
   "execution_count": 70,
   "id": "55ca747b",
   "metadata": {},
   "outputs": [
    {
     "name": "stdout",
     "output_type": "stream",
     "text": [
      "Adjusted R2 : 0.7260501387246925\n",
      "MSE : 0.26506222010465325 +- 6.7702466458943515%\n"
     ]
    }
   ],
   "source": [
    "#One model per household\n",
    "r_2 = [None]*len(dfs_train)\n",
    "mserror = [None]*len(dfs_train)\n",
    "for i in range(len(dfs_train)):\n",
    "    X = dfs_big[i].loc[:, dfs_big[i].columns != 'pred']\n",
    "\n",
    "\n",
    "    y = dfs_big[i].loc[:, dfs_big[i].columns == 'pred']\n",
    "    \n",
    "    X_train, X_test, y_train, y_test = train_test_split(X, y, test_size=0.20, random_state=42)\n",
    "    \n",
    "    regr = linear_model.LinearRegression()\n",
    "    regr.fit(X_train, y_train)\n",
    "\n",
    "    y_pred = regr.predict(X_test)\n",
    "    \n",
    "    r_2[i] = 1-(1-r2_score(y_test, y_pred))*((len(X_test)-1)/(len(X_test)-len(X_test.columns)-1))\n",
    "    mserror[i] = mean_squared_error(y_test, y_pred)\n",
    "    \n",
    "    \n",
    "r2_adj = np.mean(r_2)\n",
    "std = (np.std(r_2)/r2_adj)*100\n",
    "mse = np.mean(mserror)\n",
    "\n",
    "print(\"Adjusted R2 : \" + r2_adj.astype(str) + \"\\nMSE : \" + mse.astype(str) + \" +- \" + std.astype(str) + \"%\")"
   ]
  },
  {
   "cell_type": "markdown",
   "id": "846812a2",
   "metadata": {},
   "source": [
    "## Linear model on varying dataset size "
   ]
  },
  {
   "cell_type": "code",
   "execution_count": 75,
   "id": "ba9c821e",
   "metadata": {},
   "outputs": [
    {
     "data": {
      "text/plain": [
       "[<matplotlib.lines.Line2D at 0x1ef9ab21820>]"
      ]
     },
     "execution_count": 75,
     "metadata": {},
     "output_type": "execute_result"
    },
    {
     "data": {
      "image/png": "[encoded data removed]",
      "text/plain": [
       "<Figure size 432x288 with 1 Axes>"
      ]
     },
     "metadata": {
      "needs_background": "light"
     },
     "output_type": "display_data"
    }
   ],
   "source": [
    "step = 10\n",
    "\n",
    "#One model per household\n",
    "r_2 = [None]*len(dfs_train)\n",
    "mserror = [None]*len(dfs_train)\n",
    "dfs_bigs = [None]*len(dfs_big)\n",
    "r2_adj = [None]*len(range(30, len(dfs_big[1]), step))\n",
    "mse_lin = [None]*len(range(30, len(dfs_big[1]), step))\n",
    "\n",
    "j = 0\n",
    "for n in range(30, len(dfs_big[1]), step):\n",
    "    for i in range(len(dfs_train)):\n",
    "\n",
    "        dfs_bigs[i] = dfs_big[i].sample(n, replace = True, random_state=1)\n",
    "        \n",
    "        X = dfs_bigs[i].loc[:, dfs_bigs[i].columns != 'pred']\n",
    "\n",
    "\n",
    "        y = dfs_bigs[i].loc[:, dfs_bigs[i].columns == 'pred']\n",
    "\n",
    "        X_train, X_test, y_train, y_test = train_test_split(X, y, test_size=0.20, random_state=42)\n",
    "\n",
    "\n",
    "        regr = linear_model.LinearRegression()\n",
    "        regr.fit(X_train, y_train)\n",
    "\n",
    "        y_pred = regr.predict(X_test)\n",
    "\n",
    "\n",
    "        #r_2[i] = 1-(1-r2_score(y_test, y_pred))*((len(X_test)-1)/(len(X_test)-len(X_test.columns)-1))\n",
    "        mserror[i] = mean_squared_error(y_test, y_pred)\n",
    "\n",
    "    #r2_adj[j] = np.mean(r_2)\n",
    "    mse_lin[j] = np.mean(mserror)\n",
    "    j += 1\n",
    "\n",
    "plt.figure()\n",
    "plt.plot(list(range(30, len(dfs_big[1]), step)), mse_lin)\n"
   ]
  },
  {
   "cell_type": "markdown",
   "id": "3d33d4e5",
   "metadata": {},
   "source": [
    "## XGBoost on big dataset "
   ]
  },
  {
   "cell_type": "code",
   "execution_count": 76,
   "id": "200c749d",
   "metadata": {},
   "outputs": [
    {
     "name": "stdout",
     "output_type": "stream",
     "text": [
      "Adjusted R2 : 0.7074443283693883\n",
      "MSE : 0.2826007873070077 +- 8.340097559326157%\n"
     ]
    }
   ],
   "source": [
    "#One model per household\n",
    "r_2 = [None]*len(dfs_train)\n",
    "mserror = [None]*len(dfs_train)\n",
    "std = [None]*len(dfs_train)\n",
    "\n",
    "\n",
    "for i in range(len(dfs_train)):\n",
    "    X = dfs_big[i].loc[:, dfs_big[i].columns != 'pred']\n",
    "\n",
    "\n",
    "    y = dfs_big[i].loc[:, dfs_big[i].columns == 'pred']\n",
    "    \n",
    "    X_train, X_test, y_train, y_test = train_test_split(X, y, test_size=0.20, random_state=42)\n",
    "    \n",
    "\n",
    "    xg_reg = xgb.XGBRegressor(objective ='reg:squarederror', colsample_bytree = 0.3, learning_rate = 0.1,\n",
    "                    max_depth = 4, alpha = 4, n_estimators = 300)\n",
    "\n",
    "    xg_reg.fit(X_train, y_train)\n",
    "    y_pred = xg_reg.predict(X_test)\n",
    "\n",
    "\n",
    "    r_2[i] = 1-(1-r2_score(y_test, y_pred))*((len(X_test)-1)/(len(X_test)-len(X_test.columns)-1))\n",
    "    mserror[i] = mean_squared_error(y_test, y_pred)\n",
    "    \n",
    "    \n",
    "r2_adj = np.mean(r_2)\n",
    "std = (np.std(r_2)/r2_adj)*100\n",
    "mse = np.mean(mserror)\n",
    "\n",
    "print(\"Adjusted R2 : \" + r2_adj.astype(str) + \"\\nMSE : \" + mse.astype(str) + \" +- \" + std.astype(str) + \"%\")"
   ]
  },
  {
   "cell_type": "markdown",
   "id": "ba42cec3",
   "metadata": {},
   "source": [
    "## XGBoost on varying dataset size "
   ]
  },
  {
   "cell_type": "code",
   "execution_count": 78,
   "id": "079464ac",
   "metadata": {},
   "outputs": [
    {
     "data": {
      "text/plain": [
       "[<matplotlib.lines.Line2D at 0x1ef9c9e1790>]"
      ]
     },
     "execution_count": 78,
     "metadata": {},
     "output_type": "execute_result"
    },
    {
     "data": {
      "image/png": "[encoded data removed]",
      "text/plain": [
       "<Figure size 432x288 with 1 Axes>"
      ]
     },
     "metadata": {
      "needs_background": "light"
     },
     "output_type": "display_data"
    }
   ],
   "source": [
    "step = 10\n",
    "\n",
    "#One model per household\n",
    "r_2 = [None]*len(dfs_train)\n",
    "mserror = [None]*len(dfs_train)\n",
    "dfs_bigs = [None]*len(dfs_big)\n",
    "r2_adj = [None]*len(range(30, len(dfs_big[1]), step))\n",
    "mse = [None]*len(range(30, len(dfs_big[1]), step))\n",
    "\n",
    "j = 0\n",
    "for n in range(30, len(dfs_big[1]), step):\n",
    "    for i in range(len(dfs_train)):\n",
    "\n",
    "        dfs_bigs[i] = dfs_big[i].sample(n, replace = True, random_state=1)\n",
    "        \n",
    "        X = dfs_bigs[i].loc[:, dfs_bigs[i].columns != 'pred']\n",
    "\n",
    "\n",
    "        y = dfs_bigs[i].loc[:, dfs_bigs[i].columns == 'pred']\n",
    "\n",
    "        X_train, X_test, y_train, y_test = train_test_split(X, y, test_size=0.20, random_state=42)\n",
    "\n",
    "\n",
    "        xg_reg = xgb.XGBRegressor(objective ='reg:squarederror', colsample_bytree = 0.3, learning_rate = 0.1,\n",
    "                        max_depth = 4, alpha = 4, n_estimators = 300)\n",
    "\n",
    "        xg_reg.fit(X_train, y_train)\n",
    "        y_pred = xg_reg.predict(X_test)\n",
    "\n",
    "\n",
    "        #r_2[i] = 1-(1-r2_score(y_test, y_pred))*((len(X_test)-1)/(len(X_test)-len(X_test.columns)-1))\n",
    "        mserror[i] = mean_squared_error(y_test, y_pred)\n",
    "\n",
    "    #r2_adj[j] = np.mean(r_2)\n",
    "    mse[j] = np.mean(mserror)\n",
    "    j += 1\n",
    "\n",
    "plt.figure()\n",
    "plt.plot(list(range(30, len(dfs_big[1]), step)), mse)\n"
   ]
  },
  {
   "cell_type": "code",
   "execution_count": 82,
   "id": "403d860e",
   "metadata": {},
   "outputs": [
    {
     "data": {
      "text/plain": [
       "<matplotlib.legend.Legend at 0x1ef9cac3f70>"
      ]
     },
     "execution_count": 82,
     "metadata": {},
     "output_type": "execute_result"
    },
    {
     "data": {
      "image/png": "[encoded data removed]",
      "text/plain": [
       "<Figure size 432x288 with 1 Axes>"
      ]
     },
     "metadata": {
      "needs_background": "light"
     },
     "output_type": "display_data"
    }
   ],
   "source": [
    "plt.figure()\n",
    "plt.title(\"MSE evolution for different dataset sizes\")\n",
    "plt.xlabel(\"Dataset size (rows)\")\n",
    "plt.ylabel(\"MSE\")\n",
    "plt.plot(list(range(30, len(dfs_big[1]), step)), mse,label = \"XGBoost\")\n",
    "plt.plot(list(range(30, len(dfs_big[1]), step)), mse_lin, label = \"Linear Model\")\n",
    "plt.legend()"
   ]
  },
  {
   "cell_type": "markdown",
   "id": "be1dc1ab",
   "metadata": {},
   "source": [
    "The knee is at approx 150"
   ]
  },
  {
   "cell_type": "markdown",
   "id": "029b2cc3",
   "metadata": {},
   "source": [
    "### Get the values for this data size"
   ]
  },
  {
   "cell_type": "code",
   "execution_count": 83,
   "id": "6e83fbd7",
   "metadata": {},
   "outputs": [
    {
     "data": {
      "text/plain": [
       "0.2614901774100218"
      ]
     },
     "execution_count": 83,
     "metadata": {},
     "output_type": "execute_result"
    }
   ],
   "source": [
    "mserror = [None]*len(dfs_train)\n",
    "for i in range(len(dfs_train)):\n",
    "\n",
    "        dfs_bigs[i] = dfs_big[i].sample(150, replace = True, random_state=1)\n",
    "        \n",
    "        X = dfs_bigs[i].loc[:, dfs_bigs[i].columns != 'pred']\n",
    "\n",
    "\n",
    "        y = dfs_bigs[i].loc[:, dfs_bigs[i].columns == 'pred']\n",
    "\n",
    "        X_train, X_test, y_train, y_test = train_test_split(X, y, test_size=0.20, random_state=42)\n",
    "\n",
    "\n",
    "        regr = linear_model.LinearRegression()\n",
    "        regr.fit(X_train, y_train)\n",
    "\n",
    "        y_pred = regr.predict(X_test)\n",
    "\n",
    "\n",
    "        #r_2[i] = 1-(1-r2_score(y_test, y_pred))*((len(X_test)-1)/(len(X_test)-len(X_test.columns)-1))\n",
    "        mserror[i] = mean_squared_error(y_test, y_pred)\n",
    "\n",
    "np.mean(mserror)"
   ]
  },
  {
   "cell_type": "code",
   "execution_count": 84,
   "id": "cb5e81cd",
   "metadata": {},
   "outputs": [
    {
     "data": {
      "text/plain": [
       "0.28565424581304927"
      ]
     },
     "execution_count": 84,
     "metadata": {},
     "output_type": "execute_result"
    }
   ],
   "source": [
    "mserror = [None]*len(dfs_train)\n",
    "for i in range(len(dfs_train)):\n",
    "\n",
    "        dfs_bigs[i] = dfs_big[i].sample(150, replace = True, random_state=1)\n",
    "        \n",
    "        X = dfs_bigs[i].loc[:, dfs_bigs[i].columns != 'pred']\n",
    "\n",
    "\n",
    "        y = dfs_bigs[i].loc[:, dfs_bigs[i].columns == 'pred']\n",
    "\n",
    "        X_train, X_test, y_train, y_test = train_test_split(X, y, test_size=0.20, random_state=42)\n",
    "\n",
    "\n",
    "        xg_reg = xgb.XGBRegressor(objective ='reg:squarederror', colsample_bytree = 0.3, learning_rate = 0.1,\n",
    "                        max_depth = 4, alpha = 4, n_estimators = 300)\n",
    "\n",
    "        xg_reg.fit(X_train, y_train)\n",
    "        y_pred = xg_reg.predict(X_test)\n",
    "\n",
    "\n",
    "        #r_2[i] = 1-(1-r2_score(y_test, y_pred))*((len(X_test)-1)/(len(X_test)-len(X_test.columns)-1))\n",
    "        mserror[i] = mean_squared_error(y_test, y_pred)\n",
    "        \n",
    "np.mean(mserror)"
   ]
  },
  {
   "cell_type": "markdown",
   "id": "de70a186",
   "metadata": {},
   "source": [
    "## Pytorch FedAvg"
   ]
  },
  {
   "cell_type": "code",
   "execution_count": 33,
   "id": "50e864e5",
   "metadata": {},
   "outputs": [],
   "source": [
    "import torch\n",
    "from torch import nn\n",
    "import torch.optim as optim\n",
    "import random"
   ]
  },
  {
   "cell_type": "code",
   "execution_count": 35,
   "id": "f02a3b33",
   "metadata": {},
   "outputs": [],
   "source": [
    "data = []\n",
    "test = []\n",
    "df = [None]*len(dfs_big)\n",
    "\n",
    "\n",
    "for i in range(len(dfs_big)):\n",
    "    df[i] = dfs_big[i].sample(n = 150)\n",
    "    X = df[i].loc[:, df[i].columns != 'pred']\n",
    "\n",
    "\n",
    "    y = df[i].loc[:, df[i].columns == 'pred']\n",
    "    \n",
    "    X_train, X_test, y_train, y_test = train_test_split(X, y, test_size=0.20, random_state=42)\n",
    "    \n",
    "    data.append((X_train.to_numpy(),y_train.to_numpy()))\n",
    "    test.append((X_test.to_numpy(),y_test.to_numpy()))\n",
    "\n",
    "N = len(dfs_big)\n",
    "iterations = 10000\n",
    "S = 10\n",
    "n_feat = 14\n",
    "\n",
    "for i in range(len(data)): \n",
    "    x_i = torch.FloatTensor(data[i][0])\n",
    "    y_i = torch.FloatTensor(data[i][1])\n",
    "    data[i] = (x_i,y_i)\n",
    "\n",
    "out_model, hist = fed_sgd(data, iterations, N, S, n_feat)"
   ]
  },
  {
   "cell_type": "code",
   "execution_count": 59,
   "id": "3eacd75c",
   "metadata": {},
   "outputs": [
    {
     "data": {
      "text/plain": [
       "0.24129588812589645"
      ]
     },
     "execution_count": 59,
     "metadata": {},
     "output_type": "execute_result"
    }
   ],
   "source": [
    "mses = []\n",
    "loss_fn = nn.MSELoss()\n",
    "for i in range(len(test)): \n",
    "    predictions = out_model(torch.FloatTensor(test[i][0]))\n",
    "\n",
    "    mses.append(loss_fn(predictions, torch.FloatTensor(test[i][1])))\n",
    "\n",
    "\n",
    "tot = 0\n",
    "for i in mses:\n",
    "    tot += i.detach().numpy()\n",
    "\n",
    "tot/len(mses)"
   ]
  },
  {
   "cell_type": "code",
   "execution_count": 60,
   "id": "6ccc2fa9",
   "metadata": {},
   "outputs": [
    {
     "data": {
      "text/plain": [
       "[<matplotlib.lines.Line2D at 0x1ef9ab94b50>]"
      ]
     },
     "execution_count": 60,
     "metadata": {},
     "output_type": "execute_result"
    },
    {
     "data": {
      "image/png": "[encoded data removed]",
      "text/plain": [
       "<Figure size 432x288 with 1 Axes>"
      ]
     },
     "metadata": {
      "needs_background": "light"
     },
     "output_type": "display_data"
    }
   ],
   "source": [
    "al = np.stack(hist, axis=0)[:,0][:,0]\n",
    "bet = np.stack(hist, axis=0)[:,0][:,1]\n",
    "\n",
    "plt.plot(range(0,len(al)), np.abs(al))\n"
   ]
  },
  {
   "cell_type": "markdown",
   "id": "ea12b692",
   "metadata": {},
   "source": [
    "## The Fed SGD function "
   ]
  },
  {
   "cell_type": "code",
   "execution_count": 30,
   "id": "75ec4ca2",
   "metadata": {},
   "outputs": [],
   "source": [
    "def fed_sgd(data, iterations, N, S, n_feat):\n",
    "    \n",
    "    grad_mean_hist = []\n",
    "    \n",
    "    #Definition of the server model\n",
    "    model_server = nn.Linear(n_feat, 1)\n",
    "    optimizer_server = optim.Adam(model_server.parameters())\n",
    "    loss_fn = nn.MSELoss()\n",
    "\n",
    "\n",
    "    #One model per clients\n",
    "    models = [None]*N\n",
    "    opti = [None]*N\n",
    "    loss_fct = [None]*N\n",
    "\n",
    "    for i in range(len(models)):\n",
    "        models[i] = nn.Linear(n_feat, 1)\n",
    "        opti[i] = optim.Adam(models[i].parameters())\n",
    "        loss_fct[i] = nn.MSELoss()\n",
    "\n",
    "        \n",
    "    #Iterations\n",
    "    for i in range(0,iterations):\n",
    "\n",
    "        #Random selection of clients\n",
    "        a = list(range(0,N))\n",
    "        sel = random.sample(a,S)\n",
    "\n",
    "        grad = []\n",
    "        bias = []\n",
    "        loc = 0\n",
    "\n",
    "        loss = [None]*N\n",
    "        losses = 0\n",
    "\n",
    "        #Clients iteration\n",
    "        for j in sel:\n",
    "            opti[loc].zero_grad()\n",
    "            models[loc].weight = model_server.weight\n",
    "            models[loc].weight.grad = None\n",
    "            models[loc].bias = model_server.bias\n",
    "            models[loc].bias.grad = None\n",
    "\n",
    "            predictions = models[loc](data[j][0])\n",
    "\n",
    "            loss[loc] = loss_fct[loc](predictions, data[j][1])\n",
    "            loss[loc].backward()\n",
    "\n",
    "            grad.append(models[loc].weight.grad.numpy())\n",
    "            bias.append(models[loc].bias.grad.numpy())\n",
    "            loc+=1\n",
    "        grad = np.stack(grad, axis=0)\n",
    "        grad_mean = torch.FloatTensor(grad.mean(axis = 0))\n",
    "        \n",
    "        grad_mean_hist.append(grad_mean)\n",
    "        \n",
    "\n",
    "        bias_mean = torch.FloatTensor([np.mean(bias)])\n",
    "        model_server.weight.grad = grad_mean\n",
    "        model_server.bias.grad = bias_mean\n",
    "        optimizer_server.step()\n",
    "    return model_server, grad_mean_hist\n"
   ]
  }
 ],
 "metadata": {
  "kernelspec": {
   "display_name": "Python 3 (ipykernel)",
   "language": "python",
   "name": "python3"
  },
  "language_info": {
   "codemirror_mode": {
    "name": "ipython",
    "version": 3
   },
   "file_extension": ".py",
   "mimetype": "text/x-python",
   "name": "python",
   "nbconvert_exporter": "python",
   "pygments_lexer": "ipython3",
   "version": "3.9.7"
  }
 },
 "nbformat": 4,
 "nbformat_minor": 5
}
