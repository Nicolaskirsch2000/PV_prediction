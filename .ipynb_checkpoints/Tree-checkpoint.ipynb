{
 "cells": [
  {
   "cell_type": "markdown",
   "metadata": {},
   "source": [
    "<h1><center>Implementing a Regression Tree from Scratch</center></h1>\n",
    "<center><a style='font-size:16px' href=https://towardsdatascience.com/regression-trees-from-scratch-in-30-lines-of-python-8196e0ab29b2?source=friends_link&sk=890559ccf33ad9b133044398fd10233f>You can read my blog-post first to familarize with regression trees</a></center>"
   ]
  },
  {
   "cell_type": "code",
   "execution_count": 189,
   "metadata": {},
   "outputs": [],
   "source": [
    "import numpy as np\n",
    "import pandas as pd\n",
    "from sklearn.datasets import load_boston\n",
    "from sklearn.metrics import r2_score\n",
    "import matplotlib.pyplot as plt\n",
    "import seaborn as sns\n",
    "\n",
    "from sklearn.model_selection import train_test_split\n",
    "\n",
    "import torch\n",
    "from torch import nn\n",
    "import torch.optim as optim\n",
    "\n",
    "from sklearn import tree"
   ]
  },
  {
   "cell_type": "markdown",
   "metadata": {},
   "source": [
    "### Step function toy data"
   ]
  },
  {
   "cell_type": "code",
   "execution_count": 81,
   "metadata": {},
   "outputs": [],
   "source": [
    "x = [np.random.uniform(1,10) for i in range(0,300)]\n",
    "y = []\n",
    "\n",
    "for i in x: \n",
    "    if i < 5 : \n",
    "        y.append(2)\n",
    "    else : \n",
    "        y.append(1)\n",
    "        \n",
    "df = pd.DataFrame({'x' : x, 'y':y})\n",
    "X_train = df['x']\n",
    "y_train = df[\"y\"]"
   ]
  },
  {
   "cell_type": "markdown",
   "metadata": {},
   "source": [
    "### Splitting Criteria: RSS"
   ]
  },
  {
   "cell_type": "markdown",
   "metadata": {},
   "source": [
    "Let us now build the regression tree. We start by implementing the splitting criteria which is used to decide the most discriminative features at each step. We use $RSS$ which is computed as follows:\n",
    "\n",
    "$$RSS =\\sum_{\\text {left }}\\left(y_{i}-\\hat{y_{L}}\\right)^{2}+\\sum_{\\text {right }}\\left(y_{i}-\\hat{y_{R}}\\right)^{2}$$\n",
    "\n",
    "where $\\hat{y_L} and \\hat{y_r}$ are mean y-value of left and right nodes."
   ]
  },
  {
   "cell_type": "code",
   "execution_count": 30,
   "metadata": {},
   "outputs": [],
   "source": [
    "def rss(y_left, y_right):\n",
    "    def squared_residual_sum(y):\n",
    "        return np.sum((y - np.mean(y)) ** 2)\n",
    "    \n",
    "    return squared_residual_sum(y_left) + squared_residual_sum(y_right) "
   ]
  },
  {
   "cell_type": "code",
   "execution_count": 31,
   "metadata": {},
   "outputs": [],
   "source": [
    "def compute_rss_by_threshold(feature):\n",
    "    features_rss = []\n",
    "    thresholds = X_train[feature].unique().tolist()\n",
    "    thresholds.sort()\n",
    "    thresholds = thresholds[1:]\n",
    "    for t in thresholds:\n",
    "        y_left_ix = X_train[feature] < t\n",
    "        y_left, y_right = y_train[y_left_ix], y_train[~y_left_ix]\n",
    "        features_rss.append(rss(y_left, y_right))\n",
    "    return thresholds, features_rss"
   ]
  },
  {
   "cell_type": "code",
   "execution_count": 18,
   "metadata": {},
   "outputs": [
    {
     "data": {
      "text/plain": [
       "[<matplotlib.lines.Line2D at 0x1f85cc18c40>]"
      ]
     },
     "execution_count": 18,
     "metadata": {},
     "output_type": "execute_result"
    },
    {
     "data": {
      "image/png": "[encoded data removed]",
      "text/plain": [
       "<Figure size 864x360 with 1 Axes>"
      ]
     },
     "metadata": {
      "needs_background": "light"
     },
     "output_type": "display_data"
    }
   ],
   "source": [
    "thres, rss = compute_rss_by_threshold('x')\n",
    "\n",
    "plt.figure(figsize=(12, 5))\n",
    "plt.subplot(1, 2, 1)\n",
    "plt.xlabel('Thresholds')\n",
    "plt.ylabel('RSS')\n",
    "plt.title('LSTAT (Strongest Correlation with House Price)')\n",
    "plt.plot(thres, rss)"
   ]
  },
  {
   "cell_type": "code",
   "execution_count": 240,
   "metadata": {},
   "outputs": [],
   "source": [
    "def find_best_rule_federated(X_train, y_train):\n",
    "    best_feature, best_threshold, min_rss = None, None, np.inf\n",
    "    best_thres = [None]*len(X_train[0].columns)\n",
    "    rss_feature = [None]*len(X_train[0].columns)\n",
    "    \n",
    "    if type(X_train[0]) == pd.core.series.Series:\n",
    "        X_train[0] = X_train[0].to_frame()\n",
    "    \n",
    "    for idx, feature in enumerate(X_train[0].columns):\n",
    "        thresholds = [None]*len(X_train)\n",
    "        best_threshold = [None]*len(X_train)\n",
    "        \n",
    "        for i in range(len(X_train)):\n",
    "            min_rss = np.inf\n",
    "            thresholds[i] = X_train[i][feature].unique().tolist()\n",
    "            \n",
    "            thresholds[i].sort()\n",
    "            \n",
    "            \n",
    "            #print(X_train[i])\n",
    "            for t in thresholds[i]:\n",
    "                y_left_ix = X_train[i][feature] < t\n",
    "                y_left, y_right = y_train[i][y_left_ix], y_train[i][~y_left_ix]\n",
    "                t_rss = rss(y_left, y_right)\n",
    "                if t_rss.item() < min_rss:\n",
    "                    min_rss = t_rss.item()\n",
    "                    best_threshold[i] = t\n",
    "                \n",
    "                \n",
    "        best_thres[idx] = np.mean(best_threshold)\n",
    "        y_left_ix = X_train[i][feature] < best_thres[idx]\n",
    "        y_left, y_right = y_train[i][y_left_ix], y_train[i][~y_left_ix]\n",
    "        rss_feature[idx] = rss(y_left, y_right)\n",
    "    best_feature = X_train[0].columns[np.argmin(rss_feature)]\n",
    "    best_threshold = best_thres[np.argmin(rss_feature)]\n",
    "\n",
    "    return {'feature': best_feature, 'threshold': best_threshold}\n",
    "\n",
    "\n",
    "def split_federated(X_train, y_train, depth, max_depth):\n",
    "    \n",
    "    if depth == max_depth or len(min(X_train, key=len)) < 2:\n",
    "        y_means = []\n",
    "        for i in y_train: \n",
    "            y_means.append(np.mean(i))\n",
    "        print(np.mean(y_means))\n",
    "        return {'prediction': np.mean(y_means)}\n",
    "    \n",
    "    rule = find_best_rule_federated(X_train, y_train)\n",
    "    print(rule)\n",
    "    X_train_left = [None]*len(X_train)\n",
    "    y_train_left = [None]*len(X_train)\n",
    "    X_train_right = [None]*len(X_train)\n",
    "    y_train_right = [None]*len(X_train)\n",
    "    \n",
    "    for i in range(len(X_train)): \n",
    "        left_ix = X_train[i][rule['feature']] < rule['threshold']\n",
    "        X_train_left[i] = X_train[i][left_ix]\n",
    "        y_train_left[i] = y_train[i][left_ix]\n",
    "        X_train_right[i] = X_train[i][~left_ix]\n",
    "        y_train_right[i] = y_train[i][~left_ix]\n",
    "\n",
    "    \n",
    "    rule['left'] = split_federated(X_train_left, y_train_left, depth + 1, max_depth)\n",
    "    rule['right'] = split_federated(X_train_right, y_train_right, depth + 1, max_depth)\n",
    "    return rule\n",
    "\n",
    "def predict(sample, rules):\n",
    "    prediction = None\n",
    "    while prediction is None:\n",
    "        feature, threshold = rules['feature'], rules['threshold']\n",
    "        if sample[feature] < threshold:\n",
    "            rules = rules['left']\n",
    "        else:\n",
    "            rules = rules['right']\n",
    "        prediction = rules.get('prediction', None)\n",
    "    return prediction\n",
    "\n",
    "def evaluate_fed(X, y):\n",
    "    preds = X.apply(predict, axis='columns', rules=rules_fed.copy())\n",
    "    return r2_score(preds, y)"
   ]
  },
  {
   "cell_type": "code",
   "execution_count": 362,
   "metadata": {},
   "outputs": [
    {
     "name": "stdout",
     "output_type": "stream",
     "text": [
      "{'feature': 'x', 'threshold': 7.017943608702332}\n",
      "{'feature': 'x', 'threshold': 3.075703303627364}\n",
      "[2.5952380952380953, 2.608108108108108]\n",
      "[4.119047619047619, 4.2926829268292686]\n",
      "[9      3\n",
      "10     3\n",
      "12     2\n",
      "17     3\n",
      "21     3\n",
      "      ..\n",
      "288    3\n",
      "289    3\n",
      "291    3\n",
      "295    2\n",
      "298    2\n",
      "Name: y, Length: 84, dtype: int64, 0      3\n",
      "3      3\n",
      "5      2\n",
      "14     2\n",
      "15     2\n",
      "      ..\n",
      "271    3\n",
      "272    2\n",
      "275    3\n",
      "281    3\n",
      "284    2\n",
      "Name: y, Length: 74, dtype: int64]\n",
      "{'feature': 'x_2', 'threshold': 5.045633046740136}\n",
      "[6.0, 6.0476190476190474]\n",
      "[9.0, 9.0]\n",
      "[2      6\n",
      "3      6\n",
      "8      6\n",
      "11     6\n",
      "18     6\n",
      "26     6\n",
      "31     6\n",
      "37     6\n",
      "40     6\n",
      "54     6\n",
      "55     6\n",
      "56     6\n",
      "59     6\n",
      "75     6\n",
      "84     6\n",
      "97     6\n",
      "98     6\n",
      "102    6\n",
      "116    6\n",
      "124    6\n",
      "139    6\n",
      "154    6\n",
      "175    6\n",
      "187    6\n",
      "196    6\n",
      "203    6\n",
      "204    6\n",
      "205    6\n",
      "225    6\n",
      "236    6\n",
      "239    6\n",
      "242    6\n",
      "285    6\n",
      "286    6\n",
      "290    6\n",
      "299    6\n",
      "Name: y, dtype: int64, 2      6\n",
      "6      6\n",
      "9      6\n",
      "10     6\n",
      "20     6\n",
      "      ..\n",
      "293    6\n",
      "294    6\n",
      "295    6\n",
      "296    6\n",
      "298    6\n",
      "Name: y, Length: 63, dtype: int64]\n",
      "[0      6\n",
      "1      3\n",
      "4      6\n",
      "7      6\n",
      "9      3\n",
      "      ..\n",
      "294    3\n",
      "295    2\n",
      "296    3\n",
      "297    3\n",
      "298    2\n",
      "Name: y, Length: 210, dtype: int64, 0      3\n",
      "1      6\n",
      "3      3\n",
      "4      6\n",
      "5      2\n",
      "      ..\n",
      "288    3\n",
      "289    3\n",
      "290    3\n",
      "297    6\n",
      "299    6\n",
      "Name: y, Length: 197, dtype: int64]\n"
     ]
    },
    {
     "data": {
      "text/plain": [
       "{'feature': 'x',\n",
       " 'threshold': 7.017943608702332,\n",
       " 'left': {'feature': 'x',\n",
       "  'threshold': 3.075703303627364,\n",
       "  'left': {'prediction': 2.601673101673102},\n",
       "  'right': {'prediction': 4.205865272938444}},\n",
       " 'right': {'feature': 'x_2',\n",
       "  'threshold': 5.045633046740136,\n",
       "  'left': {'prediction': 6.023809523809524},\n",
       "  'right': {'prediction': 9.0}}}"
      ]
     },
     "execution_count": 362,
     "metadata": {},
     "output_type": "execute_result"
    }
   ],
   "source": [
    "x_t = []\n",
    "y_t = []\n",
    "\n",
    "\n",
    "\n",
    "for i in range(0,2):\n",
    "    \n",
    "    x = [np.random.uniform(1,10) for i in range(0,300)]\n",
    "    x_2 = [np.random.uniform(1,10) for i in range(0,300)]\n",
    "\n",
    "    y = []\n",
    "\n",
    "    for i in range(len(x)): \n",
    "        if x_2[i] < 5 : \n",
    "            if x[i] < 3:\n",
    "                y.append(2)\n",
    "            else : \n",
    "                y.append(6)\n",
    "        else : \n",
    "            if x[i] < 7:\n",
    "                y.append(3)\n",
    "            else : \n",
    "                y.append(9)\n",
    "    df = pd.DataFrame({'x' : x,'x_2' : x_2, 'y':y})\n",
    "    X_train = df[['x','x_2']]\n",
    "    y_train = df[\"y\"]\n",
    "    \n",
    "    x_t.append(X_train)\n",
    "    y_t.append(y_train)\n",
    "    \n",
    "rules = split_federated(x_t, y_t, 0, 2)\n",
    "rules"
   ]
  },
  {
   "cell_type": "code",
   "execution_count": 180,
   "metadata": {},
   "outputs": [
    {
     "data": {
      "text/plain": [
       "{'feature': 'x', 'threshold': 3.0471922235798776}"
      ]
     },
     "execution_count": 180,
     "metadata": {},
     "output_type": "execute_result"
    }
   ],
   "source": [
    "x = [np.random.uniform(1,10) for i in range(0,300)]\n",
    "x_2 = [np.random.uniform(1,10) for i in range(0,300)]\n",
    "y = []\n",
    "\n",
    "for i in range(len(x)): \n",
    "    if x_2[i] < 5 : \n",
    "        if x[i] < 3:\n",
    "            y.append(2)\n",
    "        else : \n",
    "            y.append(6)\n",
    "    else : \n",
    "        if x[i] < 3:\n",
    "            y.append(1)\n",
    "        else : \n",
    "            y.append(9)\n",
    "df = pd.DataFrame({'x' : x,'x_2' : x_2, 'y':y})\n",
    "X_train = df[['x','x_2']]\n",
    "y_train = df[\"y\"]\n",
    "\n",
    "x_t = []\n",
    "y_t = []\n",
    "\n",
    "for i in range(0,10):\n",
    "    x_t.append(X_train)\n",
    "    y_t.append(y_train)\n",
    "\n",
    "type(x_t[0])\n",
    "a = find_best_rule_federated(x_t,y_t)\n",
    "a"
   ]
  },
  {
   "cell_type": "code",
   "execution_count": 190,
   "metadata": {},
   "outputs": [
    {
     "data": {
      "text/plain": [
       "300"
      ]
     },
     "execution_count": 190,
     "metadata": {},
     "output_type": "execute_result"
    }
   ],
   "source": [
    "np.mean(y_t)\n",
    "\n",
    "len(min(x_t, key=len))"
   ]
  },
  {
   "cell_type": "markdown",
   "metadata": {},
   "source": [
    "### Same samples "
   ]
  },
  {
   "cell_type": "code",
   "execution_count": 284,
   "metadata": {},
   "outputs": [
    {
     "name": "stdout",
     "output_type": "stream",
     "text": [
      "{'feature': 'x', 'threshold': 3.104975151934785, 'left': {'feature': 'x_2', 'threshold': 5.004872324512253, 'left': {'prediction': 2.0}, 'right': {'prediction': 1.0}}, 'right': {'feature': 'x_2', 'threshold': 5.084223702166, 'left': {'prediction': 6.0}, 'right': {'prediction': 9.0}}}\n",
      "Test R2: 0.9686046511627907\n"
     ]
    }
   ],
   "source": [
    "x = [np.random.uniform(1,10) for i in range(0,300)]\n",
    "x_2 = [np.random.uniform(1,10) for i in range(0,300)]\n",
    "y = []\n",
    "\n",
    "for i in range(len(x)): \n",
    "    if x_2[i] < 5 : \n",
    "        if x[i] < 3:\n",
    "            y.append(2)\n",
    "        else : \n",
    "            y.append(6)\n",
    "    else : \n",
    "        if x[i] < 3:\n",
    "            y.append(1)\n",
    "        else : \n",
    "            y.append(9)\n",
    "df = pd.DataFrame({'x' : x,'x_2' : x_2, 'y':y})\n",
    "X_train = df[['x','x_2']]\n",
    "y_train = df[\"y\"]\n",
    "\n",
    "x_t = []\n",
    "y_t = []\n",
    "\n",
    "for i in range(0,2):\n",
    "    x_t.append(X_train)\n",
    "    y_t.append(y_train)\n",
    "    \n",
    "\n",
    "x_test = [np.random.uniform(1,10) for i in range(0,30)]\n",
    "x_2_test = [np.random.uniform(1,10) for i in range(0,30)]\n",
    "y_test = []\n",
    "\n",
    "for i in range(len(x_test)): \n",
    "    if x_2_test[i] < 5 : \n",
    "        if x_test[i] < 3:\n",
    "            y_test.append(2)\n",
    "        else : \n",
    "            y_test.append(6)\n",
    "    else : \n",
    "        if x_test[i] < 3:\n",
    "            y_test.append(1)\n",
    "        else : \n",
    "            y_test.append(9)\n",
    "            \n",
    "\n",
    "df_test = pd.DataFrame({'x' : x_test,'x_2' : x_2_test, 'y':y_test})\n",
    "X_test = df_test[['x','x_2']]\n",
    "y_test = df_test[\"y\"]\n",
    "\n",
    "rules = split(x_t, y_t, 0, 2)\n",
    "print(rules)\n",
    "\n",
    "test_r2 = evaluate(X_test, y_test)\n",
    "print('Test R2:', test_r2)"
   ]
  },
  {
   "cell_type": "markdown",
   "metadata": {},
   "source": [
    "### Different samples from same rule "
   ]
  },
  {
   "cell_type": "code",
   "execution_count": 328,
   "metadata": {},
   "outputs": [
    {
     "name": "stdout",
     "output_type": "stream",
     "text": [
      "Test R2: -2.411412138014435\n"
     ]
    },
    {
     "data": {
      "text/plain": [
       "{'feature': 'x',\n",
       " 'threshold': 3.0031161086434004,\n",
       " 'left': {'feature': 'x_2',\n",
       "  'threshold': 5.036105715409223,\n",
       "  'left': {'prediction': 2.0},\n",
       "  'right': {'prediction': 1.0}},\n",
       " 'right': {'feature': 'x_2',\n",
       "  'threshold': 5.011514882419609,\n",
       "  'left': {'prediction': 6.025423728813559},\n",
       "  'right': {'prediction': 9.0}}}"
      ]
     },
     "execution_count": 328,
     "metadata": {},
     "output_type": "execute_result"
    }
   ],
   "source": [
    "x_t = []\n",
    "y_t = []\n",
    "\n",
    "x = [np.random.uniform(1,10) for i in range(0,300)]\n",
    "x_2 = [np.random.uniform(1,10) for i in range(0,300)]\n",
    "\n",
    "\n",
    "\n",
    "for i in range(0,10):\n",
    "    \n",
    "\n",
    "    y = []\n",
    "\n",
    "    for i in range(len(x)): \n",
    "        if x_2[i] < 5 : \n",
    "            if x[i] < 3:\n",
    "                y.append(2)\n",
    "            else : \n",
    "                y.append(6)\n",
    "        else : \n",
    "            if x[i] < 3:\n",
    "                y.append(1)\n",
    "            else : \n",
    "                y.append(9)\n",
    "    df = pd.DataFrame({'x' : x,'x_2' : x_2, 'y':y})\n",
    "    X_train = df[['x','x_2']]\n",
    "    y_train = df[\"y\"]\n",
    "    \n",
    "    x_t.append(X_train)\n",
    "    y_t.append(y_train)\n",
    "    \n",
    "\n",
    "x_test = [np.random.uniform(1,10) for i in range(0,30)]\n",
    "x_2_test = [np.random.uniform(1,10) for i in range(0,30)]\n",
    "y_test = []\n",
    "\n",
    "for i in range(len(x_test)): \n",
    "    if x_2_test[i] < 5 : \n",
    "        if x_test[i] < 3:\n",
    "            y_test.append(2)\n",
    "        else : \n",
    "            y_test.append(6)\n",
    "    else : \n",
    "        if x_test[i] < 9:\n",
    "            y_test.append(1)\n",
    "        else : \n",
    "            y_test.append(9)\n",
    "            \n",
    "\n",
    "df_test = pd.DataFrame({'x' : x_test,'x_2' : x_2_test, 'y':y_test})\n",
    "X_test = df_test[['x','x_2']]\n",
    "y_test = df_test[\"y\"]\n",
    "\n",
    "rules = split(x_t, y_t, 0, 2)\n",
    "\n",
    "\n",
    "test_r2 = evaluate(X_test, y_test)\n",
    "print('Test R2:', test_r2)\n",
    "\n",
    "#a = find_best_rule_federated(x_t,y_t)\n",
    "rules"
   ]
  },
  {
   "cell_type": "code",
   "execution_count": null,
   "metadata": {},
   "outputs": [],
   "source": []
  },
  {
   "cell_type": "markdown",
   "metadata": {},
   "source": [
    "### Random forest style aggregation "
   ]
  },
  {
   "cell_type": "code",
   "execution_count": 147,
   "metadata": {},
   "outputs": [],
   "source": [
    "def find_best_rule_forest(X_train, y_train):\n",
    "    best_feature, best_threshold, min_rss = None, None, np.inf\n",
    "    for feature in X_train.columns:\n",
    "        thresholds = X_train[feature].unique().tolist()\n",
    "        thresholds.sort()\n",
    "        thresholds = thresholds[1:]\n",
    "        for t in thresholds:\n",
    "            y_left_ix = X_train[feature] < t\n",
    "            y_left, y_right = y_train[y_left_ix], y_train[~y_left_ix]\n",
    "            t_rss = rss(y_left, y_right)\n",
    "            if t_rss.item() < min_rss:\n",
    "                min_rss = t_rss.item()\n",
    "                best_threshold = t\n",
    "                best_feature = feature\n",
    "    \n",
    "    return {'feature': best_feature, 'threshold': best_threshold}\n",
    "\n",
    "def split_forest(X_train, y_train, depth, max_depth):\n",
    "    if depth == max_depth or len(X_train) < 2:\n",
    "        return {'prediction': np.mean(y_train)}\n",
    "    \n",
    "    rule = find_best_rule_forest(X_train, y_train)\n",
    "    left_ix = X_train[rule['feature']] < rule['threshold']\n",
    "    rule['left'] = split_forest(X_train[left_ix], y_train[left_ix], depth + 1, max_depth)\n",
    "    rule['right'] = split_forest(X_train[~left_ix], y_train[~left_ix], depth + 1, max_depth)\n",
    "    return rule\n",
    "\n",
    "def forest(X_train, y_train, depth, max_depth):\n",
    "    trees = []\n",
    "    for i in  range(len(X_train)):\n",
    "        trees.append(split_forest(X_train[i],y_train[i], depth, max_depth))\n",
    "    return trees\n",
    "\n",
    "\n",
    "def predict_forest(sample, rules_forest):\n",
    "\n",
    "    predi = []\n",
    "    rules = [None]*len(rules_forest)\n",
    "    for i in range(len(rules)):\n",
    "        rules[i] = rules_forest[i].copy()\n",
    "        prediction = None\n",
    "        while prediction is None:\n",
    "            feature, threshold = rules[i]['feature'], rules[i]['threshold']\n",
    "            #print(sample)\n",
    "            if sample[feature] < threshold:\n",
    "                rules[i] = rules[i]['left']\n",
    "            else:\n",
    "                rules[i] = rules[i]['right']\n",
    "            #print(rules[i])\n",
    "                \n",
    "            prediction = rules[i].get('prediction', None)\n",
    "            #print(prediction)\n",
    "        predi.append(prediction)\n",
    "\n",
    "    return np.mean(predi)\n",
    "\n",
    "        \n",
    "def evaluate_forest(X, y):\n",
    "    preds = X.apply(predict_forest, axis='columns', rules_forest = forest_rules.copy())\n",
    "    return r2_score(preds, y)\n"
   ]
  },
  {
   "cell_type": "code",
   "execution_count": 323,
   "metadata": {},
   "outputs": [
    {
     "name": "stdout",
     "output_type": "stream",
     "text": [
      "0.24507144350210341\n"
     ]
    }
   ],
   "source": [
    "x_t = []\n",
    "y_t = []\n",
    "\n",
    "x = [np.random.uniform(1,10) for i in range(0,300)]\n",
    "x_2 = [np.random.uniform(1,10) for i in range(0,300)]\n",
    "\n",
    "for i in range(0,10):\n",
    "    \n",
    "\n",
    "\n",
    "    y = []\n",
    "\n",
    "    for i in range(len(x)): \n",
    "        if x_2[i] < 5 : \n",
    "            if x[i] < 3:\n",
    "                y.append(2)\n",
    "            else : \n",
    "                y.append(6)\n",
    "        else : \n",
    "            if x[i] < 2:\n",
    "                y.append(1)\n",
    "            else : \n",
    "                y.append(9)\n",
    "    df = pd.DataFrame({'x' : x,'x_2' : x_2, 'y':y})\n",
    "    X_train = df[['x','x_2']]\n",
    "    y_train = df[\"y\"]\n",
    "    \n",
    "    x_t.append(X_train)\n",
    "    y_t.append(y_train)\n",
    "    \n",
    "x_test = [np.random.uniform(1,10) for i in range(0,30)]\n",
    "x_2_test = [np.random.uniform(1,10) for i in range(0,30)]\n",
    "y_test = []\n",
    "\n",
    "for i in range(len(x_test)): \n",
    "    if x_2_test[i] < 5 : \n",
    "        if x_test[i] < 3:\n",
    "            y_test.append(2)\n",
    "        else : \n",
    "            y_test.append(6)\n",
    "    else : \n",
    "        if x_test[i] < 3:\n",
    "            y_test.append(1)\n",
    "        else : \n",
    "            y_test.append(9)\n",
    "            \n",
    "\n",
    "df_test = pd.DataFrame({'x' : x_test,'x_2' : x_2_test, 'y':y_test})\n",
    "X_test = df_test[['x','x_2']]\n",
    "y_test = df_test[\"y\"]\n",
    "\n",
    "    \n",
    "a = forest(x_t,y_t, 0,3, len(x_t))\n",
    "\n",
    "test = evaluate_forest(X_test, y_test)\n",
    "print(test)"
   ]
  },
  {
   "cell_type": "code",
   "execution_count": 324,
   "metadata": {},
   "outputs": [
    {
     "data": {
      "text/plain": [
       "{'feature': 'x', 'threshold': 2.138359980092336}"
      ]
     },
     "execution_count": 324,
     "metadata": {},
     "output_type": "execute_result"
    }
   ],
   "source": [
    "find_best_rule_forest(x_t[1],y_t[1])"
   ]
  },
  {
   "cell_type": "markdown",
   "metadata": {},
   "source": [
    "### Default tree "
   ]
  },
  {
   "cell_type": "code",
   "execution_count": 243,
   "metadata": {},
   "outputs": [],
   "source": [
    "def find_best_rule(X_train, y_train):\n",
    "    best_feature, best_threshold, min_rss = None, None, np.inf\n",
    "    \n",
    "    if type(X_train) == pd.core.series.Series:\n",
    "        X_train = X_train.to_frame()\n",
    "    \n",
    "    \n",
    "    for feature in X_train.columns:\n",
    "        thresholds = X_train[feature].unique().tolist()\n",
    "        thresholds.sort()\n",
    "        thresholds = thresholds[1:]\n",
    "        for t in thresholds:\n",
    "            y_left_ix = X_train[feature] < t\n",
    "            y_left, y_right = y_train[y_left_ix], y_train[~y_left_ix]\n",
    "            t_rss = rss(y_left, y_right)\n",
    "            if t_rss < min_rss:\n",
    "                min_rss = t_rss\n",
    "                best_threshold = t\n",
    "                best_feature = feature\n",
    "    \n",
    "    return {'feature': best_feature, 'threshold': best_threshold}\n",
    "\n",
    "\n",
    "\n",
    "def split(X_train, y_train, depth, max_depth):\n",
    "    if depth == max_depth or len(X_train) < 2:\n",
    "        print(np.mean(y_train))\n",
    "        return {'prediction': np.mean(y_train)}\n",
    "    \n",
    "    rule = find_best_rule(X_train, y_train)\n",
    "    print(rule)\n",
    "    left_ix = X_train[rule['feature']] < rule['threshold']\n",
    "    rule['left'] = split(X_train[left_ix], y_train[left_ix], depth + 1, max_depth)\n",
    "    rule['right'] = split(X_train[~left_ix], y_train[~left_ix], depth + 1, max_depth)\n",
    "    return rule\n",
    "\n",
    "def predict(sample, rules):\n",
    "    prediction = None\n",
    "    while prediction is None:\n",
    "        feature, threshold = rules['feature'], rules['threshold']\n",
    "        if sample[feature] < threshold:\n",
    "            rules = rules['left']\n",
    "        else:\n",
    "            rules = rules['right']\n",
    "        prediction = rules.get('prediction', None)\n",
    "        \n",
    "    return prediction\n",
    "\n",
    "\n",
    "def evaluate(X, y):\n",
    "    preds = X.apply(predict, axis='columns', rules=rules.copy())\n",
    "    return r2_score(preds, y)\n"
   ]
  },
  {
   "cell_type": "code",
   "execution_count": 123,
   "metadata": {},
   "outputs": [],
   "source": [
    "def prepare_dataset():\n",
    "    boston = load_boston()\n",
    "    X_y = np.column_stack([boston['data'], boston['target']])\n",
    "    np.random.seed(1)\n",
    "    np.random.shuffle(X_y)\n",
    "    \n",
    "    X, y = X_y[:,:-1], X_y[:,-1]\n",
    "    X_train, y_train, X_test, y_test = X[:400], y[:400], X[400:], y[400:]\n",
    "    X_train = pd.DataFrame(X_train, columns=boston['feature_names'])\n",
    "    X_test = pd.DataFrame(X_test, columns=boston['feature_names'])\n",
    "    y_train = pd.Series(y_train, name='House Price')\n",
    "    y_test = pd.Series(y_test, name='House Price')\n",
    "    return X_train, y_train, X_test, y_test\n",
    "\n",
    "\n",
    "\n"
   ]
  },
  {
   "cell_type": "code",
   "execution_count": 6,
   "metadata": {},
   "outputs": [
    {
     "data": {
      "text/plain": [
       "pandas.core.frame.DataFrame"
      ]
     },
     "execution_count": 6,
     "metadata": {},
     "output_type": "execute_result"
    }
   ],
   "source": [
    "a = np.array_split(X_train, 3)\n",
    "type(a[0])"
   ]
  },
  {
   "cell_type": "code",
   "execution_count": 372,
   "metadata": {},
   "outputs": [
    {
     "name": "stdout",
     "output_type": "stream",
     "text": [
      "Training R2: 0.7708091374308115 Test R2: 0.7196592096391115\n"
     ]
    }
   ],
   "source": [
    "X_train, y_train, X_test, y_test = prepare_dataset()\n",
    "\n",
    "rules = split(X_train, y_train, 0, 3)\n",
    "\n",
    "train_r2 = evaluate(X_train, y_train)\n",
    "test_r2 = evaluate(X_test, y_test)\n",
    "print('Training R2:', train_r2, 'Test R2:',test_r2)"
   ]
  },
  {
   "cell_type": "code",
   "execution_count": 143,
   "metadata": {},
   "outputs": [
    {
     "name": "stdout",
     "output_type": "stream",
     "text": [
      "3\n",
      "{'feature': 'LSTAT', 'threshold': 9.236666666666666}\n",
      "{'feature': 'LSTAT', 'threshold': 5.216666666666666}\n",
      "{'feature': 'CRIM', 'threshold': 0.7158766666666666}\n",
      "35.57714285714286\n",
      "49.03333333333333\n",
      "{'feature': 'RM', 'threshold': 7.129666666666666}\n",
      "24.400026881720432\n",
      "36.01777777777778\n",
      "{'feature': 'LSTAT', 'threshold': 16.546666666666667}\n",
      "{'feature': 'LSTAT', 'threshold': 11.533333333333333}\n",
      "22.249603174603177\n",
      "19.492597701149425\n",
      "{'feature': 'CRIM', 'threshold': 6.006896666666666}\n",
      "16.633015873015868\n",
      "11.944004329004331\n",
      "Test R2: 0.4918790710957702\n"
     ]
    }
   ],
   "source": [
    "X_train, y_train, X_test, y_test = prepare_dataset()\n",
    "X_train[\"y\"] = y_train\n",
    "a = np.array_split(X_train, 3)\n",
    "a\n",
    "x_t = []\n",
    "y_t = []\n",
    "for i in range(0,3): \n",
    "    x_t.append(a[i].loc[:, a[i].columns != 'y'])\n",
    "    y_t.append(a[i].loc[:, a[i].columns == 'y'])\n",
    "\n",
    "rules_fed = split_federated(x_t, y_t, 0, 3)\n",
    "\n",
    "#train_r2 = evaluate_fed(X_train, y_train)\n",
    "test_r2 = evaluate_fed(X_test, y_test)\n",
    "print('Test R2:',test_r2)"
   ]
  },
  {
   "cell_type": "code",
   "execution_count": 176,
   "metadata": {},
   "outputs": [
    {
     "name": "stdout",
     "output_type": "stream",
     "text": [
      "{'feature': 'RM', 'threshold': 6.982}\n",
      "{'feature': 'DIS', 'threshold': 1.9512}\n",
      "{'feature': 'CRIM', 'threshold': 9.91655}\n",
      "14.680000000000001\n",
      "10.0\n",
      "{'feature': 'LSTAT', 'threshold': 10.24}\n",
      "24.472727272727276\n",
      "20.46153846153846\n",
      "{'feature': 'RM', 'threshold': 7.831}\n",
      "{'feature': 'INDUS', 'threshold': 6.96}\n",
      "32.4\n",
      "35.2\n",
      "{'feature': 'CRIM', 'threshold': 0.31533}\n",
      "50.0\n",
      "47.4\n",
      "0.4379592980507183\n"
     ]
    }
   ],
   "source": [
    "X_train, y_train, X_test, y_test = prepare_dataset()\n",
    "X = X_train.sample(n = 40).sort_index()\n",
    "y = y_train[y_train.index.isin(X.index)]\n",
    "\n",
    "rules = split(X, y,0,3)\n",
    "\n",
    "test_r2 = evaluate(X_test,y_test)\n",
    "print(test_r2)"
   ]
  },
  {
   "cell_type": "code",
   "execution_count": 179,
   "metadata": {},
   "outputs": [
    {
     "data": {
      "text/plain": [
       "numpy.ndarray"
      ]
     },
     "execution_count": 179,
     "metadata": {},
     "output_type": "execute_result"
    }
   ],
   "source": [
    "type(cc.to_numpy())"
   ]
  },
  {
   "cell_type": "code",
   "execution_count": 166,
   "metadata": {},
   "outputs": [
    {
     "name": "stdout",
     "output_type": "stream",
     "text": [
      "0.6021822198266922\n"
     ]
    }
   ],
   "source": [
    "X_train, y_train, X_test, y_test = prepare_dataset()\n",
    "X_train[\"y\"] = y_train\n",
    "a = np.array_split(X_train, 10)\n",
    "\n",
    "x_t = []\n",
    "y_t = []\n",
    "for i in range(0,10): \n",
    "    x_t.append(a[i].loc[:, a[i].columns != 'y'])\n",
    "    y_t.append(a[i].loc[:, a[i].columns == 'y'])\n",
    "\n",
    "forest_rules = forest(x_t,y_t, 0,5)\n",
    "\n",
    "test_r2 = evaluate_forest(X_test,y_test)\n",
    "print(test_r2)"
   ]
  },
  {
   "cell_type": "code",
   "execution_count": 212,
   "metadata": {},
   "outputs": [
    {
     "data": {
      "text/plain": [
       "0.4928223021422895"
      ]
     },
     "execution_count": 212,
     "metadata": {},
     "output_type": "execute_result"
    }
   ],
   "source": [
    "X_train, y_train, X_test, y_test = prepare_dataset()\n",
    "X = X_train.sample(n = 40).sort_index()\n",
    "y = y_train[y_train.index.isin(X.index)]\n",
    "\n",
    "clf = tree.DecisionTreeRegressor(max_depth=5)\n",
    "clf = clf.fit(X, y)\n",
    "pred = clf.predict(X_test)\n",
    "\n",
    "r2_score(pred, y_test)\n"
   ]
  },
  {
   "cell_type": "markdown",
   "metadata": {},
   "source": [
    "## Test with toy data "
   ]
  },
  {
   "cell_type": "code",
   "execution_count": 233,
   "metadata": {},
   "outputs": [
    {
     "data": {
      "image/png": "[encoded data removed]",
      "text/plain": [
       "<Figure size 432x288 with 1 Axes>"
      ]
     },
     "metadata": {
      "needs_background": "light"
     },
     "output_type": "display_data"
    }
   ],
   "source": [
    "rng = np.random.default_rng()\n",
    "x = np.linspace(0, 10, 500)\n",
    "\n",
    "y = np.where(x < 5, x, 5) + rng.normal(0, 0.4, size=x.shape)\n",
    "#x = x.reshape(-1,1)\n",
    "\n",
    "df = pd.DataFrame({'x' : x, \"x_2\": x, 'y' : y})\n",
    "\n",
    "#hide_input\n",
    "plt.scatter(x,y, label='y')\n",
    "plt.xlabel('x')\n",
    "plt.ylabel('y')\n",
    "plt.legend();"
   ]
  },
  {
   "cell_type": "code",
   "execution_count": 244,
   "metadata": {},
   "outputs": [
    {
     "ename": "AttributeError",
     "evalue": "'Series' object has no attribute 'columns'",
     "output_type": "error",
     "traceback": [
      "\u001b[1;31m---------------------------------------------------------------------------\u001b[0m",
      "\u001b[1;31mAttributeError\u001b[0m                            Traceback (most recent call last)",
      "\u001b[1;32m~\\AppData\\Local\\Temp/ipykernel_14492/731047623.py\u001b[0m in \u001b[0;36m<module>\u001b[1;34m\u001b[0m\n\u001b[0;32m      7\u001b[0m \u001b[0my_t\u001b[0m \u001b[1;33m=\u001b[0m \u001b[1;33m[\u001b[0m\u001b[1;33m]\u001b[0m\u001b[1;33m\u001b[0m\u001b[1;33m\u001b[0m\u001b[0m\n\u001b[0;32m      8\u001b[0m \u001b[1;32mfor\u001b[0m \u001b[0mi\u001b[0m \u001b[1;32min\u001b[0m \u001b[0mrange\u001b[0m\u001b[1;33m(\u001b[0m\u001b[1;36m0\u001b[0m\u001b[1;33m,\u001b[0m\u001b[1;36m5\u001b[0m\u001b[1;33m)\u001b[0m\u001b[1;33m:\u001b[0m\u001b[1;33m\u001b[0m\u001b[1;33m\u001b[0m\u001b[0m\n\u001b[1;32m----> 9\u001b[1;33m     \u001b[0mx_t\u001b[0m\u001b[1;33m.\u001b[0m\u001b[0mappend\u001b[0m\u001b[1;33m(\u001b[0m\u001b[0ma\u001b[0m\u001b[1;33m[\u001b[0m\u001b[0mi\u001b[0m\u001b[1;33m]\u001b[0m\u001b[1;33m.\u001b[0m\u001b[0mloc\u001b[0m\u001b[1;33m[\u001b[0m\u001b[1;33m:\u001b[0m\u001b[1;33m,\u001b[0m \u001b[0ma\u001b[0m\u001b[1;33m[\u001b[0m\u001b[0mi\u001b[0m\u001b[1;33m]\u001b[0m\u001b[1;33m.\u001b[0m\u001b[0mcolumns\u001b[0m \u001b[1;33m!=\u001b[0m \u001b[1;34m'y'\u001b[0m\u001b[1;33m]\u001b[0m\u001b[1;33m)\u001b[0m\u001b[1;33m\u001b[0m\u001b[1;33m\u001b[0m\u001b[0m\n\u001b[0m\u001b[0;32m     10\u001b[0m     \u001b[0my_t\u001b[0m\u001b[1;33m.\u001b[0m\u001b[0mappend\u001b[0m\u001b[1;33m(\u001b[0m\u001b[0ma\u001b[0m\u001b[1;33m[\u001b[0m\u001b[0mi\u001b[0m\u001b[1;33m]\u001b[0m\u001b[1;33m.\u001b[0m\u001b[0mloc\u001b[0m\u001b[1;33m[\u001b[0m\u001b[1;33m:\u001b[0m\u001b[1;33m,\u001b[0m \u001b[0ma\u001b[0m\u001b[1;33m[\u001b[0m\u001b[0mi\u001b[0m\u001b[1;33m]\u001b[0m\u001b[1;33m.\u001b[0m\u001b[0mcolumns\u001b[0m \u001b[1;33m==\u001b[0m \u001b[1;34m'y'\u001b[0m\u001b[1;33m]\u001b[0m\u001b[1;33m)\u001b[0m\u001b[1;33m\u001b[0m\u001b[1;33m\u001b[0m\u001b[0m\n\u001b[0;32m     11\u001b[0m \u001b[1;33m\u001b[0m\u001b[0m\n",
      "\u001b[1;32mC:\\ProgramData\\Anaconda3\\lib\\site-packages\\pandas\\core\\generic.py\u001b[0m in \u001b[0;36m__getattr__\u001b[1;34m(self, name)\u001b[0m\n\u001b[0;32m   5485\u001b[0m         ):\n\u001b[0;32m   5486\u001b[0m             \u001b[1;32mreturn\u001b[0m \u001b[0mself\u001b[0m\u001b[1;33m[\u001b[0m\u001b[0mname\u001b[0m\u001b[1;33m]\u001b[0m\u001b[1;33m\u001b[0m\u001b[1;33m\u001b[0m\u001b[0m\n\u001b[1;32m-> 5487\u001b[1;33m         \u001b[1;32mreturn\u001b[0m \u001b[0mobject\u001b[0m\u001b[1;33m.\u001b[0m\u001b[0m__getattribute__\u001b[0m\u001b[1;33m(\u001b[0m\u001b[0mself\u001b[0m\u001b[1;33m,\u001b[0m \u001b[0mname\u001b[0m\u001b[1;33m)\u001b[0m\u001b[1;33m\u001b[0m\u001b[1;33m\u001b[0m\u001b[0m\n\u001b[0m\u001b[0;32m   5488\u001b[0m \u001b[1;33m\u001b[0m\u001b[0m\n\u001b[0;32m   5489\u001b[0m     \u001b[1;32mdef\u001b[0m \u001b[0m__setattr__\u001b[0m\u001b[1;33m(\u001b[0m\u001b[0mself\u001b[0m\u001b[1;33m,\u001b[0m \u001b[0mname\u001b[0m\u001b[1;33m:\u001b[0m \u001b[0mstr\u001b[0m\u001b[1;33m,\u001b[0m \u001b[0mvalue\u001b[0m\u001b[1;33m)\u001b[0m \u001b[1;33m->\u001b[0m \u001b[1;32mNone\u001b[0m\u001b[1;33m:\u001b[0m\u001b[1;33m\u001b[0m\u001b[1;33m\u001b[0m\u001b[0m\n",
      "\u001b[1;31mAttributeError\u001b[0m: 'Series' object has no attribute 'columns'"
     ]
    }
   ],
   "source": [
    "X_train, X_test, y_train, y_test = train_test_split(df[\"x\"], df[\"y\"], test_size=0.33, random_state=42)\n",
    "\n",
    "X_train[\"y\"] = y_train\n",
    "a = np.array_split(X_train, 5)\n",
    "\n",
    "x_t = []\n",
    "y_t = []\n",
    "for i in range(0,5): \n",
    "    x_t.append(])\n",
    "    y_t.append(a[i].loc[:, a[i].columns == 'y'])\n",
    "\n",
    "forest_rules = forest(x_t,y_t, 0,3)\n",
    "\n",
    "test_r2 = evaluate_forest(X_test,y_test)\n",
    "print(test_r2)\n",
    "\n",
    "\n"
   ]
  },
  {
   "cell_type": "code",
   "execution_count": 230,
   "metadata": {},
   "outputs": [
    {
     "name": "stdout",
     "output_type": "stream",
     "text": [
      "{'feature': 'x', 'threshold': 3.4869739478957915}\n",
      "{'feature': 'x', 'threshold': 1.783567134268537}\n",
      "{'feature': 'x', 'threshold': 0.7615230460921844}\n",
      "0.07746726470611469\n",
      "1.3167803940452503\n",
      "{'feature': 'x', 'threshold': 2.50501002004008}\n",
      "2.3344885737487964\n",
      "2.7006552117729434\n",
      "{'feature': 'x', 'threshold': 4.669338677354709}\n",
      "{'feature': 'x', 'threshold': 3.7675350701402803}\n",
      "3.5583667077491286\n",
      "4.070016903785264\n",
      "{'feature': 'x', 'threshold': 9.579158316633267}\n",
      "4.836306133006495\n",
      "5.140790852388598\n",
      "0.9321384321428728\n"
     ]
    }
   ],
   "source": [
    "X_train, X_test, y_train, y_test = train_test_split(df[[\"x\",\"x_2\"]], df[\"y\"], test_size=0.33, random_state=42)\n",
    "\n",
    "X = X_train.sample(n = 100).sort_index()\n",
    "y = y_train[y_train.index.isin(X.index)]\n",
    "\n",
    "rules = split(X, y,0,3)\n",
    "\n",
    "test_r2 = evaluate(X_test,y_test)\n",
    "print(test_r2)\n",
    "\n"
   ]
  },
  {
   "cell_type": "code",
   "execution_count": 241,
   "metadata": {},
   "outputs": [
    {
     "name": "stdout",
     "output_type": "stream",
     "text": [
      "{'feature': 'x', 'threshold': 3.3106212424849693}\n",
      "{'feature': 'x', 'threshold': 2.0040080160320644}\n",
      "{'feature': 'x', 'threshold': 1.122244488977956}\n",
      "0.6183375768663076\n",
      "1.6326689498411309\n",
      "{'feature': 'x', 'threshold': 2.7094188376753507}\n",
      "2.6096155129464558\n",
      "3.0809932021997297\n",
      "{'feature': 'x', 'threshold': 4.384769539078156}\n",
      "{'feature': 'x', 'threshold': 3.8757515030060112}\n",
      "3.523869672035808\n",
      "4.3176977335978135\n",
      "{'feature': 'x', 'threshold': 7.2104208416833675}\n",
      "4.927625283965186\n",
      "5.018968064437134\n",
      "Test R2: 0.9400097054307072\n"
     ]
    }
   ],
   "source": [
    "X_train, X_test, y_train, y_test = train_test_split(df[[\"x\"]], df[\"y\"], test_size=0.33, random_state=42)\n",
    "\n",
    "X_train[\"y\"] = y_train\n",
    "a = np.array_split(X_train, 5)\n",
    "\n",
    "x_t = []\n",
    "y_t = []\n",
    "for i in range(0,5): \n",
    "    x_t.append(a[i].loc[:, a[i].columns != 'y'])\n",
    "    y_t.append(a[i].loc[:, a[i].columns == 'y'])\n",
    "\n",
    "rules_fed = split_federated(x_t, y_t, 0, 3)\n",
    "\n",
    "#train_r2 = evaluate_fed(X_train, y_train)\n",
    "test_r2 = evaluate_fed(X_test, y_test)\n",
    "print('Test R2:',test_r2)"
   ]
  }
 ],
 "metadata": {
  "kernelspec": {
   "display_name": "Python 3 (ipykernel)",
   "language": "python",
   "name": "python3"
  },
  "language_info": {
   "codemirror_mode": {
    "name": "ipython",
    "version": 3
   },
   "file_extension": ".py",
   "mimetype": "text/x-python",
   "name": "python",
   "nbconvert_exporter": "python",
   "pygments_lexer": "ipython3",
   "version": "3.9.7"
  }
 },
 "nbformat": 4,
 "nbformat_minor": 4
}
