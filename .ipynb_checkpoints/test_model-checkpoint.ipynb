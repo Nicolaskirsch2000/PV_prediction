{
 "cells": [
  {
   "cell_type": "code",
   "execution_count": 18,
   "id": "8435551e",
   "metadata": {},
   "outputs": [],
   "source": [
    "import pandas as pd \n",
    "import pickle\n",
    "import numpy as np\n",
    "from sklearn import linear_model\n",
    "from sklearn.metrics import r2_score, mean_squared_error\n",
    "import tensorflow as tf\n",
    "import xgboost as xgb\n",
    "\n",
    "from sklearn.model_selection import GridSearchCV\n"
   ]
  },
  {
   "cell_type": "code",
   "execution_count": 3,
   "id": "6769f8cb",
   "metadata": {},
   "outputs": [],
   "source": [
    "data = []\n",
    "with (open(\"saved_results/clients_data\", \"rb\")) as openfile:\n",
    "    while True:\n",
    "        try:\n",
    "            data.append(pickle.load(openfile))\n",
    "        except EOFError:\n",
    "            break"
   ]
  },
  {
   "cell_type": "markdown",
   "id": "90360467",
   "metadata": {},
   "source": [
    "data[customer][train_test][feature]\n"
   ]
  },
  {
   "cell_type": "markdown",
   "id": "eedfd28d",
   "metadata": {},
   "source": [
    "2 steps - train individual models per customer, then 1 global model for all data"
   ]
  },
  {
   "cell_type": "markdown",
   "id": "e7957a93",
   "metadata": {},
   "source": [
    "## Dataframe creation "
   ]
  },
  {
   "cell_type": "code",
   "execution_count": 4,
   "id": "7541fa40",
   "metadata": {},
   "outputs": [],
   "source": [
    "#One dataframe per household\n",
    "dfs_train = [None]*25\n",
    "dfs_test = [None]*25\n",
    "\n",
    "for i in range(len(data[0])):\n",
    "    #Create train dfs\n",
    "    mat_train = np.matrix(data[0][i][0])\n",
    "    dfs_train[i] = pd.DataFrame(mat_train)\n",
    "    dfs_train[i]['pred'] = data[0][i][1].tolist()\n",
    "    \n",
    "    #Create test dfs\n",
    "    mat = np.matrix(data[0][i][2])\n",
    "    dfs_test[i] = pd.DataFrame(mat)\n",
    "    dfs_test[i]['pred'] = data[0][i][3].tolist()"
   ]
  },
  {
   "cell_type": "code",
   "execution_count": 5,
   "id": "e0e0b6a7",
   "metadata": {},
   "outputs": [],
   "source": [
    "#One complete df \n",
    "tot_train = dfs_train[0]\n",
    "tot_test = dfs_test[0]\n",
    "\n",
    "for i in range(len(dfs_train)-1):\n",
    "    tot_train = tot_train.append(dfs_train[i+1])\n",
    "    tot_test = tot_test.append(dfs_train[i+1])"
   ]
  },
  {
   "cell_type": "markdown",
   "id": "fdea30e8",
   "metadata": {},
   "source": [
    "## Multi-linear regression \n"
   ]
  },
  {
   "cell_type": "code",
   "execution_count": 25,
   "id": "bce1524f",
   "metadata": {},
   "outputs": [
    {
     "name": "stdout",
     "output_type": "stream",
     "text": [
      "Adjusted R2 : 0.7495491609617009\n",
      "MSE : 0.28565978932868724\n"
     ]
    }
   ],
   "source": [
    "#One household\n",
    "X_train = dfs_train[0].loc[:, dfs_train[0].columns != 'pred']\n",
    "X_test = dfs_test[0].loc[:, dfs_test[0].columns != 'pred']\n",
    "\n",
    "y_train = dfs_train[0].loc[:, dfs_train[0].columns == 'pred']\n",
    "y_test = dfs_test[0].loc[:, dfs_test[0].columns == 'pred']\n",
    "\n",
    "regr = linear_model.LinearRegression()\n",
    "regr.fit(X_train, y_train)\n",
    "\n",
    "y_pred = regr.predict(X_test)\n",
    "\n",
    "r2_adj = 1-(1-r2_score(y_test, y_pred))*((len(X_test)-1)/(len(X_test)-len(X_test.columns)-1))\n",
    "mse = mean_squared_error(y_test, y_pred)\n",
    "\n",
    "print(\"Adjusted R2 : \" + r2_adj.astype(str) + \"\\nMSE : \" + mse.astype(str))\n",
    "\n"
   ]
  },
  {
   "cell_type": "code",
   "execution_count": 28,
   "id": "5cde7745",
   "metadata": {},
   "outputs": [
    {
     "name": "stdout",
     "output_type": "stream",
     "text": [
      "Adjusted R2 : 0.68700508300428\n",
      "MSE : 0.31843413883381044\n"
     ]
    }
   ],
   "source": [
    "#One model per household\n",
    "r_2 = [None]*len(dfs_train)\n",
    "mserror = [None]*len(dfs_train)\n",
    "for i in range(len(dfs_train)):\n",
    "    X_train = dfs_train[i].loc[:, dfs_train[i].columns != 'pred']\n",
    "    X_test = dfs_test[i].loc[:, dfs_test[i].columns != 'pred']\n",
    "\n",
    "\n",
    "    y_train = dfs_train[i].loc[:, dfs_train[i].columns == 'pred']\n",
    "    y_test = dfs_test[i].loc[:, dfs_test[i].columns == 'pred']\n",
    "    \n",
    "    regr = linear_model.LinearRegression()\n",
    "    regr.fit(X_train, y_train)\n",
    "\n",
    "    y_pred = regr.predict(X_test)\n",
    "    \n",
    "    r_2[i] = 1-(1-r2_score(y_test, y_pred))*((len(X_test)-1)/(len(X_test)-len(X_test.columns)-1))\n",
    "    mserror[i] = mean_squared_error(y_test, y_pred)\n",
    "    \n",
    "    \n",
    "r2_adj = np.mean(r_2)\n",
    "mse = np.mean(mserror)\n",
    "\n",
    "print(\"Adjusted R2 : \" + r2_adj.astype(str) + \"\\nMSE : \" + mse.astype(str))"
   ]
  },
  {
   "cell_type": "code",
   "execution_count": 32,
   "id": "4be95dcb",
   "metadata": {},
   "outputs": [
    {
     "name": "stdout",
     "output_type": "stream",
     "text": [
      "Adjusted R2 : 0.7878142498010648\n",
      "MSE : 0.2135946090738038\n"
     ]
    }
   ],
   "source": [
    "#All together \n",
    "X_train = tot_train.loc[:, tot_train.columns != 'pred']\n",
    "X_test = tot_test.loc[:, tot_test.columns != 'pred']\n",
    "\n",
    "\n",
    "y_train = tot_train.loc[:, tot_train.columns == 'pred']\n",
    "y_test = tot_test.loc[:, tot_test.columns == 'pred']\n",
    "\n",
    "regr = linear_model.LinearRegression()\n",
    "regr.fit(X_train, y_train)\n",
    "\n",
    "y_pred = regr.predict(X_test)\n",
    "\n",
    "r2_adj = 1-(1-r2_score(y_test, y_pred))*((len(X_test)-1)/(len(X_test)-len(X_test.columns)-1))\n",
    "mse = mean_squared_error(y_test, y_pred)\n",
    "\n",
    "print(\"Adjusted R2 : \" + r2_adj.astype(str) + \"\\nMSE : \" + mse.astype(str))\n"
   ]
  },
  {
   "cell_type": "markdown",
   "id": "5e5cfb81",
   "metadata": {},
   "source": [
    "## ANN Linear"
   ]
  },
  {
   "cell_type": "code",
   "execution_count": 37,
   "id": "f1543e7b",
   "metadata": {},
   "outputs": [
    {
     "name": "stdout",
     "output_type": "stream",
     "text": [
      "239/239 [==============================] - 1s 3ms/step\n",
      "Adjusted R2 : 0.7875811258924978\n",
      "MSE : 0.21382928086523856\n"
     ]
    }
   ],
   "source": [
    "#Initialising ANN\n",
    "ann = tf.keras.models.Sequential()\n",
    "\n",
    "#Adding First Hidden Layer\n",
    "ann.add(tf.keras.layers.Dense(units=8))\n",
    "\n",
    "#Adding Second Hidden Layer\n",
    "ann.add(tf.keras.layers.Dense(units=4))\n",
    "\n",
    "#Adding Output Layer\n",
    "ann.add(tf.keras.layers.Dense(units=1))\n",
    "\n",
    "\n",
    "#Compiling ANN\n",
    "ann.compile(optimizer=\"adam\",loss=\"MeanSquaredError\")\n",
    "\n",
    "X_train = tot_train.loc[:, tot_train.columns != 'pred']\n",
    "X_test = tot_test.loc[:, tot_test.columns != 'pred']\n",
    "\n",
    "\n",
    "y_train = tot_train.loc[:, tot_train.columns == 'pred']\n",
    "y_test = tot_test.loc[:, tot_test.columns == 'pred']\n",
    "\n",
    "#Fitting ANN\n",
    "ann.fit(X_train,y_train,batch_size=32,epochs = 15, verbose=0)\n",
    "\n",
    "y_pred = ann.predict(X_test)\n",
    "y_pred\n",
    "\n",
    "r2_adj = 1-(1-r2_score(y_test, y_pred))*((len(X_test)-1)/(len(X_test)-len(X_test.columns)-1))\n",
    "mse = mean_squared_error(y_test, y_pred)\n",
    "\n",
    "print(\"Adjusted R2 : \" + r2_adj.astype(str) + \"\\nMSE : \" + mse.astype(str))\n"
   ]
  },
  {
   "cell_type": "code",
   "execution_count": 38,
   "id": "cad887c4",
   "metadata": {},
   "outputs": [
    {
     "name": "stdout",
     "output_type": "stream",
     "text": [
      "10/10 [==============================] - 0s 4ms/step\n",
      "10/10 [==============================] - 0s 3ms/step\n",
      "10/10 [==============================] - 0s 3ms/step\n",
      "10/10 [==============================] - 0s 3ms/step\n",
      "10/10 [==============================] - 0s 4ms/step\n",
      "10/10 [==============================] - 0s 3ms/step\n",
      "10/10 [==============================] - 0s 3ms/step\n",
      "10/10 [==============================] - 0s 4ms/step\n",
      "10/10 [==============================] - 0s 4ms/step\n",
      "10/10 [==============================] - 0s 3ms/step\n",
      "10/10 [==============================] - 0s 2ms/step\n",
      "10/10 [==============================] - 0s 2ms/step\n",
      "10/10 [==============================] - 0s 5ms/step\n",
      "10/10 [==============================] - 0s 2ms/step\n",
      "10/10 [==============================] - 0s 2ms/step\n",
      "10/10 [==============================] - 0s 2ms/step\n",
      "10/10 [==============================] - 0s 2ms/step\n",
      "10/10 [==============================] - 0s 2ms/step\n",
      "10/10 [==============================] - 0s 4ms/step\n",
      "10/10 [==============================] - 0s 2ms/step\n",
      "10/10 [==============================] - 0s 3ms/step\n",
      "10/10 [==============================] - 0s 2ms/step\n",
      "10/10 [==============================] - 0s 4ms/step\n",
      "10/10 [==============================] - 0s 5ms/step\n",
      "10/10 [==============================] - 0s 3ms/step\n",
      "Adjusted R2 : 0.6881897774793262\n",
      "MSE : 0.3172990707016136\n"
     ]
    }
   ],
   "source": [
    "#One model per household\n",
    "r_2 = [None]*len(dfs_train)\n",
    "mserror = [None]*len(dfs_train)\n",
    "\n",
    "for i in range(len(dfs_train)):\n",
    "    X_train = dfs_train[i].loc[:, dfs_train[i].columns != 'pred']\n",
    "    X_test = dfs_test[i].loc[:, dfs_test[i].columns != 'pred']\n",
    "\n",
    "\n",
    "    y_train = dfs_train[i].loc[:, dfs_train[i].columns == 'pred']\n",
    "    y_test = dfs_test[i].loc[:, dfs_test[i].columns == 'pred']\n",
    "\n",
    "    #Initialising ANN\n",
    "    ann = tf.keras.models.Sequential()\n",
    "\n",
    "    #Adding First Hidden Layer\n",
    "    ann.add(tf.keras.layers.Dense(units=8))\n",
    "\n",
    "    #Adding Second Hidden Layer\n",
    "    ann.add(tf.keras.layers.Dense(units=4))\n",
    "\n",
    "    #Adding Output Layer\n",
    "    ann.add(tf.keras.layers.Dense(units=1))\n",
    "\n",
    "    #Compiling ANN\n",
    "    ann.compile(optimizer=\"adam\",loss=\"MeanSquaredError\")\n",
    "    \n",
    "    #Fitting ANN\n",
    "    ann.fit(X_train,y_train,batch_size=32,epochs = 100, verbose=0)\n",
    "\n",
    "    y_pred = ann.predict(X_test)\n",
    "    \n",
    "    r_2[i] = 1-(1-r2_score(y_test, y_pred))*((len(X_test)-1)/(len(X_test)-len(X_test.columns)-1))\n",
    "    mserror[i] = mean_squared_error(y_test, y_pred)\n",
    "    \n",
    "    \n",
    "r2_adj = np.mean(r_2)\n",
    "mse = np.mean(mserror)\n",
    "\n",
    "print(\"Adjusted R2 : \" + r2_adj.astype(str) + \"\\nMSE : \" + mse.astype(str))"
   ]
  },
  {
   "cell_type": "markdown",
   "id": "d0048afb",
   "metadata": {},
   "source": [
    "## ANN Non-Linear"
   ]
  },
  {
   "cell_type": "code",
   "execution_count": 39,
   "id": "acae527d",
   "metadata": {},
   "outputs": [
    {
     "name": "stdout",
     "output_type": "stream",
     "text": [
      "239/239 [==============================] - 1s 3ms/step\n",
      "Adjusted R2 : 0.740388700632667\n",
      "MSE : 0.2613350517059652\n"
     ]
    }
   ],
   "source": [
    "#Initialising ANN\n",
    "ann = tf.keras.models.Sequential()\n",
    "\n",
    "#Adding First Hidden Layer\n",
    "ann.add(tf.keras.layers.Dense(units=8))\n",
    "\n",
    "#Adding Second Hidden Layer\n",
    "ann.add(tf.keras.layers.Dense(units=4))\n",
    "\n",
    "#Adding Output Layer\n",
    "ann.add(tf.keras.layers.Dense(units=1, activation = \"tanh\"))\n",
    "\n",
    "\n",
    "#Compiling ANN\n",
    "ann.compile(optimizer=\"adam\",loss=\"MeanSquaredError\")\n",
    "\n",
    "X_train = tot_train.loc[:, tot_train.columns != 'pred']\n",
    "X_test = tot_test.loc[:, tot_test.columns != 'pred']\n",
    "\n",
    "\n",
    "y_train = tot_train.loc[:, tot_train.columns == 'pred']\n",
    "y_test = tot_test.loc[:, tot_test.columns == 'pred']\n",
    "\n",
    "#Fitting ANN\n",
    "ann.fit(X_train,y_train,batch_size=32,epochs = 15, verbose=0)\n",
    "\n",
    "y_pred = ann.predict(X_test)\n",
    "y_pred\n",
    "\n",
    "r2_adj = 1-(1-r2_score(y_test, y_pred))*((len(X_test)-1)/(len(X_test)-len(X_test.columns)-1))\n",
    "mse = mean_squared_error(y_test, y_pred)\n",
    "\n",
    "print(\"Adjusted R2 : \" + r2_adj.astype(str) + \"\\nMSE : \" + mse.astype(str))\n"
   ]
  },
  {
   "cell_type": "code",
   "execution_count": 40,
   "id": "86634c23",
   "metadata": {},
   "outputs": [
    {
     "name": "stdout",
     "output_type": "stream",
     "text": [
      "10/10 [==============================] - 0s 2ms/step\n",
      "10/10 [==============================] - 0s 3ms/step\n",
      "10/10 [==============================] - 0s 3ms/step\n",
      "10/10 [==============================] - 0s 6ms/step\n",
      "10/10 [==============================] - 0s 4ms/step\n",
      "10/10 [==============================] - 0s 3ms/step\n",
      "10/10 [==============================] - 0s 8ms/step\n",
      "10/10 [==============================] - 0s 2ms/step\n",
      "10/10 [==============================] - 0s 6ms/step\n",
      "10/10 [==============================] - 0s 3ms/step\n",
      "10/10 [==============================] - 0s 5ms/step\n",
      "10/10 [==============================] - 0s 4ms/step\n",
      "10/10 [==============================] - 0s 5ms/step\n",
      "10/10 [==============================] - 0s 5ms/step\n",
      "10/10 [==============================] - 0s 5ms/step\n",
      "10/10 [==============================] - 0s 3ms/step\n",
      "10/10 [==============================] - 0s 5ms/step\n",
      "10/10 [==============================] - 0s 2ms/step\n",
      "10/10 [==============================] - 0s 5ms/step\n",
      "10/10 [==============================] - 0s 4ms/step\n",
      "10/10 [==============================] - 0s 4ms/step\n",
      "10/10 [==============================] - 0s 5ms/step\n",
      "10/10 [==============================] - 0s 3ms/step\n",
      "10/10 [==============================] - 0s 5ms/step\n",
      "10/10 [==============================] - 0s 1ms/step\n",
      "Adjusted R2 : 0.6230623329643588\n",
      "MSE : 0.3855005994468207\n"
     ]
    }
   ],
   "source": [
    "#One model per household\n",
    "r_2 = [None]*len(dfs_train)\n",
    "mserror = [None]*len(dfs_train)\n",
    "\n",
    "for i in range(len(dfs_train)):\n",
    "    X_train = dfs_train[i].loc[:, dfs_train[i].columns != 'pred']\n",
    "    X_test = dfs_test[i].loc[:, dfs_test[i].columns != 'pred']\n",
    "\n",
    "\n",
    "    y_train = dfs_train[i].loc[:, dfs_train[i].columns == 'pred']\n",
    "    y_test = dfs_test[i].loc[:, dfs_test[i].columns == 'pred']\n",
    "\n",
    "    #Initialising ANN\n",
    "    ann = tf.keras.models.Sequential()\n",
    "\n",
    "    #Adding First Hidden Layer\n",
    "    ann.add(tf.keras.layers.Dense(units=8))\n",
    "\n",
    "    #Adding Second Hidden Layer\n",
    "    ann.add(tf.keras.layers.Dense(units=4))\n",
    "\n",
    "    #Adding Output Layer\n",
    "    ann.add(tf.keras.layers.Dense(units=1, activation = \"tanh\"))\n",
    "\n",
    "    \n",
    "    \n",
    "    #Compiling ANN\n",
    "    ann.compile(optimizer=\"adam\",loss=\"MeanSquaredError\")\n",
    "    \n",
    "    #Fitting ANN\n",
    "    ann.fit(X_train,y_train,batch_size=32,epochs = 100, verbose=0)\n",
    "\n",
    "    y_pred = ann.predict(X_test)\n",
    "    \n",
    "    r_2[i] = 1-(1-r2_score(y_test, y_pred))*((len(X_test)-1)/(len(X_test)-len(X_test.columns)-1))\n",
    "    mserror[i] = mean_squared_error(y_test, y_pred)\n",
    "    \n",
    "    \n",
    "r2_adj = np.mean(r_2)\n",
    "mse = np.mean(mserror)\n",
    "\n",
    "print(\"Adjusted R2 : \" + r2_adj.astype(str) + \"\\nMSE : \" + mse.astype(str))"
   ]
  },
  {
   "cell_type": "markdown",
   "id": "f7d1eebc",
   "metadata": {},
   "source": [
    "## XGBoost "
   ]
  },
  {
   "cell_type": "code",
   "execution_count": 41,
   "id": "a3269fe8",
   "metadata": {},
   "outputs": [
    {
     "name": "stdout",
     "output_type": "stream",
     "text": [
      "Adjusted R2 : 0.9183415680840374\n",
      "MSE : 0.08220062292739855\n"
     ]
    }
   ],
   "source": [
    "#One model\n",
    "X_train = tot_train.loc[:, tot_train.columns != 'pred']\n",
    "X_test = tot_test.loc[:, tot_test.columns != 'pred']\n",
    "\n",
    "\n",
    "y_train = tot_train.loc[:, tot_train.columns == 'pred']\n",
    "y_test = tot_test.loc[:, tot_test.columns == 'pred']\n",
    "\n",
    "\n",
    "\n",
    "xg_reg = xgb.XGBRegressor(objective ='reg:squarederror', colsample_bytree = 0.3, learning_rate = 0.1,\n",
    "                max_depth = 4, alpha = 4, n_estimators = 80)\n",
    "\n",
    "xg_reg.fit(X_train, y_train)\n",
    "y_pred = xg_reg.predict(X_test)\n",
    "\n",
    "\n",
    "r2_adj = 1-(1-r2_score(y_test, y_pred))*((len(X_test)-1)/(len(X_test)-len(X_test.columns)-1))\n",
    "mse = mean_squared_error(y_test, y_pred)\n",
    "\n",
    "print(\"Adjusted R2 : \" + r2_adj.astype(str) + \"\\nMSE : \" + mse.astype(str))\n"
   ]
  },
  {
   "cell_type": "code",
   "execution_count": 42,
   "id": "4c86a0ab",
   "metadata": {},
   "outputs": [
    {
     "name": "stdout",
     "output_type": "stream",
     "text": [
      "Adjusted R2 : 0.6987849609984348\n",
      "MSE : 0.30678938212501394\n"
     ]
    }
   ],
   "source": [
    "#One model per household\n",
    "r_2 = [None]*len(dfs_train)\n",
    "mserror = [None]*len(dfs_train)\n",
    "\n",
    "\n",
    "for i in range(len(dfs_train)):\n",
    "    X_train = dfs_train[i].loc[:, dfs_train[i].columns != 'pred']\n",
    "    X_test = dfs_test[i].loc[:, dfs_test[i].columns != 'pred']\n",
    "\n",
    "\n",
    "    y_train = dfs_train[i].loc[:, dfs_train[i].columns == 'pred']\n",
    "    y_test = dfs_test[i].loc[:, dfs_test[i].columns == 'pred']\n",
    "\n",
    "    xg_reg = xgb.XGBRegressor(objective ='reg:squarederror', colsample_bytree = 0.3, learning_rate = 0.1,\n",
    "                    max_depth = 4, alpha = 4, n_estimators = 80)\n",
    "\n",
    "    xg_reg.fit(X_train, y_train)\n",
    "    y_pred = xg_reg.predict(X_test)\n",
    "\n",
    "\n",
    "    r_2[i] = 1-(1-r2_score(y_test, y_pred))*((len(X_test)-1)/(len(X_test)-len(X_test.columns)-1))\n",
    "    mserror[i] = mean_squared_error(y_test, y_pred)\n",
    "    \n",
    "    \n",
    "r2_adj = np.mean(r_2)\n",
    "mse = np.mean(mserror)\n",
    "\n",
    "print(\"Adjusted R2 : \" + r2_adj.astype(str) + \"\\nMSE : \" + mse.astype(str))"
   ]
  }
 ],
 "metadata": {
  "kernelspec": {
   "display_name": "Python 3 (ipykernel)",
   "language": "python",
   "name": "python3"
  },
  "language_info": {
   "codemirror_mode": {
    "name": "ipython",
    "version": 3
   },
   "file_extension": ".py",
   "mimetype": "text/x-python",
   "name": "python",
   "nbconvert_exporter": "python",
   "pygments_lexer": "ipython3",
   "version": "3.9.7"
  }
 },
 "nbformat": 4,
 "nbformat_minor": 5
}
