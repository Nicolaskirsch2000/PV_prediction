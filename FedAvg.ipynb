{
 "cells": [
  {
   "cell_type": "code",
   "execution_count": 1,
   "id": "6a5ea5e1",
   "metadata": {},
   "outputs": [],
   "source": [
    "import numpy as np\n",
    "import random\n",
    "import matplotlib\n",
    "import matplotlib.pyplot as plt\n",
    "import sklearn.datasets as dt\n",
    "from sklearn.model_selection import train_test_split\n",
    "import pandas as pd\n",
    "from sklearn.metrics import mean_squared_error\n",
    "\n",
    "import torch\n",
    "from torch import nn\n",
    "import torch.optim as optim"
   ]
  },
  {
   "cell_type": "markdown",
   "id": "a984daf7",
   "metadata": {},
   "source": [
    "## FedSGD attempt"
   ]
  },
  {
   "cell_type": "code",
   "execution_count": 303,
   "id": "70aec8b4",
   "metadata": {},
   "outputs": [],
   "source": [
    "from sklearn.datasets import load_diabetes\n",
    "from sklearn.preprocessing import StandardScaler\n",
    "\n",
    "\n",
    "diabetes = load_diabetes()\n",
    "X = diabetes.data\n",
    "y = diabetes.target\n",
    "\n",
    "sc=StandardScaler()\n",
    "X_transform=sc.fit_transform(X)\n",
    "\n",
    "df = pd.DataFrame(X_transform)\n",
    "df[\"y\"] = diabetes.target"
   ]
  },
  {
   "cell_type": "code",
   "execution_count": 304,
   "id": "e77de667",
   "metadata": {},
   "outputs": [
    {
     "data": {
      "text/html": [
       "<div>\n",
       "<style scoped>\n",
       "    .dataframe tbody tr th:only-of-type {\n",
       "        vertical-align: middle;\n",
       "    }\n",
       "\n",
       "    .dataframe tbody tr th {\n",
       "        vertical-align: top;\n",
       "    }\n",
       "\n",
       "    .dataframe thead th {\n",
       "        text-align: right;\n",
       "    }\n",
       "</style>\n",
       "<table border=\"1\" class=\"dataframe\">\n",
       "  <thead>\n",
       "    <tr style=\"text-align: right;\">\n",
       "      <th></th>\n",
       "      <th>0</th>\n",
       "      <th>1</th>\n",
       "      <th>2</th>\n",
       "      <th>3</th>\n",
       "      <th>4</th>\n",
       "      <th>5</th>\n",
       "      <th>6</th>\n",
       "      <th>7</th>\n",
       "      <th>8</th>\n",
       "      <th>9</th>\n",
       "      <th>y</th>\n",
       "    </tr>\n",
       "  </thead>\n",
       "  <tbody>\n",
       "    <tr>\n",
       "      <th>0</th>\n",
       "      <td>0.800500</td>\n",
       "      <td>1.065488</td>\n",
       "      <td>1.297088</td>\n",
       "      <td>0.459840</td>\n",
       "      <td>-0.929746</td>\n",
       "      <td>-0.732065</td>\n",
       "      <td>-0.912451</td>\n",
       "      <td>-0.054499</td>\n",
       "      <td>0.418551</td>\n",
       "      <td>-0.370989</td>\n",
       "      <td>151.0</td>\n",
       "    </tr>\n",
       "    <tr>\n",
       "      <th>1</th>\n",
       "      <td>-0.039567</td>\n",
       "      <td>-0.938537</td>\n",
       "      <td>-1.082180</td>\n",
       "      <td>-0.553511</td>\n",
       "      <td>-0.177624</td>\n",
       "      <td>-0.402886</td>\n",
       "      <td>1.564414</td>\n",
       "      <td>-0.830301</td>\n",
       "      <td>-1.436551</td>\n",
       "      <td>-1.938479</td>\n",
       "      <td>75.0</td>\n",
       "    </tr>\n",
       "    <tr>\n",
       "      <th>2</th>\n",
       "      <td>1.793307</td>\n",
       "      <td>1.065488</td>\n",
       "      <td>0.934533</td>\n",
       "      <td>-0.119218</td>\n",
       "      <td>-0.958674</td>\n",
       "      <td>-0.718897</td>\n",
       "      <td>-0.680245</td>\n",
       "      <td>-0.054499</td>\n",
       "      <td>0.060207</td>\n",
       "      <td>-0.545154</td>\n",
       "      <td>141.0</td>\n",
       "    </tr>\n",
       "    <tr>\n",
       "      <th>3</th>\n",
       "      <td>-1.872441</td>\n",
       "      <td>-0.938537</td>\n",
       "      <td>-0.243771</td>\n",
       "      <td>-0.770658</td>\n",
       "      <td>0.256292</td>\n",
       "      <td>0.525397</td>\n",
       "      <td>-0.757647</td>\n",
       "      <td>0.721302</td>\n",
       "      <td>0.477072</td>\n",
       "      <td>-0.196823</td>\n",
       "      <td>206.0</td>\n",
       "    </tr>\n",
       "    <tr>\n",
       "      <th>4</th>\n",
       "      <td>0.113172</td>\n",
       "      <td>-0.938537</td>\n",
       "      <td>-0.764944</td>\n",
       "      <td>0.459840</td>\n",
       "      <td>0.082726</td>\n",
       "      <td>0.327890</td>\n",
       "      <td>0.171178</td>\n",
       "      <td>-0.054499</td>\n",
       "      <td>-0.672582</td>\n",
       "      <td>-0.980568</td>\n",
       "      <td>135.0</td>\n",
       "    </tr>\n",
       "  </tbody>\n",
       "</table>\n",
       "</div>"
      ],
      "text/plain": [
       "          0         1         2         3         4         5         6  \\\n",
       "0  0.800500  1.065488  1.297088  0.459840 -0.929746 -0.732065 -0.912451   \n",
       "1 -0.039567 -0.938537 -1.082180 -0.553511 -0.177624 -0.402886  1.564414   \n",
       "2  1.793307  1.065488  0.934533 -0.119218 -0.958674 -0.718897 -0.680245   \n",
       "3 -1.872441 -0.938537 -0.243771 -0.770658  0.256292  0.525397 -0.757647   \n",
       "4  0.113172 -0.938537 -0.764944  0.459840  0.082726  0.327890  0.171178   \n",
       "\n",
       "          7         8         9      y  \n",
       "0 -0.054499  0.418551 -0.370989  151.0  \n",
       "1 -0.830301 -1.436551 -1.938479   75.0  \n",
       "2 -0.054499  0.060207 -0.545154  141.0  \n",
       "3  0.721302  0.477072 -0.196823  206.0  \n",
       "4 -0.054499 -0.672582 -0.980568  135.0  "
      ]
     },
     "execution_count": 304,
     "metadata": {},
     "output_type": "execute_result"
    }
   ],
   "source": [
    "df.head()"
   ]
  },
  {
   "cell_type": "code",
   "execution_count": 4,
   "id": "20789c4c",
   "metadata": {},
   "outputs": [],
   "source": [
    "def theta_init(X):\n",
    "    \"\"\" Generate an initial value of vector θ from the original independent variables matrix\n",
    "         Parameters:\n",
    "          X:  independent variables matrix\n",
    "        Return value: a vector of theta filled with initial guess\n",
    "    \"\"\"\n",
    "    theta = np.random.randn(len(X[0])+1, 1)\n",
    "    return theta"
   ]
  },
  {
   "cell_type": "code",
   "execution_count": 5,
   "id": "7f6fc64a",
   "metadata": {},
   "outputs": [],
   "source": [
    "def generateXvector(X):\n",
    "    \"\"\" Taking the original independent variables matrix and add a row of 1 which corresponds to x_0\n",
    "        Parameters:\n",
    "          X:  independent variables matrix\n",
    "        Return value: the matrix that contains all the values in the dataset, not include the outcomes variables. \n",
    "    \"\"\"\n",
    "    vectorX = np.c_[np.ones((len(X), 1)), X]\n",
    "    return vectorX"
   ]
  },
  {
   "cell_type": "code",
   "execution_count": 305,
   "id": "70746002",
   "metadata": {},
   "outputs": [
    {
     "name": "stdout",
     "output_type": "stream",
     "text": [
      "     0         1         2         3         4         5         6         7  \\\n",
      "0  1.0  0.800500  1.065488  1.297088  0.459840 -0.929746 -0.732065 -0.912451   \n",
      "1  1.0 -0.039567 -0.938537 -1.082180 -0.553511 -0.177624 -0.402886  1.564414   \n",
      "2  1.0  1.793307  1.065488  0.934533 -0.119218 -0.958674 -0.718897 -0.680245   \n",
      "3  1.0 -1.872441 -0.938537 -0.243771 -0.770658  0.256292  0.525397 -0.757647   \n",
      "4  1.0  0.113172 -0.938537 -0.764944  0.459840  0.082726  0.327890  0.171178   \n",
      "\n",
      "          8         9        10      y  \n",
      "0 -0.054499  0.418551 -0.370989  151.0  \n",
      "1 -0.830301 -1.436551 -1.938479   75.0  \n",
      "2 -0.054499  0.060207 -0.545154  141.0  \n",
      "3  0.721302  0.477072 -0.196823  206.0  \n",
      "4 -0.054499 -0.672582 -0.980568  135.0  \n"
     ]
    },
    {
     "data": {
      "text/plain": [
       "Text(0, 0.5, 'Cost')"
      ]
     },
     "execution_count": 305,
     "metadata": {},
     "output_type": "execute_result"
    },
    {
     "data": {
      "image/png": "[encoded data removed]",
      "text/plain": [
       "<Figure size 432x288 with 1 Axes>"
      ]
     },
     "metadata": {
      "needs_background": "light"
     },
     "output_type": "display_data"
    }
   ],
   "source": [
    "N = 8\n",
    "S = 6\n",
    "iterations = 2000\n",
    "n_feat = 11\n",
    "learning_rate = 0.03\n",
    "\n",
    "diabetes = load_diabetes()\n",
    "X = diabetes.data\n",
    "y = diabetes.target\n",
    "\n",
    "sc=StandardScaler()\n",
    "X_transform=sc.fit_transform(X)\n",
    "\n",
    "y_new = np.reshape(y, (len(y), 1))   \n",
    "cost_lst = []\n",
    "\n",
    "vectorX = generateXvector(X_transform)\n",
    "w_init = theta_init(X_transform)\n",
    "\n",
    "df = pd.DataFrame(vectorX)\n",
    "df[\"y\"] = y\n",
    "\n",
    "print(df.head())\n",
    "\n",
    "shuffled = df.sample(frac=1)\n",
    "data = np.array_split(shuffled, N) \n",
    "\n",
    "for i in range(len(data)):\n",
    "    data[i] = (data[i][range(0,11)].to_numpy(),data[i][\"y\"].to_numpy())\n",
    "\n",
    "\n",
    "m = len(X_transform)\n",
    "\n",
    "w_model = w_init\n",
    "\n",
    "#Iterations\n",
    "for i in range(0,iterations):\n",
    "\n",
    "    #Random selection of clients\n",
    "    x = list(range(1,N))\n",
    "    sel = random.sample(x,S)\n",
    "\n",
    "    grad = [None]*S\n",
    "    loc = 0\n",
    "    \n",
    "    #Clients iteration\n",
    "    for j in sel:\n",
    "\n",
    "        w_cli = w_model\n",
    "    \n",
    "        gradients = 2/m * vectorX.T.dot(vectorX.dot(w_model) - y_new)\n",
    "        grad[loc] = 2/m * data[j][0].T.dot(data[j][0].dot(w_model) - data[j][1].reshape(len(data[j][1]),1))\n",
    "        loc +=1\n",
    "    \n",
    "    g = np.stack(grad, axis=0)\n",
    "    grad_mean = g.mean(axis = 0)\n",
    "\n",
    "    \n",
    "    w_model = w_model  - learning_rate*grad_mean\n",
    "    \n",
    "    y_pred = vectorX.dot(w_model)\n",
    "    cost_value = 1/(2*len(y))*((y_pred - y)**2) \n",
    "            #Calculate the loss for each training instance\n",
    "    total = 0\n",
    "    for i in range(len(y)):\n",
    "        total += cost_value[i][0] \n",
    "        #Calculate the cost function for each iteration\n",
    "    cost_lst.append(total)\n",
    "    \n",
    "    #grads = np.stack(grads)\n",
    "    #mean_grads = np.average(grads, axis=0)\n",
    "    #print(w_model)\n",
    "\n",
    "    \n",
    "    \n",
    "plt.plot(np.arange(1,iterations),cost_lst[1:], color = 'red')\n",
    "plt.title('Cost function Graph')\n",
    "plt.xlabel('Number of iterations')\n",
    "plt.ylabel('Cost')\n"
   ]
  },
  {
   "cell_type": "code",
   "execution_count": 306,
   "id": "8c0393c2",
   "metadata": {},
   "outputs": [
    {
     "data": {
      "text/plain": [
       "array([[ 1.79698202],\n",
       "       [-0.8194185 ],\n",
       "       [-0.32083269],\n",
       "       [ 0.89572974],\n",
       "       [ 0.26830843],\n",
       "       [-1.88000688],\n",
       "       [-0.63603857],\n",
       "       [-1.07824026],\n",
       "       [-1.2959321 ],\n",
       "       [ 1.3247733 ],\n",
       "       [ 1.64815205]])"
      ]
     },
     "execution_count": 306,
     "metadata": {},
     "output_type": "execute_result"
    }
   ],
   "source": [
    "w_init"
   ]
  },
  {
   "cell_type": "markdown",
   "id": "4de97d17",
   "metadata": {},
   "source": [
    "## Toy data test"
   ]
  },
  {
   "cell_type": "code",
   "execution_count": 308,
   "id": "4488aa91",
   "metadata": {},
   "outputs": [
    {
     "data": {
      "text/plain": [
       "Text(0, 0.5, 'Cost')"
      ]
     },
     "execution_count": 308,
     "metadata": {},
     "output_type": "execute_result"
    },
    {
     "data": {
      "image/png": "[encoded data removed]",
      "text/plain": [
       "<Figure size 432x288 with 1 Axes>"
      ]
     },
     "metadata": {
      "needs_background": "light"
     },
     "output_type": "display_data"
    }
   ],
   "source": [
    "x = [np.random.randint(1,10) for i in range(0,300)]\n",
    "y = [n*2 for n in x]\n",
    "x = np.array(x).reshape(300,1)\n",
    "y = np.array(y).reshape(300,1)\n",
    "\n",
    "\n",
    "\n",
    "N = 8\n",
    "S = 6\n",
    "iterations = 2000\n",
    "\n",
    "n_feat = 2\n",
    "learning_rate = 0.01\n",
    "\n",
    "y_new = np.reshape(y, (len(y), 1))   \n",
    "cost_lst = []\n",
    "\n",
    "vectorX = generateXvector(x)\n",
    "w_init = theta_init(x)\n",
    "\n",
    "df = pd.DataFrame(vectorX)\n",
    "df[\"y\"] = y\n",
    "\n",
    "shuffled = df.sample(frac=1)\n",
    "data = np.array_split(shuffled, N) \n",
    "\n",
    "for i in range(len(data)):\n",
    "    data[i] = (data[i][range(0,n_feat)].to_numpy(),data[i][\"y\"].to_numpy())\n",
    "\n",
    "\n",
    "m = len(vectorX)\n",
    "\n",
    "w_model = w_init\n",
    "\n",
    "#Iterations\n",
    "for i in range(0,iterations):\n",
    "\n",
    "    #Random selection of clients\n",
    "    a = list(range(1,N))\n",
    "    sel = random.sample(a,S)\n",
    "\n",
    "    grad = [None]*S\n",
    "    loc = 0\n",
    "    \n",
    "    #Clients iteration\n",
    "    for j in sel:\n",
    "        \n",
    "        w_cli = w_model\n",
    "\n",
    "        \n",
    "        gradients = 2/m * vectorX.T.dot(vectorX.dot(w_model) - y_new)\n",
    "        \n",
    "\n",
    "        grad[loc] = 2/len(data[j][0]) * data[j][0].T.dot(data[j][0].dot(w_model) - data[j][1].reshape(len(data[j][1]),1))\n",
    "        \n",
    "        loc +=1\n",
    "\n",
    "    g = np.stack(grad, axis=0)\n",
    "    grad_mean = g.mean(axis = 0)\n",
    "\n",
    "    \n",
    "    w_model = w_model  - learning_rate*grad_mean\n",
    "    \n",
    "    \n",
    "    y_pred = vectorX.dot(w_model)\n",
    "    cost_value = 1/(len(y))*((y_pred - y)**2) \n",
    "            #Calculate the loss for each training instance\n",
    "    total = 0\n",
    "    for i in range(len(y)):\n",
    "        total += cost_value[i][0] \n",
    "        #Calculate the cost function for each iteration\n",
    "    cost_lst.append(total)\n",
    "    \n",
    "    #grads = np.stack(grads)\n",
    "    #mean_grads = np.average(grads, axis=0)\n",
    "    #print(w_model)\n",
    "\n",
    "    \n",
    "    \n",
    "plt.plot(np.arange(1,iterations),cost_lst[1:], color = 'red')\n",
    "plt.title('Cost function Graph')\n",
    "plt.xlabel('Number of iterations')\n",
    "plt.ylabel('Cost')\n"
   ]
  },
  {
   "cell_type": "code",
   "execution_count": 309,
   "id": "1fe16564",
   "metadata": {},
   "outputs": [
    {
     "data": {
      "text/plain": [
       "array([[1.75848218e-04],\n",
       "       [1.99997218e+00]])"
      ]
     },
     "execution_count": 309,
     "metadata": {},
     "output_type": "execute_result"
    }
   ],
   "source": [
    "w_model"
   ]
  },
  {
   "cell_type": "markdown",
   "id": "f673732d",
   "metadata": {},
   "source": [
    "## FedAvg implementation "
   ]
  },
  {
   "cell_type": "code",
   "execution_count": 257,
   "id": "9cd8c54f",
   "metadata": {},
   "outputs": [],
   "source": [
    "def theta_init(X):\n",
    "    \"\"\" Generate an initial value of vector θ from the original independent variables matrix\n",
    "         Parameters:\n",
    "          X:  independent variables matrix\n",
    "        Return value: a vector of theta filled with initial guess\n",
    "    \"\"\"\n",
    "    theta = np.random.randn(len(X[0])+1, 1)\n",
    "    return theta\n",
    "\n",
    "def generateXvector(X):\n",
    "    \"\"\" Taking the original independent variables matrix and add a row of 1 which corresponds to x_0\n",
    "        Parameters:\n",
    "          X:  independent variables matrix\n",
    "        Return value: the matrix that contains all the values in the dataset, not include the outcomes variables. \n",
    "    \"\"\"\n",
    "    vectorX = np.c_[np.ones((len(X), 1)), X]\n",
    "    return vectorX"
   ]
  },
  {
   "cell_type": "code",
   "execution_count": 256,
   "id": "f593b631",
   "metadata": {},
   "outputs": [],
   "source": [
    "def federated_sgd(data, iterations, N, S, n_feature, learning_rate,w_model):\n",
    "    cost_lst = []\n",
    "    for i in range(0,iterations):\n",
    "        #Random selection of clients\n",
    "        a = list(range(1,N))\n",
    "        sel = random.sample(a,S)\n",
    "\n",
    "        grad = [None]*S\n",
    "        loc = 0\n",
    "\n",
    "        #Clients iteration\n",
    "        for j in sel:\n",
    "\n",
    "            w_cli = w_model\n",
    "\n",
    "            \n",
    "            #Gone repla\n",
    "            grad[loc] = 2/len(data[j][0]) * data[j][0].T.dot(data[j][0].dot(w_cli) - data[j][1].reshape(len(data[j][1]),1))\n",
    "\n",
    "            loc +=1\n",
    "\n",
    "        g = np.stack(grad, axis=0)\n",
    "        #Plot over iterations\n",
    "        grad_mean = g.mean(axis = 0)\n",
    "        \n",
    "        \n",
    "        #Pytorch function \n",
    "        w_model = w_model  - learning_rate*grad_mean\n",
    "        \n",
    "        y_pred = vectorX.dot(w_model)\n",
    "        cost_value = 1/(len(y))*((y_pred - y)**2) \n",
    "                #Calculate the loss for each training instance\n",
    "        total = 0\n",
    "        for i in range(len(y)):\n",
    "            total += cost_value[i][0] \n",
    "            #Calculate the cost function for each iteration\n",
    "        cost_lst.append(total)\n",
    "    return w_model, cost_lst\n"
   ]
  },
  {
   "cell_type": "markdown",
   "id": "9e048258",
   "metadata": {},
   "source": [
    "####  All clients same alpha"
   ]
  },
  {
   "cell_type": "code",
   "execution_count": 312,
   "id": "25737448",
   "metadata": {},
   "outputs": [
    {
     "data": {
      "text/plain": [
       "Text(0, 0.5, 'Cost')"
      ]
     },
     "execution_count": 312,
     "metadata": {},
     "output_type": "execute_result"
    },
    {
     "data": {
      "image/png": "[encoded data removed]",
      "text/plain": [
       "<Figure size 432x288 with 1 Axes>"
      ]
     },
     "metadata": {
      "needs_background": "light"
     },
     "output_type": "display_data"
    }
   ],
   "source": [
    "x = [np.random.randint(1,10) for i in range(0,300)]\n",
    "y = [n*4 for n in x]\n",
    "x = np.array(x).reshape(300,1)\n",
    "y = np.array(y).reshape(300,1)\n",
    "\n",
    "\n",
    "#Parameters of the model\n",
    "N = 8\n",
    "S = 6\n",
    "iterations = 2000\n",
    "n_feat = 2 #number of feature plus one for intercept\n",
    "learning_rate = 0.01\n",
    "\n",
    "######Data preprocessing\n",
    "\n",
    "#Add intercept in training data \n",
    "vectorX = generateXvector(x)\n",
    "\n",
    "df = pd.DataFrame(vectorX)\n",
    "df[\"y\"] = y\n",
    "\n",
    "shuffled = df.sample(frac=1)\n",
    "data = np.array_split(shuffled, N) \n",
    "\n",
    "#Create the clients\n",
    "for i in range(len(data)):\n",
    "    #Normalize all instead intercept\n",
    "    #data[i][1] = (data[i][1]-data[i][1].mean())/data[i][1].std()\n",
    "    #data[i][\"y\"] = (data[i][\"y\"]-data[i][\"y\"].mean())/data[i][\"y\"].std()\n",
    "    \n",
    "    data[i] = (data[i][range(0,n_feat)].to_numpy(),data[i][\"y\"].to_numpy())\n",
    "\n",
    "\n",
    "w_model = theta_init(x)\n",
    "    \n",
    "output, costs = federated_sgd(data, iterations, N, S, n_feat, learning_rate,w_model)\n",
    "\n",
    "\n",
    "plt.plot(np.arange(1,iterations),costs[1:], color = 'red')\n",
    "plt.title('Cost function Graph')\n",
    "plt.xlabel('Number of iterations')\n",
    "plt.ylabel('Cost')\n"
   ]
  },
  {
   "cell_type": "code",
   "execution_count": 313,
   "id": "129400a1",
   "metadata": {},
   "outputs": [
    {
     "data": {
      "text/plain": [
       "array([[1.41241303e-04],\n",
       "       [3.99997757e+00]])"
      ]
     },
     "execution_count": 313,
     "metadata": {},
     "output_type": "execute_result"
    }
   ],
   "source": [
    "output"
   ]
  },
  {
   "cell_type": "markdown",
   "id": "1ef284aa",
   "metadata": {},
   "source": [
    "#### Two different alphas "
   ]
  },
  {
   "cell_type": "code",
   "execution_count": 302,
   "id": "aeaee0c7",
   "metadata": {},
   "outputs": [
    {
     "name": "stdout",
     "output_type": "stream",
     "text": [
      "[[0.42626886]\n",
      " [3.44907399]]\n"
     ]
    },
    {
     "data": {
      "image/png": "[encoded data removed]",
      "text/plain": [
       "<Figure size 432x288 with 1 Axes>"
      ]
     },
     "metadata": {
      "needs_background": "light"
     },
     "output_type": "display_data"
    }
   ],
   "source": [
    "x_1 = [np.random.randint(1,10) for i in range(0,300)]\n",
    "y_1 = [n*6 for n in x_1]\n",
    "x_1 = np.array(x_1).reshape(300,1)\n",
    "y_1 = np.array(y_1).reshape(300,1)\n",
    "\n",
    "x_2= [np.random.randint(1,10) for i in range(0,300)]\n",
    "y_2 = [n*2 for n in x_2]\n",
    "x_2 = np.array(x_2).reshape(300,1)\n",
    "y_2 = np.array(y_2).reshape(300,1)\n",
    "\n",
    "#Parameters of the model\n",
    "N = 8\n",
    "S = 6\n",
    "iterations = 1000\n",
    "n_feat = 2 #number of feature plus one for intercept\n",
    "learning_rate = 0.01\n",
    "\n",
    "######Data preprocessing\n",
    "\n",
    "#Add intercept in training data \n",
    "vectorX = generateXvector(x_1)\n",
    "vectorX2 = generateXvector(x_2)\n",
    "\n",
    "df = pd.DataFrame(vectorX)\n",
    "df[\"y\"] = y_1\n",
    "\n",
    "df2 = pd.DataFrame(vectorX2)\n",
    "df2[\"y\"] = y_2\n",
    "\n",
    "shuffled = df.sample(frac=1)\n",
    "data = np.array_split(shuffled, N/2) \n",
    "\n",
    "\n",
    "shuffled2 = df2.sample(frac=1)\n",
    "data2 = np.array_split(shuffled2, N/2) \n",
    "\n",
    "#Create the clients\n",
    "for i in range(len(data)):\n",
    "    #Normalize all instead intercept\n",
    "    #data[i][1] = (data[i][1]-data[i][1].mean())/data[i][1].std()\n",
    "    #data[i][\"y\"] = (data[i][\"y\"]-data[i][\"y\"].mean())/data[i][\"y\"].std()\n",
    "    \n",
    "    #Convert to numpy\n",
    "    data[i] = (data[i][range(0,n_feat)].to_numpy(),data[i][\"y\"].to_numpy())\n",
    "\n",
    "#Create the clients\n",
    "for i in range(len(data2)):\n",
    "    #Normalize all instead intercept\n",
    "    #data2[i][1] = (data2[i][1]-data2[i][1].mean())/data2[i][1].std()\n",
    "    #data2[i][\"y\"] = (data2[i][\"y\"]-data2[i][\"y\"].mean())/data2[i][\"y\"].std()\n",
    "    \n",
    "    #Convert to numpy\n",
    "    data2[i] = (data2[i][range(0,n_feat)].to_numpy(),data2[i][\"y\"].to_numpy())\n",
    "\n",
    "data = data + data2\n",
    "\n",
    "w_model = theta_init(x)\n",
    "    \n",
    "output, costs = federated_sgd(data, iterations, N, S, n_feat, learning_rate,w_model)\n",
    "\n",
    "\n",
    "plt.plot(np.arange(1,iterations),costs[1:], color = 'red')\n",
    "plt.title('Cost function Graph')\n",
    "plt.xlabel('Number of iterations')\n",
    "plt.ylabel('Cost')\n",
    "\n",
    "print(output)"
   ]
  },
  {
   "cell_type": "code",
   "execution_count": 300,
   "id": "700e3a89",
   "metadata": {},
   "outputs": [
    {
     "data": {
      "text/plain": [
       "tuple"
      ]
     },
     "execution_count": 300,
     "metadata": {},
     "output_type": "execute_result"
    }
   ],
   "source": [
    "type(data[1])"
   ]
  },
  {
   "cell_type": "markdown",
   "id": "2dbd45f8",
   "metadata": {},
   "source": [
    "## Using pytorch"
   ]
  },
  {
   "cell_type": "code",
   "execution_count": 21,
   "id": "8603dba7",
   "metadata": {},
   "outputs": [
    {
     "name": "stdout",
     "output_type": "stream",
     "text": [
      "----------\n",
      "learned a = 2.9999964237213135\n",
      "learned b = 1.000000238418579\n"
     ]
    }
   ],
   "source": [
    "error = 0.1\n",
    "n = 100 \n",
    "a = 3\n",
    "b = 1\n",
    "\n",
    "# Data\n",
    "x = torch.randn(n, 1)\n",
    "\n",
    "t = a * x +  b\n",
    "\n",
    "model_server = nn.Linear(1, 1)\n",
    "optimizer_server = optim.Adam(model_server.parameters())\n",
    "loss_fn = nn.MSELoss()\n",
    "\n",
    "# Run training\n",
    "niter = 10000\n",
    "for _ in range(0, niter):\n",
    "    optimizer_server.zero_grad()\n",
    "    predictions = model_server(x)\n",
    "    loss = loss_fn(predictions, t)\n",
    "    loss.backward()\n",
    "    optimizer_server.step()\n",
    "\n",
    "    \n",
    "print(\"-\" * 10)\n",
    "print(\"learned a = {}\".format(list(model_server.parameters())[0].data[0, 0]))\n",
    "print(\"learned b = {}\".format(list(model_server.parameters())[1].data[0]))"
   ]
  },
  {
   "cell_type": "code",
   "execution_count": 234,
   "id": "4d6c1cf1",
   "metadata": {},
   "outputs": [],
   "source": [
    "#Number of iterations\n",
    "iterations = 15000\n",
    "\n",
    "#Toy data parameters\n",
    "n = 300 \n",
    "a = 7\n",
    "b = 1\n",
    "N = 6\n",
    "S = 4\n",
    "\n",
    "# Data\n",
    "x = torch.randn(n, 1)\n",
    "t = a * x +  b\n",
    "\n",
    "#Create N clients\n",
    "d = []\n",
    "for i in range(1,N+1):\n",
    "    d.append((x,t))\n",
    "\n",
    "    \n",
    "#Definition of the server model\n",
    "model_server = nn.Linear(1, 1)\n",
    "optimizer_server = optim.Adam(model_server.parameters())\n",
    "loss_fn = nn.MSELoss()\n",
    "\n",
    "\n",
    "#One model per clients\n",
    "models = [None]*len(d)\n",
    "opti = [None]*len(d)\n",
    "loss_fct = [None]*len(d)\n",
    "\n",
    "for i in range(len(models)):\n",
    "    models[i] = nn.Linear(1, 1)\n",
    "    opti[i] = optim.Adam(models[i].parameters())\n",
    "    loss_fct[i] = nn.MSELoss()\n",
    "\n",
    "\n",
    "\n",
    "grad_mean_hist = []\n",
    "\n",
    "#Iterations\n",
    "for i in range(0,iterations):\n",
    "\n",
    "    #Random selection of clients\n",
    "    a = list(range(1,N))\n",
    "    sel = random.sample(a,S)\n",
    "\n",
    "    grad = []\n",
    "    bias = []\n",
    "    loc = 0\n",
    "\n",
    "    loss = [None]*N\n",
    "    losses = 0\n",
    "    \n",
    "    #Clients iteration\n",
    "    for j in sel:\n",
    "\n",
    "        \n",
    "        opti[loc].zero_grad()\n",
    "        models[loc].weight = model_server.weight\n",
    "        models[loc].weight.grad = None\n",
    "        models[loc].bias = model_server.bias\n",
    "        models[loc].bias.grad = None\n",
    "\n",
    "        predictions = models[loc](d[0][0])\n",
    "        \n",
    "        loss[loc] = loss_fct[loc](predictions, d[0][1])\n",
    "        loss[loc].backward()\n",
    "        \n",
    "        grad.append(models[loc].weight.grad.numpy())\n",
    "        bias.append(models[loc].bias.grad.numpy())\n",
    "        loc+=1\n",
    "        \n",
    "\n",
    "    grad_mean = torch.FloatTensor([[np.mean(grad)]])\n",
    "    grad_mean_hist.append(grad_mean)\n",
    "\n",
    "    bias_mean = torch.FloatTensor([np.mean(bias)])\n",
    "    model_server.weight.grad = grad_mean\n",
    "    model_server.bias.grad = bias_mean\n",
    "    g.append(list(model_server.parameters())[0].data[0, 0])\n",
    "    optimizer_server.step()\n",
    "\n"
   ]
  },
  {
   "cell_type": "code",
   "execution_count": 235,
   "id": "7ef8ee8c",
   "metadata": {},
   "outputs": [
    {
     "name": "stdout",
     "output_type": "stream",
     "text": [
      "----------\n",
      "learned a = 6.999982833862305\n",
      "learned b = 0.9999986886978149\n"
     ]
    }
   ],
   "source": [
    "print(\"-\" * 10)\n",
    "print(\"learned a = {}\".format(list(model_server.parameters())[0].data[0, 0]))\n",
    "print(\"learned b = {}\".format(list(model_server.parameters())[1].data[0]))"
   ]
  },
  {
   "cell_type": "code",
   "execution_count": 236,
   "id": "965d346f",
   "metadata": {},
   "outputs": [
    {
     "name": "stderr",
     "output_type": "stream",
     "text": [
      "C:\\Users\\Kirsch\\AppData\\Local\\Temp/ipykernel_9084/930740421.py:1: FutureWarning: The input object of type 'Tensor' is an array-like implementing one of the corresponding protocols (`__array__`, `__array_interface__` or `__array_struct__`); but not a sequence (or 0-D). In the future, this object will be coerced as if it was first converted using `np.array(obj)`. To retain the old behaviour, you have to either modify the type 'Tensor', or assign to an empty array created with `np.empty(correct_shape, dtype=object)`.\n",
      "  plt.plot(range(0,len(grad_mean_hist)), np.abs(grad_mean_hist))\n",
      "C:\\Users\\Kirsch\\AppData\\Local\\Temp/ipykernel_9084/930740421.py:1: VisibleDeprecationWarning: Creating an ndarray from ragged nested sequences (which is a list-or-tuple of lists-or-tuples-or ndarrays with different lengths or shapes) is deprecated. If you meant to do this, you must specify 'dtype=object' when creating the ndarray.\n",
      "  plt.plot(range(0,len(grad_mean_hist)), np.abs(grad_mean_hist))\n"
     ]
    },
    {
     "data": {
      "text/plain": [
       "[<matplotlib.lines.Line2D at 0x21330571820>]"
      ]
     },
     "execution_count": 236,
     "metadata": {},
     "output_type": "execute_result"
    },
    {
     "data": {
      "image/png": "[encoded data removed]",
      "text/plain": [
       "<Figure size 432x288 with 1 Axes>"
      ]
     },
     "metadata": {
      "needs_background": "light"
     },
     "output_type": "display_data"
    }
   ],
   "source": [
    "plt.plot(range(0,len(grad_mean_hist)), np.abs(grad_mean_hist))\n"
   ]
  },
  {
   "cell_type": "markdown",
   "id": "7cdcad83",
   "metadata": {},
   "source": [
    "### Function definition with PyTorch "
   ]
  },
  {
   "cell_type": "code",
   "execution_count": 415,
   "id": "25f34eae",
   "metadata": {},
   "outputs": [],
   "source": [
    "def fed_sgd(data, iterations, N, S, n_feat):\n",
    "    \n",
    "    grad_mean_hist = []\n",
    "    \n",
    "    #Definition of the server model\n",
    "    model_server = nn.Linear(n_feat, 1)\n",
    "    optimizer_server = optim.Adam(model_server.parameters())\n",
    "    loss_fn = nn.MSELoss()\n",
    "\n",
    "\n",
    "    #One model per clients\n",
    "    models = [None]*N\n",
    "    opti = [None]*N\n",
    "    loss_fct = [None]*N\n",
    "\n",
    "    for i in range(len(models)):\n",
    "        models[i] = nn.Linear(n_feat, 1)\n",
    "        opti[i] = optim.Adam(models[i].parameters())\n",
    "        loss_fct[i] = nn.MSELoss()\n",
    "\n",
    "        \n",
    "    #Iterations\n",
    "    for i in range(0,iterations):\n",
    "\n",
    "        #Random selection of clients\n",
    "        a = list(range(0,N))\n",
    "        sel = random.sample(a,S)\n",
    "\n",
    "        grad = []\n",
    "        bias = []\n",
    "        loc = 0\n",
    "\n",
    "        loss = [None]*N\n",
    "        losses = 0\n",
    "\n",
    "        #Clients iteration\n",
    "        for j in sel:\n",
    "            opti[loc].zero_grad()\n",
    "            models[loc].weight = model_server.weight\n",
    "            models[loc].weight.grad = None\n",
    "            models[loc].bias = model_server.bias\n",
    "            models[loc].bias.grad = None\n",
    "\n",
    "            predictions = models[loc](data[j][0])\n",
    "\n",
    "            loss[loc] = loss_fct[loc](predictions, data[j][1])\n",
    "            loss[loc].backward()\n",
    "\n",
    "            grad.append(models[loc].weight.grad.numpy())\n",
    "            bias.append(models[loc].bias.grad.numpy())\n",
    "            loc+=1\n",
    "        grad = np.stack(grad, axis=0)\n",
    "        grad_mean = torch.FloatTensor(grad.mean(axis = 0))\n",
    "        \n",
    "        grad_mean_hist.append(grad_mean)\n",
    "        \n",
    "\n",
    "        bias_mean = torch.FloatTensor([np.mean(bias)])\n",
    "        model_server.weight.grad = grad_mean\n",
    "        model_server.bias.grad = bias_mean\n",
    "        optimizer_server.step()\n",
    "        torch.nn.utils.clip_grad_norm_(parameters=model_server.parameters(), max_norm=10, norm_type=2.0)\n",
    "    return model_server, grad_mean_hist\n"
   ]
  },
  {
   "cell_type": "code",
   "execution_count": 416,
   "id": "0188725d",
   "metadata": {},
   "outputs": [
    {
     "name": "stdout",
     "output_type": "stream",
     "text": [
      "learned a = 6.999981880187988\n",
      "learned b = 1.0000003576278687\n"
     ]
    }
   ],
   "source": [
    "#Number of iterations\n",
    "iterations = 15000\n",
    "\n",
    "#Toy data parameters\n",
    "n = 300 \n",
    "a = 7\n",
    "b = 1\n",
    "n_feat = 1\n",
    "\n",
    "#Client spec\n",
    "N = 6\n",
    "S = 4\n",
    "\n",
    "# Data\n",
    "x = torch.randn(n, 1)\n",
    "t = a * x +  b\n",
    "\n",
    "#Create N clients\n",
    "d = []\n",
    "for i in range(1,N+1):\n",
    "    d.append((x,t))\n",
    "    \n",
    "out_model, hist = fed_sgd(d, iterations, N, S, n_feat)\n",
    "\n",
    "print(\"learned a = {}\".format(list(out_model.parameters())[0].data[0, 0]))\n",
    "print(\"learned b = {}\".format(list(out_model.parameters())[1].data[0]))\n",
    "\n"
   ]
  },
  {
   "cell_type": "code",
   "execution_count": 322,
   "id": "fb9a9b37",
   "metadata": {},
   "outputs": [
    {
     "name": "stderr",
     "output_type": "stream",
     "text": [
      "C:\\Users\\Kirsch\\AppData\\Local\\Temp/ipykernel_9084/2280684675.py:1: FutureWarning: The input object of type 'Tensor' is an array-like implementing one of the corresponding protocols (`__array__`, `__array_interface__` or `__array_struct__`); but not a sequence (or 0-D). In the future, this object will be coerced as if it was first converted using `np.array(obj)`. To retain the old behaviour, you have to either modify the type 'Tensor', or assign to an empty array created with `np.empty(correct_shape, dtype=object)`.\n",
      "  plt.plot(range(0,len(hist)), np.abs(hist))\n",
      "C:\\Users\\Kirsch\\AppData\\Local\\Temp/ipykernel_9084/2280684675.py:1: VisibleDeprecationWarning: Creating an ndarray from ragged nested sequences (which is a list-or-tuple of lists-or-tuples-or ndarrays with different lengths or shapes) is deprecated. If you meant to do this, you must specify 'dtype=object' when creating the ndarray.\n",
      "  plt.plot(range(0,len(hist)), np.abs(hist))\n"
     ]
    },
    {
     "data": {
      "text/plain": [
       "[<matplotlib.lines.Line2D at 0x21334188670>]"
      ]
     },
     "execution_count": 322,
     "metadata": {},
     "output_type": "execute_result"
    },
    {
     "data": {
      "image/png": "[encoded data removed]",
      "text/plain": [
       "<Figure size 432x288 with 1 Axes>"
      ]
     },
     "metadata": {
      "needs_background": "light"
     },
     "output_type": "display_data"
    }
   ],
   "source": [
    "plt.plot(range(0,len(hist)), np.abs(hist))\n"
   ]
  },
  {
   "cell_type": "code",
   "execution_count": 226,
   "id": "8d676fc6",
   "metadata": {},
   "outputs": [
    {
     "data": {
      "text/plain": [
       "31500"
      ]
     },
     "execution_count": 226,
     "metadata": {},
     "output_type": "execute_result"
    }
   ],
   "source": [
    "len(hist)"
   ]
  },
  {
   "cell_type": "markdown",
   "id": "58fce76e",
   "metadata": {},
   "source": [
    "### Test with two alphas "
   ]
  },
  {
   "cell_type": "code",
   "execution_count": 263,
   "id": "cbb709fd",
   "metadata": {},
   "outputs": [
    {
     "name": "stdout",
     "output_type": "stream",
     "text": [
      "learned a = 2.986762523651123\n",
      "learned b = 2.0132389068603516\n"
     ]
    }
   ],
   "source": [
    "#Number of iterations\n",
    "iterations = 15000\n",
    "\n",
    "#Toy data parameters\n",
    "n = 300 \n",
    "a = 4\n",
    "b = 1\n",
    "c = 2\n",
    "d = 3\n",
    "n_feat = 1\n",
    "\n",
    "#Client spec\n",
    "N = 8\n",
    "S = 4\n",
    "\n",
    "# Data\n",
    "x = torch.randn(n, 1)\n",
    "t = a * x +  b\n",
    "u = c * x + d\n",
    "#Create N clients\n",
    "d = []\n",
    "\n",
    "for i in range(1,int(N/2)+1):\n",
    "    d.append((x,t))\n",
    "    \n",
    "    \n",
    "for i in range(1,int(N/2)+1):\n",
    "    d.append((x,u))\n",
    "\n",
    "    \n",
    "out_model, hist = fed_sgd(d, iterations, N, S, n_feat)\n",
    "\n",
    "print(\"learned a = {}\".format(list(out_model.parameters())[0].data[0, 0]))\n",
    "print(\"learned b = {}\".format(list(out_model.parameters())[1].data[0]))\n",
    "\n"
   ]
  },
  {
   "cell_type": "code",
   "execution_count": 266,
   "id": "5d22ab8f",
   "metadata": {},
   "outputs": [
    {
     "name": "stderr",
     "output_type": "stream",
     "text": [
      "C:\\Users\\Kirsch\\AppData\\Local\\Temp/ipykernel_9084/924818254.py:1: FutureWarning: The input object of type 'Tensor' is an array-like implementing one of the corresponding protocols (`__array__`, `__array_interface__` or `__array_struct__`); but not a sequence (or 0-D). In the future, this object will be coerced as if it was first converted using `np.array(obj)`. To retain the old behaviour, you have to either modify the type 'Tensor', or assign to an empty array created with `np.empty(correct_shape, dtype=object)`.\n",
      "  plt.plot(range(0,len(hist)), np.abs(hist))\n",
      "C:\\Users\\Kirsch\\AppData\\Local\\Temp/ipykernel_9084/924818254.py:1: VisibleDeprecationWarning: Creating an ndarray from ragged nested sequences (which is a list-or-tuple of lists-or-tuples-or ndarrays with different lengths or shapes) is deprecated. If you meant to do this, you must specify 'dtype=object' when creating the ndarray.\n",
      "  plt.plot(range(0,len(hist)), np.abs(hist))\n"
     ]
    },
    {
     "data": {
      "text/plain": [
       "[<matplotlib.lines.Line2D at 0x21333d9cb80>]"
      ]
     },
     "execution_count": 266,
     "metadata": {},
     "output_type": "execute_result"
    },
    {
     "data": {
      "image/png": "[encoded data removed]",
      "text/plain": [
       "<Figure size 432x288 with 1 Axes>"
      ]
     },
     "metadata": {
      "needs_background": "light"
     },
     "output_type": "display_data"
    }
   ],
   "source": [
    "plt.plot(range(0,len(hist)), np.abs(hist))\n"
   ]
  },
  {
   "cell_type": "markdown",
   "id": "23140cd9",
   "metadata": {},
   "source": [
    "### Test with several features"
   ]
  },
  {
   "cell_type": "markdown",
   "id": "07a1418b",
   "metadata": {},
   "source": [
    "Next steps - more specificity in dataset selection (use sel var)\n",
    "\n",
    "All in a function"
   ]
  },
  {
   "cell_type": "code",
   "execution_count": null,
   "id": "7de3fb08",
   "metadata": {},
   "outputs": [],
   "source": [
    "iteration = 10000  \n",
    "\n",
    "n = 300 \n",
    "alpha = 2\n",
    "beta = 2\n",
    "teta = 1\n",
    "\n",
    "n_feat = 2\n",
    "\n",
    "#Client spec\n",
    "N = 8\n",
    "S = 4\n",
    "\n",
    "x = torch.randn(n, 2)\n",
    "y = []\n",
    "for i in range(len(x)):\n",
    "    y.append(x[i][0]*alpha + x[i][1]*beta)\n",
    "    \n",
    "y = torch.FloatTensor(y)\n",
    "y = y.reshape(300,1)\n",
    "\n",
    "#Create N clients\n",
    "d = []\n",
    "\n",
    "for i in range(0,N):\n",
    "    d.append((x,y))\n",
    "    \n",
    "out_model, hist = fed_sgd(d, iterations, N, S, n_feat)\n"
   ]
  },
  {
   "cell_type": "code",
   "execution_count": 328,
   "id": "4199a4c6",
   "metadata": {},
   "outputs": [
    {
     "name": "stdout",
     "output_type": "stream",
     "text": [
      "learned a = 2.0\n",
      "learned b = 8.234829484976558e-11\n"
     ]
    }
   ],
   "source": [
    "print(\"learned a = {}\".format(list(out_model.parameters())[0].data[0, 0]))\n",
    "print(\"learned b = {}\".format(list(out_model.parameters())[1].data[0]))\n"
   ]
  },
  {
   "cell_type": "code",
   "execution_count": 340,
   "id": "b8e2023c",
   "metadata": {},
   "outputs": [
    {
     "data": {
      "text/plain": [
       "[<matplotlib.lines.Line2D at 0x213344a1160>]"
      ]
     },
     "execution_count": 340,
     "metadata": {},
     "output_type": "execute_result"
    },
    {
     "data": {
      "image/png": "[encoded data removed]",
      "text/plain": [
       "<Figure size 432x288 with 1 Axes>"
      ]
     },
     "metadata": {
      "needs_background": "light"
     },
     "output_type": "display_data"
    }
   ],
   "source": [
    "al = np.stack(hist, axis=0)[:,0][:,0]\n",
    "bet = np.stack(hist, axis=0)[:,0][:,1]\n",
    "\n",
    "plt.plot(range(0,len(al)), np.abs(al))\n",
    "plt.plot(range(0,len(al)), np.abs(bet))\n",
    "\n"
   ]
  },
  {
   "cell_type": "markdown",
   "id": "527c25e0",
   "metadata": {},
   "source": [
    "### Non-linear FedSGD"
   ]
  },
  {
   "cell_type": "code",
   "execution_count": 202,
   "id": "c9e29235",
   "metadata": {},
   "outputs": [
    {
     "name": "stdout",
     "output_type": "stream",
     "text": [
      "Parameter containing:\n",
      "tensor([[-0.0708,  0.0929],\n",
      "        [ 0.0911,  0.6820],\n",
      "        [ 0.0302,  0.4896],\n",
      "        [ 0.3683, -0.4249]], requires_grad=True)\n"
     ]
    },
    {
     "data": {
      "text/plain": [
       "tensor([[0.6321],\n",
       "        [0.5548],\n",
       "        [0.2595],\n",
       "        ...,\n",
       "        [0.5219],\n",
       "        [0.1046],\n",
       "        [0.7204]], grad_fn=<AddBackward0>)"
      ]
     },
     "execution_count": 202,
     "metadata": {},
     "output_type": "execute_result"
    }
   ],
   "source": [
    "#Create toy data from arbitrary model (see if the fed non linear reaches theses weights again)\n",
    "\n",
    "\n",
    "       \n",
    "mod = NeuralNetwork(input_dim, hidden_dim, output_dim)\n",
    "\n",
    "layer_1_w = mod.layer_1.weight\n",
    "#layer_2_w = mod.layer_2.weight\n",
    "\n",
    "x = torch.randn(10000, input_dim)\n",
    "\n",
    "y = mod(x) + (0.1**0.5)*torch.randn(10000,1)\n",
    "\n",
    "print(layer_1_w)\n",
    "#print(mod.layer_1.weight)\n",
    "y"
   ]
  },
  {
   "cell_type": "code",
   "execution_count": 203,
   "id": "ade5725d",
   "metadata": {},
   "outputs": [
    {
     "name": "stdout",
     "output_type": "stream",
     "text": [
      "Training Complete\n",
      "Parameter containing:\n",
      "tensor([[-0.1133,  0.0286],\n",
      "        [ 0.0493, -0.1483],\n",
      "        [-0.0510, -0.4710],\n",
      "        [ 0.0905, -0.4750]], requires_grad=True)\n"
     ]
    }
   ],
   "source": [
    "\n",
    "loss_fn = nn.MSELoss()\n",
    "\n",
    "\n",
    "num_epochs = 10000\n",
    "loss_values = []\n",
    "\n",
    "model = NeuralNetwork(input_dim, hidden_dim, output_dim)\n",
    "optimizer = torch.optim.Adam(model.parameters())\n",
    "\n",
    "losses = []\n",
    "\n",
    "#model.layer_1.weight = layer_1_w\n",
    "#model.layer_1.bias = mod.layer_1.bias\n",
    "\n",
    "#model.layer_2.weight = layer_2_w\n",
    "#model.layer_2.bias = mod.layer_2.bias\n",
    "\n",
    "for epoch in range(num_epochs):\n",
    "    # zero the parameter gradients\n",
    "    optimizer.zero_grad()\n",
    "\n",
    "    # forward + backward + optimize\n",
    "    pred = model(x)\n",
    "    \n",
    "    loss = loss_fn(pred, y.data)\n",
    "    #loss_values.append(loss.item())\n",
    "    \n",
    "    losses.append(loss.item())\n",
    "    loss.backward()\n",
    "\n",
    "    \n",
    "    optimizer.step()\n",
    "\n",
    "print(\"Training Complete\")\n",
    "\n",
    "\n",
    "print(model.layer_1.weight)\n",
    "#print(model.layer_2.weight)\n",
    "\n"
   ]
  },
  {
   "cell_type": "code",
   "execution_count": 204,
   "id": "7f53909a",
   "metadata": {},
   "outputs": [
    {
     "data": {
      "text/plain": [
       "tensor(0.0002, grad_fn=<MseLossBackward0>)"
      ]
     },
     "execution_count": 204,
     "metadata": {},
     "output_type": "execute_result"
    }
   ],
   "source": [
    "x_test = torch.randn(1000, input_dim)\n",
    "\n",
    "y_test = mod(x)\n",
    "\n",
    "y_pred = model(x)\n",
    "\n",
    "loss_fn(y_pred,y_test)"
   ]
  },
  {
   "cell_type": "code",
   "execution_count": 252,
   "id": "739f420f",
   "metadata": {},
   "outputs": [],
   "source": [
    "#Number of clients\n",
    "N = 25\n",
    "S = 3\n",
    "n_feat = 2\n",
    "\n",
    "#Create toy data from arbitrary model (see if the fed non linear reaches theses weights again)\n",
    "input_dim = 2\n",
    "hidden_dim = 10\n",
    "output_dim = 1\n",
    "\n",
    "mod = NeuralNetwork(input_dim, hidden_dim, output_dim)\n",
    "\n",
    "\n",
    "layer_1_w = mod.layer_1.weight\n",
    "layer_2_w = mod.layer_2.weight\n",
    "\n",
    "x = torch.randn(1000, 2)\n",
    "\n",
    "y = mod(x) + (0.1**0.5)*torch.randn(1000,1)\n",
    "#Create N clients\n",
    "d = []\n",
    "\n",
    "for i in range(0,N):\n",
    "    d.append((x,y))\n",
    "\n",
    "\n",
    "iteration = 10000\n",
    "\n",
    "out_mod, loss, mod_test, hist= fed_sgd_nn(d, iteration, N, S, n_feat)"
   ]
  },
  {
   "cell_type": "code",
   "execution_count": 253,
   "id": "9551126e",
   "metadata": {},
   "outputs": [
    {
     "data": {
      "text/plain": [
       "[<matplotlib.lines.Line2D at 0x2181dc9cf10>]"
      ]
     },
     "execution_count": 253,
     "metadata": {},
     "output_type": "execute_result"
    },
    {
     "data": {
      "image/png": "[encoded data removed]",
      "text/plain": [
       "<Figure size 432x288 with 1 Axes>"
      ]
     },
     "metadata": {
      "needs_background": "light"
     },
     "output_type": "display_data"
    }
   ],
   "source": [
    "loss\n",
    "\n",
    "a = [np.mean(loss[i]) for i in range(len(loss))]\n",
    "\n",
    "plt.plot(a)"
   ]
  },
  {
   "cell_type": "code",
   "execution_count": 254,
   "id": "ea03f3f8",
   "metadata": {},
   "outputs": [
    {
     "name": "stdout",
     "output_type": "stream",
     "text": [
      "Parameter containing:\n",
      "tensor([[ 0.5441, -0.4695],\n",
      "        [-0.6912,  0.6151],\n",
      "        [-0.4545,  0.5696],\n",
      "        [-0.6768, -0.5323],\n",
      "        [ 0.6289,  0.4569],\n",
      "        [ 0.5257, -0.5592],\n",
      "        [-0.4697, -0.0510],\n",
      "        [ 0.4751, -0.1097],\n",
      "        [-0.4334, -0.0294],\n",
      "        [-0.5684, -0.3451]], requires_grad=True)\n",
      "Parameter containing:\n",
      "tensor([[ 0.3431, -0.0106],\n",
      "        [-0.4086,  0.1000],\n",
      "        [ 0.7570,  0.2463],\n",
      "        [-0.5171,  0.5699],\n",
      "        [-0.3359,  0.2825],\n",
      "        [-0.7148, -0.2972],\n",
      "        [ 0.2489,  0.7292],\n",
      "        [ 0.6740, -0.6551],\n",
      "        [-0.7724, -1.0396],\n",
      "        [-0.6338, -0.6685]], requires_grad=True)\n"
     ]
    }
   ],
   "source": [
    "print(layer_1_w)\n",
    "print(out_mod.layer_1.weight)"
   ]
  },
  {
   "cell_type": "code",
   "execution_count": 255,
   "id": "80b922be",
   "metadata": {},
   "outputs": [
    {
     "data": {
      "text/plain": [
       "tensor(0.0035, grad_fn=<MseLossBackward0>)"
      ]
     },
     "execution_count": 255,
     "metadata": {},
     "output_type": "execute_result"
    }
   ],
   "source": [
    "x_test = torch.randn(1000, input_dim)\n",
    "\n",
    "y_test = mod(x)\n",
    "\n",
    "y_pred = out_mod(x)\n",
    "\n",
    "loss_fn(y_pred,y_test)"
   ]
  },
  {
   "cell_type": "code",
   "execution_count": 257,
   "id": "eae70e78",
   "metadata": {},
   "outputs": [],
   "source": [
    "class NeuralNetwork(nn.Module):\n",
    "    def __init__(self, input_dim, hidden_dim, output_dim):\n",
    "        super(NeuralNetwork, self).__init__()\n",
    "        self.layer_1 = nn.Linear(input_dim, hidden_dim)\n",
    "        \n",
    "        self.layer_2 = nn.Linear(hidden_dim, output_dim)\n",
    "       \n",
    "    def forward(self, x):\n",
    "        x = torch.nn.functional.relu(self.layer_1(x))\n",
    "        x = self.layer_2(x)\n",
    "        return x\n",
    "\n",
    "    \n",
    "\n",
    "def fed_sgd_nn(data, iterations, N, S, n_feat, hidden_dim):\n",
    "    \n",
    "    grad_mean_hist = [None]*iterations\n",
    "    \n",
    "    #Definition of the server model\n",
    "    model_server = NeuralNetwork(n_feat, hidden_dim, 1)\n",
    "    optimizer_server = optim.Adam(model_server.parameters())\n",
    "    loss_fn = nn.MSELoss()\n",
    "\n",
    "    \n",
    "    #One model per clients\n",
    "    models = [None]*S\n",
    "    opti = [None]*S\n",
    "    loss_fct = [None]*S\n",
    "\n",
    "    for i in range(len(models)):\n",
    "        models[i] = NeuralNetwork(n_feat, hidden_dim, 1)\n",
    "        \n",
    "        opti[i] = optim.Adam(models[i].parameters())\n",
    "        loss_fct[i] = nn.MSELoss()\n",
    "\n",
    "    mse = []    \n",
    "    #Iterations\n",
    "    for i in range(0,iterations):\n",
    "\n",
    "\n",
    "        \n",
    "        #Random selection of clients\n",
    "        a = list(range(0,N))\n",
    "        sel = random.sample(a,S)\n",
    "        \n",
    "        \n",
    "        grad_l1 = []\n",
    "        bias_l1 = []\n",
    "        \n",
    "        \n",
    "        grad_l2 = []\n",
    "        bias_l2 = []\n",
    "        \n",
    "        loc = 0\n",
    "\n",
    "        loss = [None]*S\n",
    "        \n",
    "\n",
    "        #Clients iteration\n",
    "        for j in sel:\n",
    "            #First layer\n",
    "            \n",
    "            models[loc].layer_1.weight = model_server.layer_1.weight\n",
    "            \n",
    "            #print(models[loc].layer_1.weight)\n",
    "            models[loc].layer_1.weight.grad = None\n",
    "            models[loc].layer_1.bias = model_server.layer_1.bias\n",
    "            models[loc].layer_1.bias.grad = None\n",
    "            \n",
    "            opti[loc].zero_grad()\n",
    "            \n",
    "            #print(models[loc].layer_1.bias)\n",
    "            \n",
    "            #Second layer\n",
    "            \n",
    "            models[loc].layer_2.weight = model_server.layer_2.weight\n",
    "            models[loc].layer_2.weight.grad = None\n",
    "            models[loc].layer_2.bias = model_server.layer_2.bias\n",
    "            models[loc].layer_2.bias.grad = None\n",
    "\n",
    "            predictions = models[loc](data[j][0])\n",
    "            \n",
    "\n",
    "            \n",
    "            loss[loc] = loss_fct[loc](predictions, data[j][1])\n",
    "            \n",
    "            #print(loss[loc])\n",
    "            \n",
    "            loss[loc].backward(retain_graph = True)\n",
    "            \n",
    "            \n",
    "            loss[loc] = loss[loc].item()\n",
    "            #print(models[loc].layer_1.weight.grad)\n",
    "\n",
    "            grad_l1.append(models[loc].layer_1.weight.grad.numpy())\n",
    "            bias_l1.append(models[loc].layer_1.bias.grad.numpy())\n",
    "            \n",
    "\n",
    "            \n",
    "            grad_l2.append(models[loc].layer_2.weight.grad.numpy())\n",
    "            bias_l2.append(models[loc].layer_2.bias.grad.numpy())\n",
    "            \n",
    "            loc+=1\n",
    "        \n",
    "        #print(grad_l1)\n",
    "        mse.append((loss))\n",
    "        grad_l1 = np.stack(grad_l1, axis=0)\n",
    "\n",
    "        grad_l2 = np.stack(grad_l2, axis=0)\n",
    "        \n",
    "        grad_mean_l1 = torch.FloatTensor(grad_l1.mean(axis = 0))\n",
    "        \n",
    "\n",
    "        \n",
    "        grad_mean_l2 = torch.FloatTensor(grad_l2.mean(axis = 0))\n",
    "        #print(grad_mean_l1)\n",
    "        grad_mean_hist[i] = grad_mean_l1\n",
    "        #print(\"errr\")\n",
    "        #print(grad_mean_hist)\n",
    "        \n",
    "        bias_l1 = np.stack(bias_l1, axis = 0)\n",
    "        bias_mean_l1 = torch.FloatTensor(bias_l1.mean(axis = 0))\n",
    "        bias_mean_l2 = torch.FloatTensor([np.mean(bias_l2)])\n",
    "        \n",
    "        \n",
    "        model_server.layer_1.weight.grad = grad_mean_l1\n",
    "        #print(model_server.layer_1.weight.grad)\n",
    "        model_server.layer_2.weight.grad = grad_mean_l2\n",
    "\n",
    "        model_server.layer_1.bias.grad = bias_mean_l1\n",
    "        model_server.layer_2.bias.grad = bias_mean_l2\n",
    "        \n",
    "        optimizer_server.step()\n",
    "    return model_server, mse, grad_mean_hist"
   ]
  }
 ],
 "metadata": {
  "kernelspec": {
   "display_name": "Python 3 (ipykernel)",
   "language": "python",
   "name": "python3"
  },
  "language_info": {
   "codemirror_mode": {
    "name": "ipython",
    "version": 3
   },
   "file_extension": ".py",
   "mimetype": "text/x-python",
   "name": "python",
   "nbconvert_exporter": "python",
   "pygments_lexer": "ipython3",
   "version": "3.9.7"
  }
 },
 "nbformat": 4,
 "nbformat_minor": 5
}
