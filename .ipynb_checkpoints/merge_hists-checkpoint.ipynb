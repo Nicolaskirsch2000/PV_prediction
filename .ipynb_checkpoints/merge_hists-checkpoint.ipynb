{
 "cells": [
  {
   "cell_type": "code",
   "execution_count": 1,
   "id": "18dc2f81",
   "metadata": {},
   "outputs": [],
   "source": [
    "import numpy as np\n",
    "import pandas as pd"
   ]
  },
  {
   "cell_type": "markdown",
   "id": "85bc6010",
   "metadata": {},
   "source": [
    "## Reduce by one "
   ]
  },
  {
   "cell_type": "code",
   "execution_count": 2,
   "id": "335273dc",
   "metadata": {},
   "outputs": [
    {
     "name": "stdout",
     "output_type": "stream",
     "text": [
      "[1, 2, 5, 6, 9, 11]\n",
      "1\n"
     ]
    },
    {
     "data": {
      "text/plain": [
       "[5, 6, 9, 11, 1.5]"
      ]
     },
     "execution_count": 2,
     "metadata": {},
     "output_type": "execute_result"
    }
   ],
   "source": [
    "a = [1,5,9,6,2,11]\n",
    "a.sort()\n",
    "print(a)\n",
    "b = [j-i for i, j in zip(a[:-1], a[1:])]\n",
    "mini =  b.index(min(b))\n",
    "\n",
    "a.append((a[mini]+a[mini+1])/2)\n",
    "print(a[mini])\n",
    "a.pop(mini)\n",
    "a.pop(mini)\n",
    "a"
   ]
  },
  {
   "cell_type": "markdown",
   "id": "480e35fc",
   "metadata": {},
   "source": [
    "## Reduce to k from m "
   ]
  },
  {
   "cell_type": "code",
   "execution_count": 3,
   "id": "365caa1e",
   "metadata": {},
   "outputs": [
    {
     "name": "stdout",
     "output_type": "stream",
     "text": [
      "[1, 5, 9, 6, 2, 11]\n",
      "[1, 2, 5, 6, 9, 11]\n",
      "[1.5, 5.5, 10.0]\n"
     ]
    }
   ],
   "source": [
    "k = 3\n",
    "a = [1,5,9,6,2,11]\n",
    "m = len(a)\n",
    "\n",
    "print(a)\n",
    "print(sorted(a))\n",
    "while k<m:\n",
    "    a.sort()\n",
    "\n",
    "    b = [j-i for i, j in zip(a[:-1], a[1:])]\n",
    "\n",
    "    mini =  b.index(min(b))\n",
    "\n",
    "    a.append((a[mini]+a[mini+1])/2)\n",
    "    a.pop(mini)\n",
    "    a.pop(mini)\n",
    "    m = len(a)\n",
    "    \n",
    "print(a)"
   ]
  },
  {
   "cell_type": "markdown",
   "id": "d3724c4c",
   "metadata": {},
   "source": [
    "## Reduce dataframe"
   ]
  },
  {
   "cell_type": "code",
   "execution_count": 37,
   "id": "e42bdfac",
   "metadata": {},
   "outputs": [
    {
     "data": {
      "text/html": [
       "<div>\n",
       "<style scoped>\n",
       "    .dataframe tbody tr th:only-of-type {\n",
       "        vertical-align: middle;\n",
       "    }\n",
       "\n",
       "    .dataframe tbody tr th {\n",
       "        vertical-align: top;\n",
       "    }\n",
       "\n",
       "    .dataframe thead th {\n",
       "        text-align: right;\n",
       "    }\n",
       "</style>\n",
       "<table border=\"1\" class=\"dataframe\">\n",
       "  <thead>\n",
       "    <tr style=\"text-align: right;\">\n",
       "      <th></th>\n",
       "      <th>X</th>\n",
       "      <th>g</th>\n",
       "      <th>h</th>\n",
       "    </tr>\n",
       "  </thead>\n",
       "  <tbody>\n",
       "    <tr>\n",
       "      <th>0</th>\n",
       "      <td>1</td>\n",
       "      <td>2</td>\n",
       "      <td>12</td>\n",
       "    </tr>\n",
       "    <tr>\n",
       "      <th>1</th>\n",
       "      <td>2</td>\n",
       "      <td>8</td>\n",
       "      <td>4</td>\n",
       "    </tr>\n",
       "    <tr>\n",
       "      <th>2</th>\n",
       "      <td>5</td>\n",
       "      <td>1</td>\n",
       "      <td>0</td>\n",
       "    </tr>\n",
       "    <tr>\n",
       "      <th>3</th>\n",
       "      <td>6</td>\n",
       "      <td>5</td>\n",
       "      <td>3</td>\n",
       "    </tr>\n",
       "    <tr>\n",
       "      <th>4</th>\n",
       "      <td>9</td>\n",
       "      <td>4</td>\n",
       "      <td>-1</td>\n",
       "    </tr>\n",
       "    <tr>\n",
       "      <th>5</th>\n",
       "      <td>11</td>\n",
       "      <td>1</td>\n",
       "      <td>2</td>\n",
       "    </tr>\n",
       "  </tbody>\n",
       "</table>\n",
       "</div>"
      ],
      "text/plain": [
       "    X  g   h\n",
       "0   1  2  12\n",
       "1   2  8   4\n",
       "2   5  1   0\n",
       "3   6  5   3\n",
       "4   9  4  -1\n",
       "5  11  1   2"
      ]
     },
     "execution_count": 37,
     "metadata": {},
     "output_type": "execute_result"
    }
   ],
   "source": [
    "df = pd.DataFrame({\"X\":[1,5,9,6,2,11],\"g\":[2,1,4,5,8,1],\"h\":[12,0,-1,3,4,2]})\n",
    "\n",
    "\n",
    "df = df.sort_values(by=['X'])\n",
    "df.reset_index(inplace = True, drop = True)\n",
    "df"
   ]
  },
  {
   "cell_type": "code",
   "execution_count": 34,
   "id": "da0c7bc3",
   "metadata": {},
   "outputs": [
    {
     "data": {
      "text/html": [
       "<div>\n",
       "<style scoped>\n",
       "    .dataframe tbody tr th:only-of-type {\n",
       "        vertical-align: middle;\n",
       "    }\n",
       "\n",
       "    .dataframe tbody tr th {\n",
       "        vertical-align: top;\n",
       "    }\n",
       "\n",
       "    .dataframe thead th {\n",
       "        text-align: right;\n",
       "    }\n",
       "</style>\n",
       "<table border=\"1\" class=\"dataframe\">\n",
       "  <thead>\n",
       "    <tr style=\"text-align: right;\">\n",
       "      <th></th>\n",
       "      <th>X</th>\n",
       "      <th>g</th>\n",
       "      <th>h</th>\n",
       "    </tr>\n",
       "  </thead>\n",
       "  <tbody>\n",
       "    <tr>\n",
       "      <th>0</th>\n",
       "      <td>1.5</td>\n",
       "      <td>10.0</td>\n",
       "      <td>16.0</td>\n",
       "    </tr>\n",
       "    <tr>\n",
       "      <th>1</th>\n",
       "      <td>5.5</td>\n",
       "      <td>6.0</td>\n",
       "      <td>3.0</td>\n",
       "    </tr>\n",
       "    <tr>\n",
       "      <th>4</th>\n",
       "      <td>10.0</td>\n",
       "      <td>5.0</td>\n",
       "      <td>1.0</td>\n",
       "    </tr>\n",
       "  </tbody>\n",
       "</table>\n",
       "</div>"
      ],
      "text/plain": [
       "      X     g     h\n",
       "0   1.5  10.0  16.0\n",
       "1   5.5   6.0   3.0\n",
       "4  10.0   5.0   1.0"
      ]
     },
     "execution_count": 34,
     "metadata": {},
     "output_type": "execute_result"
    }
   ],
   "source": [
    "df = pd.DataFrame({\"X\":[1,5,9,6,2,11],\"g\":[2,1,4,5,8,1],\"h\":[12,0,-1,3,4,2]})\n",
    "\n",
    "\n",
    "k = 3\n",
    "m = len(df)\n",
    "\n",
    "while k<m:\n",
    "    df = df.sort_values(by=['X'])\n",
    "    df.reset_index(inplace = True, drop = True)\n",
    "    a = list(df[\"X\"])\n",
    "    b = [j-i for i, j in zip(a[:-1], a[1:])]\n",
    "\n",
    "    mini = b.index(min(b))\n",
    "\n",
    "    new = [(a[mini]+a[mini+1])/2,df[\"g\"][mini]+df[\"g\"][mini+1],df[\"h\"][mini]+df[\"h\"][mini+1]]\n",
    "\n",
    "    df.loc[len(df)] = new\n",
    "    df.drop([mini,mini+1], inplace = True)\n",
    "    m = len(df)\n",
    "df"
   ]
  },
  {
   "cell_type": "code",
   "execution_count": 39,
   "id": "3185c890",
   "metadata": {},
   "outputs": [],
   "source": [
    "def merge_hist(df,k):\n",
    "    m = len(df)\n",
    "    if k>m:\n",
    "        print(\"already satisfied\")\n",
    "        return df\n",
    "    else:\n",
    "        while k<m:\n",
    "            df = df.sort_values(by=['X'])\n",
    "            df.reset_index(inplace = True, drop = True)\n",
    "            a = list(df[\"X\"])\n",
    "            b = [j-i for i, j in zip(a[:-1], a[1:])]\n",
    "\n",
    "            mini = b.index(min(b))\n",
    "\n",
    "            new = [(a[mini]+a[mini+1])/2,df[\"g\"][mini]+df[\"g\"][mini+1],df[\"h\"][mini]+df[\"h\"][mini+1]]\n",
    "\n",
    "            df.loc[len(df)] = new\n",
    "            df.drop([mini,mini+1], inplace = True)\n",
    "            m = len(df)\n",
    "        return df\n"
   ]
  },
  {
   "cell_type": "code",
   "execution_count": 42,
   "id": "50baa945",
   "metadata": {},
   "outputs": [
    {
     "data": {
      "text/html": [
       "<div>\n",
       "<style scoped>\n",
       "    .dataframe tbody tr th:only-of-type {\n",
       "        vertical-align: middle;\n",
       "    }\n",
       "\n",
       "    .dataframe tbody tr th {\n",
       "        vertical-align: top;\n",
       "    }\n",
       "\n",
       "    .dataframe thead th {\n",
       "        text-align: right;\n",
       "    }\n",
       "</style>\n",
       "<table border=\"1\" class=\"dataframe\">\n",
       "  <thead>\n",
       "    <tr style=\"text-align: right;\">\n",
       "      <th></th>\n",
       "      <th>X</th>\n",
       "      <th>g</th>\n",
       "      <th>h</th>\n",
       "    </tr>\n",
       "  </thead>\n",
       "  <tbody>\n",
       "    <tr>\n",
       "      <th>0</th>\n",
       "      <td>1.5</td>\n",
       "      <td>10.0</td>\n",
       "      <td>16.0</td>\n",
       "    </tr>\n",
       "    <tr>\n",
       "      <th>1</th>\n",
       "      <td>5.5</td>\n",
       "      <td>6.0</td>\n",
       "      <td>3.0</td>\n",
       "    </tr>\n",
       "    <tr>\n",
       "      <th>4</th>\n",
       "      <td>10.0</td>\n",
       "      <td>5.0</td>\n",
       "      <td>1.0</td>\n",
       "    </tr>\n",
       "  </tbody>\n",
       "</table>\n",
       "</div>"
      ],
      "text/plain": [
       "      X     g     h\n",
       "0   1.5  10.0  16.0\n",
       "1   5.5   6.0   3.0\n",
       "4  10.0   5.0   1.0"
      ]
     },
     "execution_count": 42,
     "metadata": {},
     "output_type": "execute_result"
    }
   ],
   "source": [
    "df = pd.DataFrame({\"X\":[1,5,9,6,2,11],\"g\":[2,1,4,5,8,1],\"h\":[12,0,-1,3,4,2]})\n",
    "\n",
    "df_merged = merge_hist(df, 3)\n",
    "df_merged"
   ]
  }
 ],
 "metadata": {
  "kernelspec": {
   "display_name": "Python 3 (ipykernel)",
   "language": "python",
   "name": "python3"
  },
  "language_info": {
   "codemirror_mode": {
    "name": "ipython",
    "version": 3
   },
   "file_extension": ".py",
   "mimetype": "text/x-python",
   "name": "python",
   "nbconvert_exporter": "python",
   "pygments_lexer": "ipython3",
   "version": "3.9.7"
  }
 },
 "nbformat": 4,
 "nbformat_minor": 5
}
